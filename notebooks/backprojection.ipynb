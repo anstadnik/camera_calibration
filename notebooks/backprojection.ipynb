{
 "cells": [
  {
   "cell_type": "markdown",
   "id": "3d41889b-1adc-4e3d-b362-4f153097ea6b",
   "metadata": {
    "tags": []
   },
   "source": [
    "# Init"
   ]
  },
  {
   "cell_type": "code",
   "execution_count": 1,
   "id": "175a0e6a-b481-44a8-ab48-00db6ce0eb88",
   "metadata": {
    "tags": []
   },
   "outputs": [],
   "source": [
    "!sage -pip install -q plotly tqdm"
   ]
  },
  {
   "cell_type": "code",
   "execution_count": 2,
   "id": "efb5eae3-c755-491d-a536-95466e6fbc61",
   "metadata": {
    "tags": []
   },
   "outputs": [],
   "source": [
    "from tqdm.auto import tqdm\n",
    "import plotly.express as px"
   ]
  },
  {
   "cell_type": "code",
   "execution_count": 3,
   "id": "9c6c80c6-70c2-4431-8015-c7065e43a13c",
   "metadata": {
    "tags": []
   },
   "outputs": [],
   "source": [
    "%display latex\n",
    "\n",
    "# https://github.com/jupyter-lsp/jupyterlab-lsp/issues/910#issuecomment-1465356625"
   ]
  },
  {
   "cell_type": "markdown",
   "id": "a967ca8a-d6e4-49ac-8658-87771656b7a0",
   "metadata": {
    "tags": []
   },
   "source": [
    "# Backprojection"
   ]
  },
  {
   "cell_type": "markdown",
   "id": "6a86e3e0-8b8c-4bc3-94fc-6a999b91b557",
   "metadata": {},
   "source": [
    "## Extrinsics"
   ]
  },
  {
   "cell_type": "code",
   "execution_count": 4,
   "id": "474f607d-556a-4d6f-8882-f0f80055d2c7",
   "metadata": {
    "tags": []
   },
   "outputs": [],
   "source": [
    "f1, f2 = var(\"f1 f2\")\n",
    "F = diagonal_matrix([f1, f2, 1])"
   ]
  },
  {
   "cell_type": "code",
   "execution_count": 5,
   "id": "eb7fea69-3e65-4e3f-b269-9c4731fa40be",
   "metadata": {
    "tags": []
   },
   "outputs": [],
   "source": [
    "RT = matrix(SR, [[f\"R_{i}{j}\" for i in range(1, 4)] + [f\"t_{j}\"] for j in range(1, 4)])"
   ]
  },
  {
   "cell_type": "code",
   "execution_count": 6,
   "id": "2d73fe84-f26d-4d67-9bf3-fe4addebfd50",
   "metadata": {
    "tags": []
   },
   "outputs": [],
   "source": [
    "P = F * RT"
   ]
  },
  {
   "cell_type": "code",
   "execution_count": 7,
   "id": "37c219f5-ec30-4fd6-a600-4a0df1f2d0fb",
   "metadata": {
    "tags": []
   },
   "outputs": [
    {
     "data": {
      "text/html": [
       "<html>\\(\\displaystyle \\left(\\left(\\begin{array}{rrr}\n",
       "f_{1} & 0 & 0 \\\\\n",
       "0 & f_{2} & 0 \\\\\n",
       "0 & 0 & 1\n",
       "\\end{array}\\right), \\left(\\begin{array}{rrrr}\n",
       "R_{11} & R_{21} & R_{31} & t_{1} \\\\\n",
       "R_{12} & R_{22} & R_{32} & t_{2} \\\\\n",
       "R_{13} & R_{23} & R_{33} & t_{3}\n",
       "\\end{array}\\right), \\left(\\begin{array}{rrrr}\n",
       "R_{11} f_{1} & R_{21} f_{1} & R_{31} f_{1} & f_{1} t_{1} \\\\\n",
       "R_{12} f_{2} & R_{22} f_{2} & R_{32} f_{2} & f_{2} t_{2} \\\\\n",
       "R_{13} & R_{23} & R_{33} & t_{3}\n",
       "\\end{array}\\right)\\right)\\)</html>"
      ],
      "text/latex": [
       "$\\displaystyle \\left(\\left(\\begin{array}{rrr}\n",
       "f_{1} & 0 & 0 \\\\\n",
       "0 & f_{2} & 0 \\\\\n",
       "0 & 0 & 1\n",
       "\\end{array}\\right), \\left(\\begin{array}{rrrr}\n",
       "R_{11} & R_{21} & R_{31} & t_{1} \\\\\n",
       "R_{12} & R_{22} & R_{32} & t_{2} \\\\\n",
       "R_{13} & R_{23} & R_{33} & t_{3}\n",
       "\\end{array}\\right), \\left(\\begin{array}{rrrr}\n",
       "R_{11} f_{1} & R_{21} f_{1} & R_{31} f_{1} & f_{1} t_{1} \\\\\n",
       "R_{12} f_{2} & R_{22} f_{2} & R_{32} f_{2} & f_{2} t_{2} \\\\\n",
       "R_{13} & R_{23} & R_{33} & t_{3}\n",
       "\\end{array}\\right)\\right)$"
      ],
      "text/plain": [
       "(\n",
       "[f1  0  0]  [R_11 R_21 R_31  t_1]  [R_11*f1 R_21*f1 R_31*f1  f1*t_1]\n",
       "[ 0 f2  0]  [R_12 R_22 R_32  t_2]  [R_12*f2 R_22*f2 R_32*f2  f2*t_2]\n",
       "[ 0  0  1], [R_13 R_23 R_33  t_3], [   R_13    R_23    R_33     t_3]\n",
       ")"
      ]
     },
     "execution_count": 7,
     "metadata": {},
     "output_type": "execute_result"
    }
   ],
   "source": [
    "F, RT, P"
   ]
  },
  {
   "cell_type": "code",
   "execution_count": 8,
   "id": "2fb364c1-b839-4bd6-a405-b43440fafc7f",
   "metadata": {
    "tags": []
   },
   "outputs": [],
   "source": [
    "# [a == b for a, b in zip((F*F.T).list() , (RT*RT.T).list())]"
   ]
  },
  {
   "cell_type": "markdown",
   "id": "f5923a1b-e42e-4d73-8b99-e4d3d22f30fc",
   "metadata": {},
   "source": [
    "## Intrinsics"
   ]
  },
  {
   "cell_type": "code",
   "execution_count": 9,
   "id": "fc65d071-89d3-43b1-90dd-ccf396cd4439",
   "metadata": {
    "tags": []
   },
   "outputs": [],
   "source": [
    "alpha, s, u1, u2 = var(\"alpha s u1 u2\")\n",
    "u = vector([u1, u2, 1])\n",
    "e = vector(list(var(\"e_x e_y\")) + [1])\n",
    "T = matrix.identity(SR, 3)\n",
    "T[:, 2] = -e"
   ]
  },
  {
   "cell_type": "code",
   "execution_count": 10,
   "id": "32beb0f7-9ad4-4e34-ad06-7b01ac0a2518",
   "metadata": {
    "tags": []
   },
   "outputs": [
    {
     "data": {
      "text/html": [
       "<html>\\(\\displaystyle \\left(\\begin{array}{rrr}\n",
       "\\frac{1}{\\alpha s} & 0 & -\\frac{e_{x}}{\\alpha s} \\\\\n",
       "0 & \\frac{1}{s} & -\\frac{e_{y}}{s} \\\\\n",
       "0 & 0 & -1\n",
       "\\end{array}\\right)\\)</html>"
      ],
      "text/latex": [
       "$\\displaystyle \\left(\\begin{array}{rrr}\n",
       "\\frac{1}{\\alpha s} & 0 & -\\frac{e_{x}}{\\alpha s} \\\\\n",
       "0 & \\frac{1}{s} & -\\frac{e_{y}}{s} \\\\\n",
       "0 & 0 & -1\n",
       "\\end{array}\\right)$"
      ],
      "text/plain": [
       "[   1/(alpha*s)              0 -e_x/(alpha*s)]\n",
       "[             0            1/s         -e_y/s]\n",
       "[             0              0             -1]"
      ]
     },
     "execution_count": 10,
     "metadata": {},
     "output_type": "execute_result"
    }
   ],
   "source": [
    "A = diagonal_matrix([1 / alpha, 1, 1]) * diagonal_matrix([1 / s, 1 / s, 1]) * T\n",
    "A"
   ]
  },
  {
   "cell_type": "markdown",
   "id": "7ab58a09-9eb6-4b32-a0da-e3474780c556",
   "metadata": {},
   "source": [
    "## 3D point"
   ]
  },
  {
   "cell_type": "code",
   "execution_count": 11,
   "id": "72e95a23-4c6e-451c-a9f3-341b00df7bb8",
   "metadata": {
    "tags": []
   },
   "outputs": [
    {
     "data": {
      "text/html": [
       "<html>\\(\\displaystyle \\left(X_{1},\\,X_{2},\\,0,\\,1\\right)\\)</html>"
      ],
      "text/latex": [
       "$\\displaystyle \\left(X_{1},\\,X_{2},\\,0,\\,1\\right)$"
      ],
      "text/plain": [
       "(X_1, X_2, 0, 1)"
      ]
     },
     "execution_count": 11,
     "metadata": {},
     "output_type": "execute_result"
    }
   ],
   "source": [
    "X = vector(SR, [var(f\"X_{i}\") for i in range(1, 3)] + [0, 1])\n",
    "X"
   ]
  },
  {
   "cell_type": "markdown",
   "id": "5209493c-491d-4e2c-963b-c497a844572a",
   "metadata": {},
   "source": [
    "## Distortion"
   ]
  },
  {
   "cell_type": "code",
   "execution_count": 12,
   "id": "59ec9b57-4a8c-45fb-b4f2-e906750e5efe",
   "metadata": {
    "tags": []
   },
   "outputs": [],
   "source": [
    "lambda_1, lambda_2, lambda_3 = var(\"lambda_1 lambda_2 lambda_3\", domain=\"real\")\n",
    "\n",
    "\n",
    "def psi(r, n=2):\n",
    "    assert 1 <= n <= 3\n",
    "    ret = 1 + lambda_1 * r ^ 2\n",
    "    if n >= 2:\n",
    "        ret += lambda_2 * r ^ 4\n",
    "    if n == 3:\n",
    "        ret += lambda_3 * r ^ 6\n",
    "    return ret\n",
    "\n",
    "\n",
    "r = lambda u: norm(u[0:2])\n",
    "g = lambda u, n=2: vector([u[0], u[1], psi(r(u), n)])"
   ]
  },
  {
   "cell_type": "code",
   "execution_count": 13,
   "id": "e67585fb-e6e9-44cf-9ddc-4a285f1feb80",
   "metadata": {
    "tags": []
   },
   "outputs": [
    {
     "data": {
      "text/html": [
       "<html>\\(\\displaystyle \\left(-\\frac{e_{x}}{\\alpha s} + \\frac{u_{1}}{\\alpha s},\\,-\\frac{e_{y}}{s} + \\frac{u_{2}}{s},\\,{\\left({\\left| -\\frac{e_{y}}{s} + \\frac{u_{2}}{s} \\right|}^{2} + {\\left| -\\frac{e_{x}}{\\alpha s} + \\frac{u_{1}}{\\alpha s} \\right|}^{2}\\right)}^{2} \\lambda_{2} + {\\left({\\left| -\\frac{e_{y}}{s} + \\frac{u_{2}}{s} \\right|}^{2} + {\\left| -\\frac{e_{x}}{\\alpha s} + \\frac{u_{1}}{\\alpha s} \\right|}^{2}\\right)} \\lambda_{1} + 1\\right)\\)</html>"
      ],
      "text/latex": [
       "$\\displaystyle \\left(-\\frac{e_{x}}{\\alpha s} + \\frac{u_{1}}{\\alpha s},\\,-\\frac{e_{y}}{s} + \\frac{u_{2}}{s},\\,{\\left({\\left| -\\frac{e_{y}}{s} + \\frac{u_{2}}{s} \\right|}^{2} + {\\left| -\\frac{e_{x}}{\\alpha s} + \\frac{u_{1}}{\\alpha s} \\right|}^{2}\\right)}^{2} \\lambda_{2} + {\\left({\\left| -\\frac{e_{y}}{s} + \\frac{u_{2}}{s} \\right|}^{2} + {\\left| -\\frac{e_{x}}{\\alpha s} + \\frac{u_{1}}{\\alpha s} \\right|}^{2}\\right)} \\lambda_{1} + 1\\right)$"
      ],
      "text/plain": [
       "(-e_x/(alpha*s) + u1/(alpha*s), -e_y/s + u2/s, (abs(-e_y/s + u2/s)^2 + abs(-e_x/(alpha*s) + u1/(alpha*s))^2)^2*lambda_2 + (abs(-e_y/s + u2/s)^2 + abs(-e_x/(alpha*s) + u1/(alpha*s))^2)*lambda_1 + 1)"
      ]
     },
     "execution_count": 13,
     "metadata": {},
     "output_type": "execute_result"
    }
   ],
   "source": [
    "g(A * u)"
   ]
  },
  {
   "cell_type": "markdown",
   "id": "f69c8f06-9a28-4be3-9bb2-73607f07302b",
   "metadata": {},
   "source": [
    "## Backprojection"
   ]
  },
  {
   "cell_type": "code",
   "execution_count": 14,
   "id": "77d321c8-504f-495a-9d69-69f69620d388",
   "metadata": {
    "tags": []
   },
   "outputs": [],
   "source": [
    "gamma = var(\"gamma\")"
   ]
  },
  {
   "cell_type": "code",
   "execution_count": 15,
   "id": "f8451158-7542-4ef2-bee2-7b769680c6a8",
   "metadata": {
    "tags": []
   },
   "outputs": [
    {
     "data": {
      "text/html": [
       "<html>\\(\\displaystyle \\left(-\\gamma {\\left(\\frac{e_{x}}{\\alpha s} - \\frac{u_{1}}{\\alpha s}\\right)},\\,-\\gamma {\\left(\\frac{e_{y}}{s} - \\frac{u_{2}}{s}\\right)},\\,{\\left({\\left({\\left| -\\frac{e_{y}}{s} + \\frac{u_{2}}{s} \\right|}^{2} + {\\left| -\\frac{e_{x}}{\\alpha s} + \\frac{u_{1}}{\\alpha s} \\right|}^{2}\\right)}^{2} \\lambda_{2} + {\\left({\\left| -\\frac{e_{y}}{s} + \\frac{u_{2}}{s} \\right|}^{2} + {\\left| -\\frac{e_{x}}{\\alpha s} + \\frac{u_{1}}{\\alpha s} \\right|}^{2}\\right)} \\lambda_{1} + 1\\right)} \\gamma\\right)\\)</html>"
      ],
      "text/latex": [
       "$\\displaystyle \\left(-\\gamma {\\left(\\frac{e_{x}}{\\alpha s} - \\frac{u_{1}}{\\alpha s}\\right)},\\,-\\gamma {\\left(\\frac{e_{y}}{s} - \\frac{u_{2}}{s}\\right)},\\,{\\left({\\left({\\left| -\\frac{e_{y}}{s} + \\frac{u_{2}}{s} \\right|}^{2} + {\\left| -\\frac{e_{x}}{\\alpha s} + \\frac{u_{1}}{\\alpha s} \\right|}^{2}\\right)}^{2} \\lambda_{2} + {\\left({\\left| -\\frac{e_{y}}{s} + \\frac{u_{2}}{s} \\right|}^{2} + {\\left| -\\frac{e_{x}}{\\alpha s} + \\frac{u_{1}}{\\alpha s} \\right|}^{2}\\right)} \\lambda_{1} + 1\\right)} \\gamma\\right)$"
      ],
      "text/plain": [
       "(-gamma*(e_x/(alpha*s) - u1/(alpha*s)), -gamma*(e_y/s - u2/s), ((abs(-e_y/s + u2/s)^2 + abs(-e_x/(alpha*s) + u1/(alpha*s))^2)^2*lambda_2 + (abs(-e_y/s + u2/s)^2 + abs(-e_x/(alpha*s) + u1/(alpha*s))^2)*lambda_1 + 1)*gamma)"
      ]
     },
     "metadata": {},
     "output_type": "display_data"
    },
    {
     "data": {
      "text/html": [
       "<html>\\(\\displaystyle \\left(R_{11} X_{1} f_{1} + R_{21} X_{2} f_{1} + f_{1} t_{1},\\,R_{12} X_{1} f_{2} + R_{22} X_{2} f_{2} + f_{2} t_{2},\\,R_{13} X_{1} + R_{23} X_{2} + t_{3}\\right)\\)</html>"
      ],
      "text/latex": [
       "$\\displaystyle \\left(R_{11} X_{1} f_{1} + R_{21} X_{2} f_{1} + f_{1} t_{1},\\,R_{12} X_{1} f_{2} + R_{22} X_{2} f_{2} + f_{2} t_{2},\\,R_{13} X_{1} + R_{23} X_{2} + t_{3}\\right)$"
      ],
      "text/plain": [
       "(R_11*X_1*f1 + R_21*X_2*f1 + f1*t_1, R_12*X_1*f2 + R_22*X_2*f2 + f2*t_2, R_13*X_1 + R_23*X_2 + t_3)"
      ]
     },
     "metadata": {},
     "output_type": "display_data"
    }
   ],
   "source": [
    "# https://github.com/sagemath/sage/issues/35264\n",
    "backproj = gamma * g(A * u), P * X\n",
    "\n",
    "display(backproj[0])\n",
    "display(backproj[1])"
   ]
  },
  {
   "cell_type": "code",
   "execution_count": 16,
   "id": "fb901983-f91a-4af8-9738-b97445ab5fb5",
   "metadata": {
    "tags": []
   },
   "outputs": [
    {
     "data": {
      "text/html": [
       "<html>\\(\\displaystyle -\\gamma {\\left(\\frac{e_{x}}{\\alpha s} - \\frac{u_{1}}{\\alpha s}\\right)} = R_{11} X_{1} f_{1} + R_{21} X_{2} f_{1} + f_{1} t_{1}\\)</html>"
      ],
      "text/latex": [
       "$\\displaystyle -\\gamma {\\left(\\frac{e_{x}}{\\alpha s} - \\frac{u_{1}}{\\alpha s}\\right)} = R_{11} X_{1} f_{1} + R_{21} X_{2} f_{1} + f_{1} t_{1}$"
      ],
      "text/plain": [
       "-gamma*(e_x/(alpha*s) - u1/(alpha*s)) == R_11*X_1*f1 + R_21*X_2*f1 + f1*t_1"
      ]
     },
     "metadata": {},
     "output_type": "display_data"
    },
    {
     "data": {
      "text/html": [
       "<html>\\(\\displaystyle -\\gamma {\\left(\\frac{e_{y}}{s} - \\frac{u_{2}}{s}\\right)} = R_{12} X_{1} f_{2} + R_{22} X_{2} f_{2} + f_{2} t_{2}\\)</html>"
      ],
      "text/latex": [
       "$\\displaystyle -\\gamma {\\left(\\frac{e_{y}}{s} - \\frac{u_{2}}{s}\\right)} = R_{12} X_{1} f_{2} + R_{22} X_{2} f_{2} + f_{2} t_{2}$"
      ],
      "text/plain": [
       "-gamma*(e_y/s - u2/s) == R_12*X_1*f2 + R_22*X_2*f2 + f2*t_2"
      ]
     },
     "metadata": {},
     "output_type": "display_data"
    },
    {
     "data": {
      "text/html": [
       "<html>\\(\\displaystyle {\\left({\\left({\\left| -\\frac{e_{y}}{s} + \\frac{u_{2}}{s} \\right|}^{2} + {\\left| -\\frac{e_{x}}{\\alpha s} + \\frac{u_{1}}{\\alpha s} \\right|}^{2}\\right)}^{2} \\lambda_{2} + {\\left({\\left| -\\frac{e_{y}}{s} + \\frac{u_{2}}{s} \\right|}^{2} + {\\left| -\\frac{e_{x}}{\\alpha s} + \\frac{u_{1}}{\\alpha s} \\right|}^{2}\\right)} \\lambda_{1} + 1\\right)} \\gamma = R_{13} X_{1} + R_{23} X_{2} + t_{3}\\)</html>"
      ],
      "text/latex": [
       "$\\displaystyle {\\left({\\left({\\left| -\\frac{e_{y}}{s} + \\frac{u_{2}}{s} \\right|}^{2} + {\\left| -\\frac{e_{x}}{\\alpha s} + \\frac{u_{1}}{\\alpha s} \\right|}^{2}\\right)}^{2} \\lambda_{2} + {\\left({\\left| -\\frac{e_{y}}{s} + \\frac{u_{2}}{s} \\right|}^{2} + {\\left| -\\frac{e_{x}}{\\alpha s} + \\frac{u_{1}}{\\alpha s} \\right|}^{2}\\right)} \\lambda_{1} + 1\\right)} \\gamma = R_{13} X_{1} + R_{23} X_{2} + t_{3}$"
      ],
      "text/plain": [
       "((abs(-e_y/s + u2/s)^2 + abs(-e_x/(alpha*s) + u1/(alpha*s))^2)^2*lambda_2 + (abs(-e_y/s + u2/s)^2 + abs(-e_x/(alpha*s) + u1/(alpha*s))^2)*lambda_1 + 1)*gamma == R_13*X_1 + R_23*X_2 + t_3"
      ]
     },
     "metadata": {},
     "output_type": "display_data"
    }
   ],
   "source": [
    "for lhs, rhs in zip(gamma * g(A * u), P * X):\n",
    "    display(lhs == rhs)"
   ]
  }
 ],
 "metadata": {
  "kernelspec": {
   "display_name": "SageMath 9.7",
   "language": "sage",
   "name": "sagemath-9.7"
  },
  "language_info": {
   "codemirror_mode": {
    "name": "ipython",
    "version": 3
   },
   "file_extension": ".py",
   "mimetype": "text/x-python",
   "name": "python",
   "nbconvert_exporter": "python",
   "pygments_lexer": "ipython3",
   "version": "3.10.5"
  }
 },
 "nbformat": 4,
 "nbformat_minor": 5
}
