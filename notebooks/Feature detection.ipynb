{
 "cells": [
  {
   "cell_type": "markdown",
   "id": "6ea9a07f-e82a-4480-ae5d-9547660a0576",
   "metadata": {
    "tags": []
   },
   "source": [
    "# Imports, load the image"
   ]
  },
  {
   "cell_type": "code",
   "execution_count": 1,
   "id": "ba58e388-afd5-4c3e-a18b-845e8dc4a5cf",
   "metadata": {
    "tags": []
   },
   "outputs": [],
   "source": [
    "import sys\n",
    "\n",
    "sys.path.append(\"..\")"
   ]
  },
  {
   "cell_type": "code",
   "execution_count": 2,
   "id": "c845d60d-c57c-4fdd-a785-3fe96289d2fb",
   "metadata": {
    "tags": []
   },
   "outputs": [
    {
     "ename": "ImportError",
     "evalue": "cannot import name 'checkerboard_score' from 'calibration.features.checkerboard' (/home/astadnik/edu/masters/sem_3/camera_calibration/notebooks/../calibration/features/checkerboard.py)",
     "output_type": "error",
     "traceback": [
      "\u001b[0;31m---------------------------------------------------------------------------\u001b[0m",
      "\u001b[0;31mImportError\u001b[0m                               Traceback (most recent call last)",
      "Cell \u001b[0;32mIn[2], line 9\u001b[0m\n\u001b[1;32m      6\u001b[0m \u001b[38;5;28;01mimport\u001b[39;00m \u001b[38;5;21;01mcv2\u001b[39;00m\n\u001b[1;32m      7\u001b[0m \u001b[38;5;28;01mfrom\u001b[39;00m \u001b[38;5;21;01mPIL\u001b[39;00m \u001b[38;5;28;01mimport\u001b[39;00m Image, ImageOps\n\u001b[0;32m----> 9\u001b[0m \u001b[38;5;28;01mfrom\u001b[39;00m \u001b[38;5;21;01mcalibration\u001b[39;00m\u001b[38;5;21;01m.\u001b[39;00m\u001b[38;5;21;01mfeatures\u001b[39;00m\u001b[38;5;21;01m.\u001b[39;00m\u001b[38;5;21;01mcheckerboard\u001b[39;00m \u001b[38;5;28;01mimport\u001b[39;00m (\n\u001b[1;32m     10\u001b[0m     checkerboard_score,\n\u001b[1;32m     11\u001b[0m     create_correlation_patch,\n\u001b[1;32m     12\u001b[0m     detect_checkerboard,\n\u001b[1;32m     13\u001b[0m     detect_corners,\n\u001b[1;32m     14\u001b[0m     detect_corners_template,\n\u001b[1;32m     15\u001b[0m     get_angle_modes,\n\u001b[1;32m     16\u001b[0m     get_corner_candidates,\n\u001b[1;32m     17\u001b[0m     make_mask_line,\n\u001b[1;32m     18\u001b[0m     non_maximum_suppression,\n\u001b[1;32m     19\u001b[0m     normalize_image,\n\u001b[1;32m     20\u001b[0m     refine_corners,\n\u001b[1;32m     21\u001b[0m     reorder_checkerboard,\n\u001b[1;32m     22\u001b[0m     score_corners,\n\u001b[1;32m     23\u001b[0m     solve_patch_corner,\n\u001b[1;32m     24\u001b[0m     trim_picture,\n\u001b[1;32m     25\u001b[0m )\n",
      "\u001b[0;31mImportError\u001b[0m: cannot import name 'checkerboard_score' from 'calibration.features.checkerboard' (/home/astadnik/edu/masters/sem_3/camera_calibration/notebooks/../calibration/features/checkerboard.py)"
     ]
    }
   ],
   "source": [
    "import numpy as np\n",
    "import plotly.express as px\n",
    "import plotly.io as pio\n",
    "\n",
    "pio.renderers.default = \"svg\"\n",
    "import cv2\n",
    "from PIL import Image, ImageOps\n",
    "\n",
    "from calibration.features.checkerboard import (\n",
    "    checkerboard_score,\n",
    "    create_correlation_patch,\n",
    "    detect_checkerboard,\n",
    "    detect_corners,\n",
    "    detect_corners_template,\n",
    "    get_angle_modes,\n",
    "    get_corner_candidates,\n",
    "    make_mask_line,\n",
    "    non_maximum_suppression,\n",
    "    normalize_image,\n",
    "    refine_corners,\n",
    "    reorder_checkerboard,\n",
    "    score_corners,\n",
    "    solve_patch_corner,\n",
    "    trim_picture,\n",
    ")"
   ]
  },
  {
   "cell_type": "code",
   "execution_count": null,
   "id": "22abd73f-4560-49fe-8545-66425230f86f",
   "metadata": {
    "tags": []
   },
   "outputs": [],
   "source": [
    "def show(img: np.array):\n",
    "    return px.imshow(img, binary_string=len(img.shape) == 2 or img.shape[2] == 1)"
   ]
  },
  {
   "cell_type": "code",
   "execution_count": null,
   "id": "61b0f0da-63da-4b0a-9393-cf7a9a487b43",
   "metadata": {
    "tags": []
   },
   "outputs": [],
   "source": [
    "charuco_img_path = \"../data/BabelCalib/Kalibr/Kalibr/BF2M2020S23/train/img0001.pgm\"\n",
    "checkerboard_img_path = (\n",
    "    \"../data/BabelCalib/OCamCalib/OCamCalib/Fisheye1/train/Fisheye1_10.jpg\"\n",
    ")\n",
    "checkerboard_img_path_distorted = \"../data/BabelCalib/OV/OV/single_plane/130108MP/train/br0_cam01-2020-05-07-13-09-12.png\"\n",
    "\n",
    "img = Image.open(charuco_img_path)\n",
    "img = Image.open(checkerboard_img_path)\n",
    "img = Image.open(checkerboard_img_path_distorted)\n",
    "\n",
    "img = img.rotate(30)\n",
    "gray = np.array(ImageOps.grayscale(img))\n",
    "show(gray)"
   ]
  },
  {
   "cell_type": "markdown",
   "id": "a66d68f3-5a1e-41c8-a3b5-db70b08631b6",
   "metadata": {
    "tags": []
   },
   "source": [
    "# Trim"
   ]
  },
  {
   "cell_type": "markdown",
   "id": "a5b3908e-0555-48fe-91da-305f1c71092b",
   "metadata": {},
   "source": [
    "This part kind of crops the largest connected component or something, but it works poorly."
   ]
  },
  {
   "cell_type": "code",
   "execution_count": null,
   "id": "a1ed8b20-0574-4438-97ba-ee7b708abc2c",
   "metadata": {
    "tags": []
   },
   "outputs": [],
   "source": [
    "if True:\n",
    "    gray_cropped, crop_start = trim_picture(gray)\n",
    "else:\n",
    "    crop_start = [0, 0]\n",
    "\n",
    "show(gray_cropped)"
   ]
  },
  {
   "cell_type": "markdown",
   "id": "cc9f10a1-82d1-43c5-8e62-40286fe8695d",
   "metadata": {
    "tags": []
   },
   "source": [
    "# Normalize"
   ]
  },
  {
   "cell_type": "code",
   "execution_count": null,
   "id": "3fa88909-21a6-4956-a2da-220eb9841dc9",
   "metadata": {
    "tags": []
   },
   "outputs": [],
   "source": [
    "diff = normalize_image(gray)\n",
    "show(diff)"
   ]
  },
  {
   "cell_type": "markdown",
   "id": "f75923da-b80c-45c7-84d1-b782230b8c4d",
   "metadata": {
    "tags": []
   },
   "source": [
    "# Detect corners"
   ]
  },
  {
   "cell_type": "code",
   "execution_count": null,
   "id": "a393cbd6-36c3-4f87-a901-865f44f93497",
   "metadata": {
    "tags": []
   },
   "outputs": [],
   "source": [
    "winsize = 9\n",
    "radiuses = [winsize + 3]\n",
    "if winsize >= 8:\n",
    "    radiuses.append(winsize - 3)\n",
    "\n",
    "corr = detect_corners(diff, radiuses=radiuses)\n",
    "show(corr)"
   ]
  },
  {
   "cell_type": "markdown",
   "id": "b53a2ebd-9b37-4a56-81de-d7245e95ba44",
   "metadata": {},
   "source": [
    "# Get corner coordinates"
   ]
  },
  {
   "cell_type": "markdown",
   "id": "2cb266b6-1336-4d81-9f76-fe2173cb9072",
   "metadata": {},
   "source": [
    "Argmax in region"
   ]
  },
  {
   "cell_type": "code",
   "execution_count": null,
   "id": "ce22474f-4a9c-462a-9f72-011cbaedceed",
   "metadata": {
    "tags": []
   },
   "outputs": [],
   "source": [
    "corrb = cv2.GaussianBlur(corr, (7, 7), 3)\n",
    "corners = get_corner_candidates(corrb, winsize + 2, np.max(corrb) * 0.2)\n",
    "px.scatter(corners, y=0, x=1, color=2)"
   ]
  },
  {
   "cell_type": "markdown",
   "id": "dee15b6f-9031-47c6-ad1f-843824177122",
   "metadata": {
    "tags": []
   },
   "source": [
    "# Non-maximum supression"
   ]
  },
  {
   "cell_type": "code",
   "execution_count": null,
   "id": "a20b32ca-5799-4abb-aa15-c1dec203d62d",
   "metadata": {
    "tags": []
   },
   "outputs": [],
   "source": [
    "corners = non_maximum_suppression(corners, winsize - 2)\n",
    "px.scatter(corners, y=0, x=1, color=2)"
   ]
  },
  {
   "cell_type": "markdown",
   "id": "f88a0468-e364-4a40-b5b8-30d1a4d23890",
   "metadata": {},
   "source": [
    "# Refine corners"
   ]
  },
  {
   "cell_type": "markdown",
   "id": "ddfec32c-9454-4d55-a43b-59a825ebcb0a",
   "metadata": {},
   "source": [
    "I'm not yet sure how it works"
   ]
  },
  {
   "cell_type": "code",
   "execution_count": null,
   "id": "da2026ff-cfc5-4e7c-a873-70b8ecb56d48",
   "metadata": {
    "tags": []
   },
   "outputs": [],
   "source": [
    "corners_sp = refine_corners(corners, diff, winsize=winsize + 2)\n",
    "px.scatter(corners_sp, y=0, x=1, color=2)"
   ]
  },
  {
   "cell_type": "markdown",
   "id": "4f4eedae-a445-4b39-810a-08188b9f3436",
   "metadata": {},
   "source": [
    "# Leave only the best corners (as many as we need according to the board size)"
   ]
  },
  {
   "cell_type": "code",
   "execution_count": null,
   "id": "282c840f-4a40-4504-b009-d3c4f7f34a36",
   "metadata": {
    "tags": []
   },
   "outputs": [],
   "source": [
    "scores = corners_sp[:, 2]\n",
    "\n",
    "# size = (7, 9)\n",
    "size = (17, 17)\n",
    "num_corners = size[0] * size[1]\n",
    "\n",
    "best_ix = np.argsort(-scores)[: num_corners + 3]\n",
    "best_corners = corners_sp[np.sort(best_ix)]\n",
    "px.scatter(best_corners, y=0, x=1, color=2)"
   ]
  },
  {
   "cell_type": "markdown",
   "id": "8c733df7-539d-48a7-b154-60a5ee9f84b7",
   "metadata": {},
   "source": [
    "# Reorder checkerboard"
   ]
  },
  {
   "cell_type": "code",
   "execution_count": null,
   "id": "373eb435-a945-4f5d-a104-6c2c157f4a6d",
   "metadata": {
    "tags": []
   },
   "outputs": [],
   "source": [
    "best_corners, max_dist = reorder_checkerboard(best_corners, diff, size)\n",
    "px.scatter(best_corners, y=0, x=1, color=2)"
   ]
  },
  {
   "cell_type": "code",
   "execution_count": null,
   "id": "53ab12d8-fde2-4ce3-90ce-e4cfe9d4090f",
   "metadata": {},
   "outputs": [],
   "source": []
  }
 ],
 "metadata": {
  "kernelspec": {
   "display_name": "Python 3 (ipykernel)",
   "language": "python",
   "name": "python3"
  },
  "language_info": {
   "codemirror_mode": {
    "name": "ipython",
    "version": 3
   },
   "file_extension": ".py",
   "mimetype": "text/x-python",
   "name": "python",
   "nbconvert_exporter": "python",
   "pygments_lexer": "ipython3",
   "version": "3.11.3"
  }
 },
 "nbformat": 4,
 "nbformat_minor": 5
}
