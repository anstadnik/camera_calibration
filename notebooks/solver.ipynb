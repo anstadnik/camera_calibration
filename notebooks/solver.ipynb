{
 "cells": [
  {
   "cell_type": "markdown",
   "id": "3b010dc0-d473-4c17-b4de-dc14351d47c4",
   "metadata": {
    "tags": []
   },
   "source": [
    "# Closed-form solution"
   ]
  },
  {
   "cell_type": "code",
   "execution_count": 1,
   "id": "24c9f11e-89db-4d77-8320-6affdfa50c35",
   "metadata": {
    "tags": []
   },
   "outputs": [],
   "source": [
    "%display latex\n",
    "\n",
    "# https://github.com/jupyter-lsp/jupyterlab-lsp/issues/910#issuecomment-1465356625"
   ]
  },
  {
   "cell_type": "code",
   "execution_count": 2,
   "id": "782189fd-11d0-4fac-ac9e-40d454fe062d",
   "metadata": {
    "tags": []
   },
   "outputs": [
    {
     "data": {
      "text/html": [
       "<html>\\(\\displaystyle \\left(\\left(R_{11} {\\lambda},\\,R_{21} {\\lambda},\\,R_{31} {\\lambda}\\right), \\left(R_{12} {\\lambda},\\,R_{22} {\\lambda},\\,R_{32} {\\lambda}\\right)\\right)\\)</html>"
      ],
      "text/latex": [
       "$\\displaystyle \\left(\\left(R_{11} {\\lambda},\\,R_{21} {\\lambda},\\,R_{31} {\\lambda}\\right), \\left(R_{12} {\\lambda},\\,R_{22} {\\lambda},\\,R_{32} {\\lambda}\\right)\\right)$"
      ],
      "text/plain": [
       "((R_11*l, R_21*l, R_31*l), (R_12*l, R_22*l, R_32*l))"
      ]
     },
     "execution_count": 2,
     "metadata": {},
     "output_type": "execute_result"
    }
   ],
   "source": [
    "l = var(\"l\", latex_name=\"\\\\lambda\")\n",
    "\n",
    "H = matrix(\n",
    "    SR,\n",
    "    [\n",
    "        [var(f\"R_{j}{i}\" if i < 3 else f\"t_{j}\") for i in range(1, 4)]\n",
    "        for j in range(1, 4)\n",
    "    ],\n",
    ")\n",
    "v1 = vector(H[:, 0]) * l\n",
    "v2 = vector(H[:, 1]) * l\n",
    "\n",
    "(v1, v2)"
   ]
  },
  {
   "cell_type": "markdown",
   "id": "55ef1999-0827-4fa8-9e1a-eedee2a4992f",
   "metadata": {},
   "source": [
    "# Eq 10"
   ]
  },
  {
   "cell_type": "code",
   "execution_count": 3,
   "id": "bb41c497-323f-4e0b-9971-d27132b7ada1",
   "metadata": {
    "tags": []
   },
   "outputs": [
    {
     "data": {
      "text/html": [
       "<html>\\(\\displaystyle \\left[R_{11} R_{12} {\\lambda}^{2} + R_{21} R_{22} {\\lambda}^{2} + R_{31} R_{32} {\\lambda}^{2} = 0, \\sqrt{{\\left| R_{11} {\\lambda} \\right|}^{2} + {\\left| R_{21} {\\lambda} \\right|}^{2} + {\\left| R_{31} {\\lambda} \\right|}^{2}} = 1, \\sqrt{{\\left| R_{12} {\\lambda} \\right|}^{2} + {\\left| R_{22} {\\lambda} \\right|}^{2} + {\\left| R_{32} {\\lambda} \\right|}^{2}} = 1\\right]\\)</html>"
      ],
      "text/latex": [
       "$\\displaystyle \\left[R_{11} R_{12} {\\lambda}^{2} + R_{21} R_{22} {\\lambda}^{2} + R_{31} R_{32} {\\lambda}^{2} = 0, \\sqrt{{\\left| R_{11} {\\lambda} \\right|}^{2} + {\\left| R_{21} {\\lambda} \\right|}^{2} + {\\left| R_{31} {\\lambda} \\right|}^{2}} = 1, \\sqrt{{\\left| R_{12} {\\lambda} \\right|}^{2} + {\\left| R_{22} {\\lambda} \\right|}^{2} + {\\left| R_{32} {\\lambda} \\right|}^{2}} = 1\\right]$"
      ],
      "text/plain": [
       "[R_11*R_12*l^2 + R_21*R_22*l^2 + R_31*R_32*l^2 == 0,\n",
       " sqrt(abs(R_11*l)^2 + abs(R_21*l)^2 + abs(R_31*l)^2) == 1,\n",
       " sqrt(abs(R_12*l)^2 + abs(R_22*l)^2 + abs(R_32*l)^2) == 1]"
      ]
     },
     "execution_count": 3,
     "metadata": {},
     "output_type": "execute_result"
    }
   ],
   "source": [
    "eqs = [v1 * v2 == 0, norm(v1) == 1, norm(v2) == 1]\n",
    "\n",
    "eqs"
   ]
  },
  {
   "cell_type": "code",
   "execution_count": 4,
   "id": "5cfac317-3ec6-46d3-9987-650d13fb3db6",
   "metadata": {
    "tags": []
   },
   "outputs": [],
   "source": [
    "assume(l, \"real\")\n",
    "for el in H.list():\n",
    "    for v in el.variables():\n",
    "        assume(v, \"real\")"
   ]
  },
  {
   "cell_type": "code",
   "execution_count": 5,
   "id": "9ad6456b-f802-4351-b585-8a13d8d5dfbb",
   "metadata": {
    "tags": []
   },
   "outputs": [
    {
     "data": {
      "text/html": [
       "<html>\\(\\displaystyle \\left[{\\left(R_{11} R_{12} + R_{21} R_{22} + R_{31} R_{32}\\right)} {\\lambda}^{2} = 0, \\sqrt{R_{11}^{2} + R_{21}^{2} + R_{31}^{2}} {\\left| {\\lambda} \\right|} = 1, \\sqrt{R_{12}^{2} + R_{22}^{2} + R_{32}^{2}} {\\left| {\\lambda} \\right|} = 1\\right]\\)</html>"
      ],
      "text/latex": [
       "$\\displaystyle \\left[{\\left(R_{11} R_{12} + R_{21} R_{22} + R_{31} R_{32}\\right)} {\\lambda}^{2} = 0, \\sqrt{R_{11}^{2} + R_{21}^{2} + R_{31}^{2}} {\\left| {\\lambda} \\right|} = 1, \\sqrt{R_{12}^{2} + R_{22}^{2} + R_{32}^{2}} {\\left| {\\lambda} \\right|} = 1\\right]$"
      ],
      "text/plain": [
       "[(R_11*R_12 + R_21*R_22 + R_31*R_32)*l^2 == 0,\n",
       " sqrt(R_11^2 + R_21^2 + R_31^2)*abs(l) == 1,\n",
       " sqrt(R_12^2 + R_22^2 + R_32^2)*abs(l) == 1]"
      ]
     },
     "execution_count": 5,
     "metadata": {},
     "output_type": "execute_result"
    }
   ],
   "source": [
    "[eq.simplify_full() for eq in eqs]"
   ]
  },
  {
   "cell_type": "code",
   "execution_count": 6,
   "id": "d0e68151-533b-4bb4-a23e-ca8cb6547e06",
   "metadata": {
    "tags": []
   },
   "outputs": [
    {
     "name": "stdout",
     "output_type": "stream",
     "text": [
      "[R_11*R_12*l^2 + R_21*R_22*l^2 + R_31*R_32*l^2 == 0, sqrt((R_11^2*l^2) + (R_21^2*l^2) + (R_31^2*l^2)) == 1, sqrt((R_12^2*l^2) + (R_22^2*l^2) + (R_32^2*l^2)) == 1]\n"
     ]
    }
   ],
   "source": [
    "print(eqs)"
   ]
  },
  {
   "cell_type": "markdown",
   "id": "d5bd3391-000c-4124-9e9f-48282558e60d",
   "metadata": {
    "tags": []
   },
   "source": [
    "We set f1 and f2 to 1, since we could have incorporated it into H before."
   ]
  },
  {
   "cell_type": "code",
   "execution_count": 25,
   "id": "ebda5771-abd7-4d76-9ee1-da81413bc132",
   "metadata": {
    "tags": []
   },
   "outputs": [
    {
     "name": "stderr",
     "output_type": "stream",
     "text": [
      "\n",
      "KeyboardInterrupt\n",
      "\n"
     ]
    }
   ],
   "source": [
    "solution = solve(eqs, [v1[2]/l, v2[2]/l])"
   ]
  },
  {
   "cell_type": "code",
   "execution_count": 8,
   "id": "e1adb901-e6d8-4276-9306-1e0e2cd0bf3c",
   "metadata": {
    "tags": []
   },
   "outputs": [
    {
     "data": {
      "text/html": [
       "<html>\\(\\displaystyle 8\\)</html>"
      ],
      "text/latex": [
       "$\\displaystyle 8$"
      ],
      "text/plain": [
       "8"
      ]
     },
     "execution_count": 8,
     "metadata": {},
     "output_type": "execute_result"
    }
   ],
   "source": [
    "len(solution)"
   ]
  },
  {
   "cell_type": "code",
   "execution_count": 9,
   "id": "1f848c1f-096b-43cb-8938-c22c49c3ba66",
   "metadata": {
    "tags": []
   },
   "outputs": [],
   "source": [
    "# for i, sol in enumerate(solution, 1):\n",
    "#     print('[')\n",
    "#     for s in sol:\n",
    "#         print(str(s.simplify_full().rhs()).replace('R_', 'r_').replace('sqrt', '√') + ',')\n",
    "#     print('],')"
   ]
  },
  {
   "cell_type": "markdown",
   "id": "a5f716f9-97e3-4fe8-91bd-fe245724fa2b",
   "metadata": {},
   "source": [
    "# Scaramuzza solver"
   ]
  },
  {
   "cell_type": "markdown",
   "id": "9671ff29-1cc6-4019-b19e-ea177db0deb9",
   "metadata": {},
   "source": [
    "## Given equations"
   ]
  },
  {
   "cell_type": "code",
   "execution_count": 10,
   "id": "bcaa447b-6b72-4f1e-8f75-16c34b0e95dd",
   "metadata": {
    "tags": []
   },
   "outputs": [
    {
     "data": {
      "text/html": [
       "<html>\\(\\displaystyle \\left(\\left(R_{11} {\\lambda},\\,R_{21} {\\lambda},\\,R_{31} {\\lambda}\\right), \\left(R_{12} {\\lambda},\\,R_{22} {\\lambda},\\,R_{32} {\\lambda}\\right)\\right)\\)</html>"
      ],
      "text/latex": [
       "$\\displaystyle \\left(\\left(R_{11} {\\lambda},\\,R_{21} {\\lambda},\\,R_{31} {\\lambda}\\right), \\left(R_{12} {\\lambda},\\,R_{22} {\\lambda},\\,R_{32} {\\lambda}\\right)\\right)$"
      ],
      "text/plain": [
       "((R_11*l, R_21*l, R_31*l), (R_12*l, R_22*l, R_32*l))"
      ]
     },
     "execution_count": 10,
     "metadata": {},
     "output_type": "execute_result"
    }
   ],
   "source": [
    "v1, v2"
   ]
  },
  {
   "cell_type": "code",
   "execution_count": 35,
   "id": "57f54469-3a5a-4cef-925b-111c7a2d8bff",
   "metadata": {
    "tags": []
   },
   "outputs": [
    {
     "data": {
      "text/html": [
       "<html>\\(\\displaystyle R_{11} R_{12} {\\lambda}^{2} + R_{21} R_{22} {\\lambda}^{2} + R_{31} R_{32} {\\lambda}^{2} = 0\\)</html>"
      ],
      "text/latex": [
       "$\\displaystyle R_{11} R_{12} {\\lambda}^{2} + R_{21} R_{22} {\\lambda}^{2} + R_{31} R_{32} {\\lambda}^{2} = 0$"
      ],
      "text/plain": [
       "R_11*R_12*l^2 + R_21*R_22*l^2 + R_31*R_32*l^2 == 0"
      ]
     },
     "metadata": {},
     "output_type": "display_data"
    },
    {
     "data": {
      "text/html": [
       "<html>\\(\\displaystyle \\sqrt{\\left(R_{11}^{2} {\\lambda}^{2}\\right) + \\left(R_{21}^{2} {\\lambda}^{2}\\right) + \\left(R_{31}^{2} {\\lambda}^{2}\\right)} = 1\\)</html>"
      ],
      "text/latex": [
       "$\\displaystyle \\sqrt{\\left(R_{11}^{2} {\\lambda}^{2}\\right) + \\left(R_{21}^{2} {\\lambda}^{2}\\right) + \\left(R_{31}^{2} {\\lambda}^{2}\\right)} = 1$"
      ],
      "text/plain": [
       "sqrt((R_11^2*l^2) + (R_21^2*l^2) + (R_31^2*l^2)) == 1"
      ]
     },
     "metadata": {},
     "output_type": "display_data"
    },
    {
     "data": {
      "text/html": [
       "<html>\\(\\displaystyle \\sqrt{\\left(R_{12}^{2} {\\lambda}^{2}\\right) + \\left(R_{22}^{2} {\\lambda}^{2}\\right) + \\left(R_{32}^{2} {\\lambda}^{2}\\right)} = 1\\)</html>"
      ],
      "text/latex": [
       "$\\displaystyle \\sqrt{\\left(R_{12}^{2} {\\lambda}^{2}\\right) + \\left(R_{22}^{2} {\\lambda}^{2}\\right) + \\left(R_{32}^{2} {\\lambda}^{2}\\right)} = 1$"
      ],
      "text/plain": [
       "sqrt((R_12^2*l^2) + (R_22^2*l^2) + (R_32^2*l^2)) == 1"
      ]
     },
     "metadata": {},
     "output_type": "display_data"
    }
   ],
   "source": [
    "eq1, eq2, eq3 = eqs\n",
    "\n",
    "for e in (eq1, eq2, eq3):\n",
    "    display(e)"
   ]
  },
  {
   "cell_type": "markdown",
   "id": "717a1efb-ccb9-4caf-9fcd-b4e3b4953a30",
   "metadata": {},
   "source": [
    "## Equation from the matlab code:"
   ]
  },
  {
   "cell_type": "code",
   "execution_count": 12,
   "id": "e163c9d5-b54d-4dac-9b1a-8d6761391007",
   "metadata": {
    "tags": []
   },
   "outputs": [
    {
     "data": {
      "text/html": [
       "<html>\\(\\displaystyle {\\left(R_{11} R_{12} {\\lambda}^{2} + R_{21} R_{22} {\\lambda}^{2}\\right)}^{2}\\)</html>"
      ],
      "text/latex": [
       "$\\displaystyle {\\left(R_{11} R_{12} {\\lambda}^{2} + R_{21} R_{22} {\\lambda}^{2}\\right)}^{2}$"
      ],
      "text/plain": [
       "(R_11*R_12*l^2 + R_21*R_22*l^2)^2"
      ]
     },
     "metadata": {},
     "output_type": "display_data"
    },
    {
     "data": {
      "text/html": [
       "<html>\\(\\displaystyle R_{11}^{2} {\\lambda}^{2} + R_{21}^{2} {\\lambda}^{2}\\)</html>"
      ],
      "text/latex": [
       "$\\displaystyle R_{11}^{2} {\\lambda}^{2} + R_{21}^{2} {\\lambda}^{2}$"
      ],
      "text/plain": [
       "R_11^2*l^2 + R_21^2*l^2"
      ]
     },
     "metadata": {},
     "output_type": "display_data"
    },
    {
     "data": {
      "text/html": [
       "<html>\\(\\displaystyle R_{12}^{2} {\\lambda}^{2} + R_{22}^{2} {\\lambda}^{2}\\)</html>"
      ],
      "text/latex": [
       "$\\displaystyle R_{12}^{2} {\\lambda}^{2} + R_{22}^{2} {\\lambda}^{2}$"
      ],
      "text/plain": [
       "R_12^2*l^2 + R_22^2*l^2"
      ]
     },
     "metadata": {},
     "output_type": "display_data"
    }
   ],
   "source": [
    "AA = (v1[0] * v2[0] + v1[1] * v2[1]) ^ 2\n",
    "BB = v1[0] ^ 2 + v1[1] ^ 2\n",
    "CC = v2[0] ^ 2 + v2[1] ^ 2\n",
    "\n",
    "for e in (AA, BB, CC):\n",
    "    display(e)"
   ]
  },
  {
   "cell_type": "code",
   "execution_count": 13,
   "id": "dd3a1915-2fea-4c3f-bbf4-ef6d5c851cf0",
   "metadata": {
    "tags": []
   },
   "outputs": [
    {
     "data": {
      "text/html": [
       "<html>\\(\\displaystyle R_{32}^{4} {\\lambda}^{4} - {\\left(R_{11}^{2} {\\lambda}^{2} - R_{12}^{2} {\\lambda}^{2} + R_{21}^{2} {\\lambda}^{2} - R_{22}^{2} {\\lambda}^{2}\\right)} R_{32}^{2} {\\lambda}^{2} - {\\left(R_{11} R_{12} {\\lambda}^{2} + R_{21} R_{22} {\\lambda}^{2}\\right)}^{2} = 0\\)</html>"
      ],
      "text/latex": [
       "$\\displaystyle R_{32}^{4} {\\lambda}^{4} - {\\left(R_{11}^{2} {\\lambda}^{2} - R_{12}^{2} {\\lambda}^{2} + R_{21}^{2} {\\lambda}^{2} - R_{22}^{2} {\\lambda}^{2}\\right)} R_{32}^{2} {\\lambda}^{2} - {\\left(R_{11} R_{12} {\\lambda}^{2} + R_{21} R_{22} {\\lambda}^{2}\\right)}^{2} = 0$"
      ],
      "text/plain": [
       "R_32^4*l^4 - (R_11^2*l^2 - R_12^2*l^2 + R_21^2*l^2 - R_22^2*l^2)*R_32^2*l^2 - (R_11*R_12*l^2 + R_21*R_22*l^2)^2 == 0"
      ]
     },
     "execution_count": 13,
     "metadata": {},
     "output_type": "execute_result"
    }
   ],
   "source": [
    "scar_eq = 1 * v2[2] ^ 4 + (CC - BB) * v2[2] ^ 2 - AA == 0\n",
    "scar_eq"
   ]
  },
  {
   "cell_type": "markdown",
   "id": "db4c5107-5fbe-436d-adb8-5158a02f46ee",
   "metadata": {},
   "source": [
    "## Derivation"
   ]
  },
  {
   "cell_type": "code",
   "execution_count": 14,
   "id": "1a2ff285-a002-4525-abac-19ae89862785",
   "metadata": {
    "tags": []
   },
   "outputs": [
    {
     "data": {
      "text/html": [
       "<html>\\(\\displaystyle R_{31} = -\\frac{R_{11} R_{12} + R_{21} R_{22}}{R_{32}}\\)</html>"
      ],
      "text/latex": [
       "$\\displaystyle R_{31} = -\\frac{R_{11} R_{12} + R_{21} R_{22}}{R_{32}}$"
      ],
      "text/plain": [
       "R_31 == -(R_11*R_12 + R_21*R_22)/R_32"
      ]
     },
     "execution_count": 14,
     "metadata": {},
     "output_type": "execute_result"
    }
   ],
   "source": [
    "sols = eq1.solve(v1[2]/l)\n",
    "assert len(sols) == 1\n",
    "sol = sols[0]\n",
    "sol"
   ]
  },
  {
   "cell_type": "code",
   "execution_count": 15,
   "id": "6ef73b4a-9b93-48b5-b104-e26e77d0eb08",
   "metadata": {
    "tags": []
   },
   "outputs": [
    {
     "data": {
      "text/html": [
       "<html>\\(\\displaystyle \\sqrt{\\frac{{\\left(R_{11} R_{12} + R_{21} R_{22}\\right)}^{2} {\\lambda}^{2}}{R_{32}^{2}} + \\left(R_{11}^{2} {\\lambda}^{2}\\right) + \\left(R_{21}^{2} {\\lambda}^{2}\\right)} = 1\\)</html>"
      ],
      "text/latex": [
       "$\\displaystyle \\sqrt{\\frac{{\\left(R_{11} R_{12} + R_{21} R_{22}\\right)}^{2} {\\lambda}^{2}}{R_{32}^{2}} + \\left(R_{11}^{2} {\\lambda}^{2}\\right) + \\left(R_{21}^{2} {\\lambda}^{2}\\right)} = 1$"
      ],
      "text/plain": [
       "sqrt((R_11*R_12 + R_21*R_22)^2*l^2/R_32^2 + (R_11^2*l^2) + (R_21^2*l^2)) == 1"
      ]
     },
     "execution_count": 15,
     "metadata": {},
     "output_type": "execute_result"
    }
   ],
   "source": [
    "e1 = eq2.subs(sol)\n",
    "e1"
   ]
  },
  {
   "cell_type": "code",
   "execution_count": 16,
   "id": "6b4e3bd3-4b8f-42d2-a3f9-2ccfcc522d17",
   "metadata": {
    "tags": []
   },
   "outputs": [
    {
     "data": {
      "text/html": [
       "<html>\\(\\displaystyle \\frac{{\\left(R_{11} R_{12} + R_{21} R_{22}\\right)}^{2} {\\lambda}^{2}}{R_{32}^{2}} + \\left(R_{11}^{2} {\\lambda}^{2}\\right) + \\left(R_{21}^{2} {\\lambda}^{2}\\right) = 1\\)</html>"
      ],
      "text/latex": [
       "$\\displaystyle \\frac{{\\left(R_{11} R_{12} + R_{21} R_{22}\\right)}^{2} {\\lambda}^{2}}{R_{32}^{2}} + \\left(R_{11}^{2} {\\lambda}^{2}\\right) + \\left(R_{21}^{2} {\\lambda}^{2}\\right) = 1$"
      ],
      "text/plain": [
       "(R_11*R_12 + R_21*R_22)^2*l^2/R_32^2 + (R_11^2*l^2) + (R_21^2*l^2) == 1"
      ]
     },
     "execution_count": 16,
     "metadata": {},
     "output_type": "execute_result"
    }
   ],
   "source": [
    "e1 ^ 2"
   ]
  },
  {
   "cell_type": "code",
   "execution_count": 17,
   "id": "5f6fc9e1-b62f-4562-800e-f6001538e486",
   "metadata": {
    "tags": []
   },
   "outputs": [
    {
     "data": {
      "text/html": [
       "<html>\\(\\displaystyle \\frac{{\\left(R_{11} R_{12} + R_{21} R_{22}\\right)}^{2} {\\lambda}^{2}}{R_{32}^{2}} + \\left(R_{11}^{2} {\\lambda}^{2}\\right) - \\left(R_{12}^{2} {\\lambda}^{2}\\right) + \\left(R_{21}^{2} {\\lambda}^{2}\\right) - \\left(R_{22}^{2} {\\lambda}^{2}\\right) - \\left(R_{32}^{2} {\\lambda}^{2}\\right) = 0\\)</html>"
      ],
      "text/latex": [
       "$\\displaystyle \\frac{{\\left(R_{11} R_{12} + R_{21} R_{22}\\right)}^{2} {\\lambda}^{2}}{R_{32}^{2}} + \\left(R_{11}^{2} {\\lambda}^{2}\\right) - \\left(R_{12}^{2} {\\lambda}^{2}\\right) + \\left(R_{21}^{2} {\\lambda}^{2}\\right) - \\left(R_{22}^{2} {\\lambda}^{2}\\right) - \\left(R_{32}^{2} {\\lambda}^{2}\\right) = 0$"
      ],
      "text/plain": [
       "(R_11*R_12 + R_21*R_22)^2*l^2/R_32^2 + (R_11^2*l^2) - (R_12^2*l^2) + (R_21^2*l^2) - (R_22^2*l^2) - (R_32^2*l^2) == 0"
      ]
     },
     "execution_count": 17,
     "metadata": {},
     "output_type": "execute_result"
    }
   ],
   "source": [
    "e2 = e1 ^ 2 - eq3 ^ 2\n",
    "e2"
   ]
  },
  {
   "cell_type": "code",
   "execution_count": 18,
   "id": "c109072f-0d98-4e29-a1e8-5481811f2572",
   "metadata": {
    "tags": []
   },
   "outputs": [],
   "source": [
    "e3 = (e2 * v2[2] ^ 2).simplify_full()"
   ]
  },
  {
   "cell_type": "code",
   "execution_count": 19,
   "id": "90431abc-c50c-4439-8367-f0be9db37d66",
   "metadata": {
    "tags": []
   },
   "outputs": [],
   "source": [
    "assert e3 == -1 * scar_eq.expand().simplify_full()"
   ]
  },
  {
   "cell_type": "code",
   "execution_count": 20,
   "id": "daa78b0e-2b22-4e05-a7c2-64d6fc2666f0",
   "metadata": {
    "tags": []
   },
   "outputs": [
    {
     "data": {
      "text/html": [
       "<html>\\(\\displaystyle R_{32}^{2} = \\frac{1}{2} \\, R_{11}^{2} - \\frac{1}{2} \\, R_{12}^{2} + \\frac{1}{2} \\, R_{21}^{2} - \\frac{1}{2} \\, R_{22}^{2} + \\frac{1}{2} \\, \\sqrt{R_{11}^{4} + 2 \\, R_{11}^{2} R_{12}^{2} + R_{12}^{4} + 2 \\, R_{11}^{2} R_{21}^{2} - 2 \\, R_{12}^{2} R_{21}^{2} + R_{21}^{4} + 8 \\, R_{11} R_{12} R_{21} R_{22} - 2 \\, R_{11}^{2} R_{22}^{2} + 2 \\, R_{12}^{2} R_{22}^{2} + 2 \\, R_{21}^{2} R_{22}^{2} + R_{22}^{4}}\\)</html>"
      ],
      "text/latex": [
       "$\\displaystyle R_{32}^{2} = \\frac{1}{2} \\, R_{11}^{2} - \\frac{1}{2} \\, R_{12}^{2} + \\frac{1}{2} \\, R_{21}^{2} - \\frac{1}{2} \\, R_{22}^{2} + \\frac{1}{2} \\, \\sqrt{R_{11}^{4} + 2 \\, R_{11}^{2} R_{12}^{2} + R_{12}^{4} + 2 \\, R_{11}^{2} R_{21}^{2} - 2 \\, R_{12}^{2} R_{21}^{2} + R_{21}^{4} + 8 \\, R_{11} R_{12} R_{21} R_{22} - 2 \\, R_{11}^{2} R_{22}^{2} + 2 \\, R_{12}^{2} R_{22}^{2} + 2 \\, R_{21}^{2} R_{22}^{2} + R_{22}^{4}}$"
      ],
      "text/plain": [
       "R_32^2 == 1/2*R_11^2 - 1/2*R_12^2 + 1/2*R_21^2 - 1/2*R_22^2 + 1/2*sqrt(R_11^4 + 2*R_11^2*R_12^2 + R_12^4 + 2*R_11^2*R_21^2 - 2*R_12^2*R_21^2 + R_21^4 + 8*R_11*R_12*R_21*R_22 - 2*R_11^2*R_22^2 + 2*R_12^2*R_22^2 + 2*R_21^2*R_22^2 + R_22^4)"
      ]
     },
     "metadata": {},
     "output_type": "display_data"
    },
    {
     "data": {
      "text/html": [
       "<html>\\(\\displaystyle R_{31} = \\frac{R_{11} R_{12} + R_{21} R_{22}}{\\sqrt{\\frac{1}{2} \\, R_{11}^{2} - \\frac{1}{2} \\, R_{12}^{2} + \\frac{1}{2} \\, R_{21}^{2} - \\frac{1}{2} \\, R_{22}^{2} + \\frac{1}{2} \\, \\sqrt{R_{11}^{4} + 2 \\, R_{11}^{2} R_{12}^{2} + R_{12}^{4} + R_{21}^{4} + 8 \\, R_{11} R_{12} R_{21} R_{22} + R_{22}^{4} + 2 \\, {\\left(R_{11}^{2} - R_{12}^{2}\\right)} R_{21}^{2} - 2 \\, {\\left(R_{11}^{2} - R_{12}^{2} - R_{21}^{2}\\right)} R_{22}^{2}}}}\\)</html>"
      ],
      "text/latex": [
       "$\\displaystyle R_{31} = \\frac{R_{11} R_{12} + R_{21} R_{22}}{\\sqrt{\\frac{1}{2} \\, R_{11}^{2} - \\frac{1}{2} \\, R_{12}^{2} + \\frac{1}{2} \\, R_{21}^{2} - \\frac{1}{2} \\, R_{22}^{2} + \\frac{1}{2} \\, \\sqrt{R_{11}^{4} + 2 \\, R_{11}^{2} R_{12}^{2} + R_{12}^{4} + R_{21}^{4} + 8 \\, R_{11} R_{12} R_{21} R_{22} + R_{22}^{4} + 2 \\, {\\left(R_{11}^{2} - R_{12}^{2}\\right)} R_{21}^{2} - 2 \\, {\\left(R_{11}^{2} - R_{12}^{2} - R_{21}^{2}\\right)} R_{22}^{2}}}}$"
      ],
      "text/plain": [
       "R_31 == (R_11*R_12 + R_21*R_22)/sqrt(1/2*R_11^2 - 1/2*R_12^2 + 1/2*R_21^2 - 1/2*R_22^2 + 1/2*sqrt(R_11^4 + 2*R_11^2*R_12^2 + R_12^4 + R_21^4 + 8*R_11*R_12*R_21*R_22 + R_22^4 + 2*(R_11^2 - R_12^2)*R_21^2 - 2*(R_11^2 - R_12^2 - R_21^2)*R_22^2))"
      ]
     },
     "metadata": {},
     "output_type": "display_data"
    },
    {
     "data": {
      "text/html": [
       "<html>\\(\\displaystyle R_{32}^{2} = \\frac{1}{2} \\, R_{11}^{2} - \\frac{1}{2} \\, R_{12}^{2} + \\frac{1}{2} \\, R_{21}^{2} - \\frac{1}{2} \\, R_{22}^{2} + \\frac{1}{2} \\, \\sqrt{R_{11}^{4} + 2 \\, R_{11}^{2} R_{12}^{2} + R_{12}^{4} + 2 \\, R_{11}^{2} R_{21}^{2} - 2 \\, R_{12}^{2} R_{21}^{2} + R_{21}^{4} + 8 \\, R_{11} R_{12} R_{21} R_{22} - 2 \\, R_{11}^{2} R_{22}^{2} + 2 \\, R_{12}^{2} R_{22}^{2} + 2 \\, R_{21}^{2} R_{22}^{2} + R_{22}^{4}}\\)</html>"
      ],
      "text/latex": [
       "$\\displaystyle R_{32}^{2} = \\frac{1}{2} \\, R_{11}^{2} - \\frac{1}{2} \\, R_{12}^{2} + \\frac{1}{2} \\, R_{21}^{2} - \\frac{1}{2} \\, R_{22}^{2} + \\frac{1}{2} \\, \\sqrt{R_{11}^{4} + 2 \\, R_{11}^{2} R_{12}^{2} + R_{12}^{4} + 2 \\, R_{11}^{2} R_{21}^{2} - 2 \\, R_{12}^{2} R_{21}^{2} + R_{21}^{4} + 8 \\, R_{11} R_{12} R_{21} R_{22} - 2 \\, R_{11}^{2} R_{22}^{2} + 2 \\, R_{12}^{2} R_{22}^{2} + 2 \\, R_{21}^{2} R_{22}^{2} + R_{22}^{4}}$"
      ],
      "text/plain": [
       "R_32^2 == 1/2*R_11^2 - 1/2*R_12^2 + 1/2*R_21^2 - 1/2*R_22^2 + 1/2*sqrt(R_11^4 + 2*R_11^2*R_12^2 + R_12^4 + 2*R_11^2*R_21^2 - 2*R_12^2*R_21^2 + R_21^4 + 8*R_11*R_12*R_21*R_22 - 2*R_11^2*R_22^2 + 2*R_12^2*R_22^2 + 2*R_21^2*R_22^2 + R_22^4)"
      ]
     },
     "metadata": {},
     "output_type": "display_data"
    },
    {
     "data": {
      "text/html": [
       "<html>\\(\\displaystyle R_{31} = -\\frac{R_{11} R_{12} + R_{21} R_{22}}{\\sqrt{\\frac{1}{2} \\, R_{11}^{2} - \\frac{1}{2} \\, R_{12}^{2} + \\frac{1}{2} \\, R_{21}^{2} - \\frac{1}{2} \\, R_{22}^{2} + \\frac{1}{2} \\, \\sqrt{R_{11}^{4} + 2 \\, R_{11}^{2} R_{12}^{2} + R_{12}^{4} + R_{21}^{4} + 8 \\, R_{11} R_{12} R_{21} R_{22} + R_{22}^{4} + 2 \\, {\\left(R_{11}^{2} - R_{12}^{2}\\right)} R_{21}^{2} - 2 \\, {\\left(R_{11}^{2} - R_{12}^{2} - R_{21}^{2}\\right)} R_{22}^{2}}}}\\)</html>"
      ],
      "text/latex": [
       "$\\displaystyle R_{31} = -\\frac{R_{11} R_{12} + R_{21} R_{22}}{\\sqrt{\\frac{1}{2} \\, R_{11}^{2} - \\frac{1}{2} \\, R_{12}^{2} + \\frac{1}{2} \\, R_{21}^{2} - \\frac{1}{2} \\, R_{22}^{2} + \\frac{1}{2} \\, \\sqrt{R_{11}^{4} + 2 \\, R_{11}^{2} R_{12}^{2} + R_{12}^{4} + R_{21}^{4} + 8 \\, R_{11} R_{12} R_{21} R_{22} + R_{22}^{4} + 2 \\, {\\left(R_{11}^{2} - R_{12}^{2}\\right)} R_{21}^{2} - 2 \\, {\\left(R_{11}^{2} - R_{12}^{2} - R_{21}^{2}\\right)} R_{22}^{2}}}}$"
      ],
      "text/plain": [
       "R_31 == -(R_11*R_12 + R_21*R_22)/sqrt(1/2*R_11^2 - 1/2*R_12^2 + 1/2*R_21^2 - 1/2*R_22^2 + 1/2*sqrt(R_11^4 + 2*R_11^2*R_12^2 + R_12^4 + R_21^4 + 8*R_11*R_12*R_21*R_22 + R_22^4 + 2*(R_11^2 - R_12^2)*R_21^2 - 2*(R_11^2 - R_12^2 - R_21^2)*R_22^2))"
      ]
     },
     "metadata": {},
     "output_type": "display_data"
    },
    {
     "data": {
      "text/html": [
       "<html>\\(\\displaystyle R_{32}^{2} = \\frac{1}{2} \\, R_{11}^{2} - \\frac{1}{2} \\, R_{12}^{2} + \\frac{1}{2} \\, R_{21}^{2} - \\frac{1}{2} \\, R_{22}^{2} - \\frac{1}{2} \\, \\sqrt{R_{11}^{4} + 2 \\, R_{11}^{2} R_{12}^{2} + R_{12}^{4} + 2 \\, R_{11}^{2} R_{21}^{2} - 2 \\, R_{12}^{2} R_{21}^{2} + R_{21}^{4} + 8 \\, R_{11} R_{12} R_{21} R_{22} - 2 \\, R_{11}^{2} R_{22}^{2} + 2 \\, R_{12}^{2} R_{22}^{2} + 2 \\, R_{21}^{2} R_{22}^{2} + R_{22}^{4}}\\)</html>"
      ],
      "text/latex": [
       "$\\displaystyle R_{32}^{2} = \\frac{1}{2} \\, R_{11}^{2} - \\frac{1}{2} \\, R_{12}^{2} + \\frac{1}{2} \\, R_{21}^{2} - \\frac{1}{2} \\, R_{22}^{2} - \\frac{1}{2} \\, \\sqrt{R_{11}^{4} + 2 \\, R_{11}^{2} R_{12}^{2} + R_{12}^{4} + 2 \\, R_{11}^{2} R_{21}^{2} - 2 \\, R_{12}^{2} R_{21}^{2} + R_{21}^{4} + 8 \\, R_{11} R_{12} R_{21} R_{22} - 2 \\, R_{11}^{2} R_{22}^{2} + 2 \\, R_{12}^{2} R_{22}^{2} + 2 \\, R_{21}^{2} R_{22}^{2} + R_{22}^{4}}$"
      ],
      "text/plain": [
       "R_32^2 == 1/2*R_11^2 - 1/2*R_12^2 + 1/2*R_21^2 - 1/2*R_22^2 - 1/2*sqrt(R_11^4 + 2*R_11^2*R_12^2 + R_12^4 + 2*R_11^2*R_21^2 - 2*R_12^2*R_21^2 + R_21^4 + 8*R_11*R_12*R_21*R_22 - 2*R_11^2*R_22^2 + 2*R_12^2*R_22^2 + 2*R_21^2*R_22^2 + R_22^4)"
      ]
     },
     "metadata": {},
     "output_type": "display_data"
    },
    {
     "data": {
      "text/html": [
       "<html>\\(\\displaystyle R_{31} = \\frac{R_{11} R_{12} + R_{21} R_{22}}{\\sqrt{\\frac{1}{2} \\, R_{11}^{2} - \\frac{1}{2} \\, R_{12}^{2} + \\frac{1}{2} \\, R_{21}^{2} - \\frac{1}{2} \\, R_{22}^{2} - \\frac{1}{2} \\, \\sqrt{R_{11}^{4} + 2 \\, R_{11}^{2} R_{12}^{2} + R_{12}^{4} + R_{21}^{4} + 8 \\, R_{11} R_{12} R_{21} R_{22} + R_{22}^{4} + 2 \\, {\\left(R_{11}^{2} - R_{12}^{2}\\right)} R_{21}^{2} - 2 \\, {\\left(R_{11}^{2} - R_{12}^{2} - R_{21}^{2}\\right)} R_{22}^{2}}}}\\)</html>"
      ],
      "text/latex": [
       "$\\displaystyle R_{31} = \\frac{R_{11} R_{12} + R_{21} R_{22}}{\\sqrt{\\frac{1}{2} \\, R_{11}^{2} - \\frac{1}{2} \\, R_{12}^{2} + \\frac{1}{2} \\, R_{21}^{2} - \\frac{1}{2} \\, R_{22}^{2} - \\frac{1}{2} \\, \\sqrt{R_{11}^{4} + 2 \\, R_{11}^{2} R_{12}^{2} + R_{12}^{4} + R_{21}^{4} + 8 \\, R_{11} R_{12} R_{21} R_{22} + R_{22}^{4} + 2 \\, {\\left(R_{11}^{2} - R_{12}^{2}\\right)} R_{21}^{2} - 2 \\, {\\left(R_{11}^{2} - R_{12}^{2} - R_{21}^{2}\\right)} R_{22}^{2}}}}$"
      ],
      "text/plain": [
       "R_31 == (R_11*R_12 + R_21*R_22)/sqrt(1/2*R_11^2 - 1/2*R_12^2 + 1/2*R_21^2 - 1/2*R_22^2 - 1/2*sqrt(R_11^4 + 2*R_11^2*R_12^2 + R_12^4 + R_21^4 + 8*R_11*R_12*R_21*R_22 + R_22^4 + 2*(R_11^2 - R_12^2)*R_21^2 - 2*(R_11^2 - R_12^2 - R_21^2)*R_22^2))"
      ]
     },
     "metadata": {},
     "output_type": "display_data"
    },
    {
     "data": {
      "text/html": [
       "<html>\\(\\displaystyle R_{32}^{2} = \\frac{1}{2} \\, R_{11}^{2} - \\frac{1}{2} \\, R_{12}^{2} + \\frac{1}{2} \\, R_{21}^{2} - \\frac{1}{2} \\, R_{22}^{2} - \\frac{1}{2} \\, \\sqrt{R_{11}^{4} + 2 \\, R_{11}^{2} R_{12}^{2} + R_{12}^{4} + 2 \\, R_{11}^{2} R_{21}^{2} - 2 \\, R_{12}^{2} R_{21}^{2} + R_{21}^{4} + 8 \\, R_{11} R_{12} R_{21} R_{22} - 2 \\, R_{11}^{2} R_{22}^{2} + 2 \\, R_{12}^{2} R_{22}^{2} + 2 \\, R_{21}^{2} R_{22}^{2} + R_{22}^{4}}\\)</html>"
      ],
      "text/latex": [
       "$\\displaystyle R_{32}^{2} = \\frac{1}{2} \\, R_{11}^{2} - \\frac{1}{2} \\, R_{12}^{2} + \\frac{1}{2} \\, R_{21}^{2} - \\frac{1}{2} \\, R_{22}^{2} - \\frac{1}{2} \\, \\sqrt{R_{11}^{4} + 2 \\, R_{11}^{2} R_{12}^{2} + R_{12}^{4} + 2 \\, R_{11}^{2} R_{21}^{2} - 2 \\, R_{12}^{2} R_{21}^{2} + R_{21}^{4} + 8 \\, R_{11} R_{12} R_{21} R_{22} - 2 \\, R_{11}^{2} R_{22}^{2} + 2 \\, R_{12}^{2} R_{22}^{2} + 2 \\, R_{21}^{2} R_{22}^{2} + R_{22}^{4}}$"
      ],
      "text/plain": [
       "R_32^2 == 1/2*R_11^2 - 1/2*R_12^2 + 1/2*R_21^2 - 1/2*R_22^2 - 1/2*sqrt(R_11^4 + 2*R_11^2*R_12^2 + R_12^4 + 2*R_11^2*R_21^2 - 2*R_12^2*R_21^2 + R_21^4 + 8*R_11*R_12*R_21*R_22 - 2*R_11^2*R_22^2 + 2*R_12^2*R_22^2 + 2*R_21^2*R_22^2 + R_22^4)"
      ]
     },
     "metadata": {},
     "output_type": "display_data"
    },
    {
     "data": {
      "text/html": [
       "<html>\\(\\displaystyle R_{31} = -\\frac{R_{11} R_{12} + R_{21} R_{22}}{\\sqrt{\\frac{1}{2} \\, R_{11}^{2} - \\frac{1}{2} \\, R_{12}^{2} + \\frac{1}{2} \\, R_{21}^{2} - \\frac{1}{2} \\, R_{22}^{2} - \\frac{1}{2} \\, \\sqrt{R_{11}^{4} + 2 \\, R_{11}^{2} R_{12}^{2} + R_{12}^{4} + R_{21}^{4} + 8 \\, R_{11} R_{12} R_{21} R_{22} + R_{22}^{4} + 2 \\, {\\left(R_{11}^{2} - R_{12}^{2}\\right)} R_{21}^{2} - 2 \\, {\\left(R_{11}^{2} - R_{12}^{2} - R_{21}^{2}\\right)} R_{22}^{2}}}}\\)</html>"
      ],
      "text/latex": [
       "$\\displaystyle R_{31} = -\\frac{R_{11} R_{12} + R_{21} R_{22}}{\\sqrt{\\frac{1}{2} \\, R_{11}^{2} - \\frac{1}{2} \\, R_{12}^{2} + \\frac{1}{2} \\, R_{21}^{2} - \\frac{1}{2} \\, R_{22}^{2} - \\frac{1}{2} \\, \\sqrt{R_{11}^{4} + 2 \\, R_{11}^{2} R_{12}^{2} + R_{12}^{4} + R_{21}^{4} + 8 \\, R_{11} R_{12} R_{21} R_{22} + R_{22}^{4} + 2 \\, {\\left(R_{11}^{2} - R_{12}^{2}\\right)} R_{21}^{2} - 2 \\, {\\left(R_{11}^{2} - R_{12}^{2} - R_{21}^{2}\\right)} R_{22}^{2}}}}$"
      ],
      "text/plain": [
       "R_31 == -(R_11*R_12 + R_21*R_22)/sqrt(1/2*R_11^2 - 1/2*R_12^2 + 1/2*R_21^2 - 1/2*R_22^2 - 1/2*sqrt(R_11^4 + 2*R_11^2*R_12^2 + R_12^4 + R_21^4 + 8*R_11*R_12*R_21*R_22 + R_22^4 + 2*(R_11^2 - R_12^2)*R_21^2 - 2*(R_11^2 - R_12^2 - R_21^2)*R_22^2))"
      ]
     },
     "metadata": {},
     "output_type": "display_data"
    }
   ],
   "source": [
    "for s in solve(e3, v2[2]/l):\n",
    "    display(s ^ 2)\n",
    "    display((sol.subs(s)).simplify_full())"
   ]
  },
  {
   "cell_type": "code",
   "execution_count": 23,
   "id": "d8b503ca-7330-462e-beed-58a0fab66f6b",
   "metadata": {
    "tags": []
   },
   "outputs": [
    {
     "name": "stdout",
     "output_type": "stream",
     "text": [
      "R_32^2 == 1/2*R_11^2 - 1/2*R_12^2 + 1/2*R_21^2 - 1/2*R_22^2 + 1/2*sqrt(R_11^4 + 2*R_11^2*R_12^2 + R_12^4 + 2*R_11^2*R_21^2 - 2*R_12^2*R_21^2 + R_21^4 + 8*R_11*R_12*R_21*R_22 - 2*R_11^2*R_22^2 + 2*R_12^2*R_22^2 + 2*R_21^2*R_22^2 + R_22^4)\n",
      "R_32^2 == 1/2*R_11^2 - 1/2*R_12^2 + 1/2*R_21^2 - 1/2*R_22^2 + 1/2*sqrt(R_11^4 + 2*R_11^2*R_12^2 + R_12^4 + 2*R_11^2*R_21^2 - 2*R_12^2*R_21^2 + R_21^4 + 8*R_11*R_12*R_21*R_22 - 2*R_11^2*R_22^2 + 2*R_12^2*R_22^2 + 2*R_21^2*R_22^2 + R_22^4)\n",
      "R_32^2 == 1/2*R_11^2 - 1/2*R_12^2 + 1/2*R_21^2 - 1/2*R_22^2 - 1/2*sqrt(R_11^4 + 2*R_11^2*R_12^2 + R_12^4 + 2*R_11^2*R_21^2 - 2*R_12^2*R_21^2 + R_21^4 + 8*R_11*R_12*R_21*R_22 - 2*R_11^2*R_22^2 + 2*R_12^2*R_22^2 + 2*R_21^2*R_22^2 + R_22^4)\n",
      "R_32^2 == 1/2*R_11^2 - 1/2*R_12^2 + 1/2*R_21^2 - 1/2*R_22^2 - 1/2*sqrt(R_11^4 + 2*R_11^2*R_12^2 + R_12^4 + 2*R_11^2*R_21^2 - 2*R_12^2*R_21^2 + R_21^4 + 8*R_11*R_12*R_21*R_22 - 2*R_11^2*R_22^2 + 2*R_12^2*R_22^2 + 2*R_21^2*R_22^2 + R_22^4)\n"
     ]
    }
   ],
   "source": [
    "for s in solve(e3, v2[2]/l):\n",
    "    print(s ^ 2)"
   ]
  },
  {
   "cell_type": "code",
   "execution_count": 24,
   "id": "0a09bc77-798f-45e3-9877-7b1761799bca",
   "metadata": {
    "tags": []
   },
   "outputs": [
    {
     "name": "stdout",
     "output_type": "stream",
     "text": [
      "R_32^2 == 1/2*R_11^2 - 1/2*R_12^2 + 1/2*R_21^2 - 1/2*R_22^2 + 1/2*sqrt(R_11^4 + 2*R_11^2*R_12^2 + R_12^4 + 2*R_11^2*R_21^2 - 2*R_12^2*R_21^2 + R_21^4 + 8*R_11*R_12*R_21*R_22 - 2*R_11^2*R_22^2 + 2*R_12^2*R_22^2 + 2*R_21^2*R_22^2 + R_22^4)\n",
      "R_32^2 == 1/2*R_11^2 - 1/2*R_12^2 + 1/2*R_21^2 - 1/2*R_22^2 + 1/2*sqrt(R_11^4 + 2*R_11^2*R_12^2 + R_12^4 + 2*R_11^2*R_21^2 - 2*R_12^2*R_21^2 + R_21^4 + 8*R_11*R_12*R_21*R_22 - 2*R_11^2*R_22^2 + 2*R_12^2*R_22^2 + 2*R_21^2*R_22^2 + R_22^4)\n",
      "R_32^2 == 1/2*R_11^2 - 1/2*R_12^2 + 1/2*R_21^2 - 1/2*R_22^2 - 1/2*sqrt(R_11^4 + 2*R_11^2*R_12^2 + R_12^4 + 2*R_11^2*R_21^2 - 2*R_12^2*R_21^2 + R_21^4 + 8*R_11*R_12*R_21*R_22 - 2*R_11^2*R_22^2 + 2*R_12^2*R_22^2 + 2*R_21^2*R_22^2 + R_22^4)\n",
      "R_32^2 == 1/2*R_11^2 - 1/2*R_12^2 + 1/2*R_21^2 - 1/2*R_22^2 - 1/2*sqrt(R_11^4 + 2*R_11^2*R_12^2 + R_12^4 + 2*R_11^2*R_21^2 - 2*R_12^2*R_21^2 + R_21^4 + 8*R_11*R_12*R_21*R_22 - 2*R_11^2*R_22^2 + 2*R_12^2*R_22^2 + 2*R_21^2*R_22^2 + R_22^4)\n"
     ]
    }
   ],
   "source": [
    "for s in solve(e3.subs(l == 1), v2[2]/l):\n",
    "    print(s ^ 2)"
   ]
  }
 ],
 "metadata": {
  "kernelspec": {
   "display_name": "SageMath 9.7",
   "language": "sage",
   "name": "sagemath-9.7"
  },
  "language_info": {
   "codemirror_mode": {
    "name": "ipython",
    "version": 3
   },
   "file_extension": ".py",
   "mimetype": "text/x-python",
   "name": "python",
   "nbconvert_exporter": "python",
   "pygments_lexer": "ipython3",
   "version": "3.10.5"
  }
 },
 "nbformat": 4,
 "nbformat_minor": 5
}
