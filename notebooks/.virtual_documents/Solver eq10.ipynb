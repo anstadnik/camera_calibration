get_ipython().run_line_magic("display", " latex")


l = var("l", latex_name="\\lambda")

p = matrix(
    SR,
    [
        [var(f"r_{j}{i}" if i < 3 else f"t_{j}") for i in range(1, 4)]
        for j in range(1, 4)
    ],
)
p


u = vector([var("u"), var("v"), var("psif", latex_name=r"\psi(\rho)")])
u


X = vector([var("X"), var("Y"), 1])
X


eqs = u.cross_product(p * X)
for el in eqs:
    display(el == 0)


unknowns = p[:2, :2].list() + p[:2, 2].list()
unknowns


[eqs[2].coefficient(unk) for unk in unknowns]


for unk in unknowns:
    print(f"coef for {unk}: {eqs[2].coefficient(unk)}")


p_ = matrix.identity(3)
p_[2, 2] = 3
p_



