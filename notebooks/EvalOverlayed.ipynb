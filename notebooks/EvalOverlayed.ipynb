{
 "cells": [
  {
   "cell_type": "code",
   "execution_count": 2,
   "id": "51440098-a175-41ea-a72c-c24955215f9c",
   "metadata": {
    "tags": []
   },
   "outputs": [],
   "source": [
    "import sys\n",
    "\n",
    "sys.path.append(\"..\")\n",
    "import pickle as pkl\n",
    "from dataclasses import asdict, is_dataclass\n",
    "\n",
    "import numpy as np\n",
    "import pandas as pd\n",
    "import plotly.express as px\n",
    "import plotly.io as pio\n",
    "from dacite import from_dict\n",
    "from ipywidgets import interact\n",
    "\n",
    "from calibration.benchmark.benchmark import get_camera_from_entry, calibrate, evaluate\n",
    "from calibration.benchmark.benchmark_result import (\n",
    "    BenchmarkResult,\n",
    "    calc_error,\n",
    "    results_into_df,\n",
    ")\n",
    "from calibration.feature_detector.visualization import show_boards, show_corners\n",
    "from calibration.feature_refiner.refine import refine_features, refine_features_single\n",
    "from calibration.feature_refiner.visualization import show_refined_corners\n",
    "from calibration.projector.board import gen_checkerboard_grid\n",
    "from calibration.projector.camera import Camera\n",
    "\n",
    "# pio.renderers.default = \"svg\"\n",
    "from calibration.projector.projector import Projector\n",
    "from calibration.solver.optimization.solve import solve as solve_optimization\n",
    "from calibration.solver.scaramuzza.solve import solve as solve_scaramuzza\n",
    "\n",
    "# from calibration.solver.solve import solve\n",
    "\n",
    "%load_ext autoreload\n",
    "%autoreload 2"
   ]
  },
  {
   "cell_type": "code",
   "execution_count": 6,
   "id": "ad82ed20-6041-4ce6-9679-52c81631af91",
   "metadata": {
    "tags": []
   },
   "outputs": [],
   "source": [
    "# with open(\"../babelcalib_results_overlay.pkl\", \"rb\") as f:\n",
    "with open(\"../babelcalib_results_overlay.pkl\", \"rb\") as f:\n",
    "    results = pkl.load(f)\n",
    "    \n",
    "results = [r for r in results if r is not None and r.features is not None]"
   ]
  },
  {
   "cell_type": "code",
   "execution_count": null,
   "id": "abd5433c-88c8-4d0b-bd19-a507c69401ee",
   "metadata": {
    "tags": []
   },
   "outputs": [
    {
     "data": {
      "application/vnd.jupyter.widget-view+json": {
       "model_id": "7081a931f16e452e920666f7898806e9",
       "version_major": 2,
       "version_minor": 0
      },
      "text/plain": [
       "Refining features:   0%|          | 0/784 [00:00<?, ?it/s]"
      ]
     },
     "metadata": {},
     "output_type": "display_data"
    }
   ],
   "source": [
    "results_ = refine_features(results)"
   ]
  },
  {
   "cell_type": "code",
   "execution_count": null,
   "id": "c3eca581-615a-4bb9-b220-636d1b2dbb23",
   "metadata": {
    "tags": []
   },
   "outputs": [],
   "source": [
    "mask = {i for i, r in enumerate(results_) if r is not None}"
   ]
  },
  {
   "cell_type": "code",
   "execution_count": null,
   "id": "9aafa06b-f8c6-4b3f-a6d1-12f324a3148e",
   "metadata": {
    "tags": []
   },
   "outputs": [],
   "source": [
    "res = [results[i] for i in sorted(list(mask))]\n",
    "res_ = [results_[i] for i in sorted(list(mask))]"
   ]
  },
  {
   "cell_type": "code",
   "execution_count": null,
   "id": "ce014a76-0af0-4cb6-99a1-ace375e46067",
   "metadata": {
    "tags": []
   },
   "outputs": [],
   "source": [
    "_solvers = [(\"Optimization\", solve_optimization)]"
   ]
  },
  {
   "cell_type": "code",
   "execution_count": null,
   "id": "7913197d-c271-4079-9d73-d6a0bd6c80d1",
   "metadata": {
    "tags": []
   },
   "outputs": [],
   "source": [
    "ents_and_feats = [(r.input, r.features) for r in res_]\n",
    "solvers_args = [(f, get_camera_from_entry(e)) if f else None for e, f in ents_and_feats]\n",
    "projs = calibrate(_solvers, solvers_args)\n",
    "assert len(projs) == len(ents_and_feats)\n",
    "return evaluate(ents_and_feats, projs)"
   ]
  }
 ],
 "metadata": {
  "kernelspec": {
   "display_name": "Python 3 (ipykernel)",
   "language": "python",
   "name": "python3"
  },
  "language_info": {
   "codemirror_mode": {
    "name": "ipython",
    "version": 3
   },
   "file_extension": ".py",
   "mimetype": "text/x-python",
   "name": "python",
   "nbconvert_exporter": "python",
   "pygments_lexer": "ipython3",
   "version": "3.11.3"
  }
 },
 "nbformat": 4,
 "nbformat_minor": 5
}
