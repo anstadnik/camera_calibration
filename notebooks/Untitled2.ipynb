{
 "cells": [
  {
   "cell_type": "code",
   "execution_count": 102,
   "id": "12b09492-c447-41af-a858-835e069a9350",
   "metadata": {
    "tags": []
   },
   "outputs": [
    {
     "name": "stdout",
     "output_type": "stream",
     "text": [
      "The autoreload extension is already loaded. To reload it, use:\n",
      "  %reload_ext autoreload\n"
     ]
    }
   ],
   "source": [
    "import sys\n",
    "\n",
    "sys.path.append(\"..\")\n",
    "import pickle as pkl\n",
    "from copy import deepcopy\n",
    "from dataclasses import asdict, is_dataclass\n",
    "from itertools import product\n",
    "\n",
    "import numpy as np\n",
    "import pandas as pd\n",
    "import plotly.express as px\n",
    "import plotly.io as pio\n",
    "from dacite import from_dict\n",
    "from ipywidgets import interact\n",
    "from scipy.spatial.transform import Rotation\n",
    "from tqdm.auto import tqdm\n",
    "\n",
    "from calibration.benchmark.benchmark import BenchmarkResult, benchmark_simul\n",
    "from calibration.feature_detector.visualization import show_boards, show_corners\n",
    "from calibration.projector.board import gen_charuco_grid, gen_checkerboard_grid\n",
    "from calibration.projector.camera import Camera\n",
    "\n",
    "# pio.renderers.default = \"svg\"\n",
    "from calibration.projector.projector import Projector\n",
    "from calibration.solver.solve import solve\n",
    "\n",
    "%load_ext autoreload\n",
    "%autoreload 2"
   ]
  },
  {
   "cell_type": "code",
   "execution_count": 94,
   "id": "12e1e346-42cd-4556-9adb-51ed4e44321b",
   "metadata": {
    "tags": []
   },
   "outputs": [],
   "source": [
    "with open(\"../simul_results.pkl\", \"rb\") as f:\n",
    "    results = pkl.load(f)"
   ]
  },
  {
   "cell_type": "code",
   "execution_count": null,
   "id": "8da664ef-32e8-4d4a-be05-6ce236cdfc8a",
   "metadata": {
    "tags": []
   },
   "outputs": [],
   "source": [
    "ts = product([-0.1, 0.1], [-0.1, 0.1], np.arange(-0.2, -0.01, 0.01))\n",
    "ts = list(map(np.array, ts))\n",
    "Rs = [np.eye(3), Rotation.from_euler(\"z\", 10, degrees=True).as_matrix()]\n",
    "Rs = [np.eye(3)]\n",
    "lambdass = [\n",
    "    np.array([l1, l2])\n",
    "    for l1 in np.arange(-1.5, 1.51, 1)\n",
    "    for l2 in np.arange(\n",
    "        -2.61752136752137 * l1 - 6.85141810943093,\n",
    "        -2.61752136752137 * l1 - 4.39190876941320,\n",
    "        0.5,\n",
    "    )\n",
    "]\n",
    "cameras = [\n",
    "    Camera(),\n",
    "    # Camera(135.0, np.array([40, 30]), np.array([1920, 1080]), 1.0),\n",
    "    Camera(135.0, np.array([40, 30]), np.array([1920, 1080])),\n",
    "]\n",
    "boards = [gen_checkerboard_grid(7, 9), gen_charuco_grid(7, 9, 0.4, 0.2)]\n",
    "\n",
    "results = []\n",
    "for t, R, lambdas, camera, board in product(ts, Rs, lambdass, cameras, boards):\n",
    "    proj = Projector(R=R, t=t, lambdas=lambdas, camera=camera)\n",
    "    try:\n",
    "        x = proj.project(board)\n",
    "        if not (x > 0).all():\n",
    "            rez = 2\n",
    "        elif not (x < proj.camera.resolution).all():\n",
    "            rez = 3\n",
    "        else:\n",
    "            X_ = proj.backproject(x)\n",
    "            if np.allclose(X_, board, atol=1e-10):\n",
    "                rez = 0\n",
    "            else:\n",
    "                rez = 4\n",
    "\n",
    "    except ValueError:\n",
    "        rez = 1\n",
    "    results.append(\n",
    "        dict(\n",
    "            R=R,\n",
    "            t=t,\n",
    "            lambdas=lambdas,\n",
    "            camera=camera.focal_length == Camera().focal_length,\n",
    "            rez=str(rez),\n",
    "        )\n",
    "    )"
   ]
  },
  {
   "cell_type": "code",
   "execution_count": 103,
   "id": "b246ce06-e95d-40ab-afe5-cee51dcc8a75",
   "metadata": {
    "tags": []
   },
   "outputs": [
    {
     "data": {
      "application/vnd.jupyter.widget-view+json": {
       "model_id": "3cc22f05ef4a401db228a83097097474",
       "version_major": 2,
       "version_minor": 0
      },
      "text/plain": [
       "Testing benchmark:   0%|          | 0/320 [00:00<?, ?it/s]"
      ]
     },
     "metadata": {},
     "output_type": "display_data"
    },
    {
     "data": {
      "application/vnd.jupyter.widget-view+json": {
       "model_id": "",
       "version_major": 2,
       "version_minor": 0
      },
      "text/plain": [
       "Generating projectors: 0it [00:00, ?it/s]"
      ]
     },
     "metadata": {},
     "output_type": "display_data"
    },
    {
     "data": {
      "application/vnd.jupyter.widget-view+json": {
       "model_id": "",
       "version_major": 2,
       "version_minor": 0
      },
      "text/plain": [
       "Simulating:   0%|          | 0/100 [00:00<?, ?it/s]"
      ]
     },
     "metadata": {},
     "output_type": "display_data"
    },
    {
     "data": {
      "application/vnd.jupyter.widget-view+json": {
       "model_id": "",
       "version_major": 2,
       "version_minor": 0
      },
      "text/plain": [
       "Calibrating:   0%|          | 0/100 [00:00<?, ?it/s]"
      ]
     },
     "metadata": {},
     "output_type": "display_data"
    },
    {
     "data": {
      "application/vnd.jupyter.widget-view+json": {
       "model_id": "",
       "version_major": 2,
       "version_minor": 0
      },
      "text/plain": [
       "Evaluating:   0%|          | 0/100 [00:00<?, ?it/s]"
      ]
     },
     "metadata": {},
     "output_type": "display_data"
    },
    {
     "ename": "NameError",
     "evalue": "name 'fields' is not defined",
     "output_type": "error",
     "traceback": [
      "\u001b[0;31m---------------------------------------------------------------------------\u001b[0m",
      "\u001b[0;31mNameError\u001b[0m                                 Traceback (most recent call last)",
      "Cell \u001b[0;32mIn[103], line 45\u001b[0m\n\u001b[1;32m     43\u001b[0m     np\u001b[38;5;241m.\u001b[39mtesting\u001b[38;5;241m.\u001b[39massert_array_equal(\u001b[38;5;28mgetattr\u001b[39m(r\u001b[38;5;241m.\u001b[39minput, k), v)\n\u001b[1;32m     44\u001b[0m \u001b[38;5;28;01melse\u001b[39;00m:\n\u001b[0;32m---> 45\u001b[0m     \u001b[38;5;28;01mfor\u001b[39;00m f \u001b[38;5;129;01min\u001b[39;00m \u001b[43mfields\u001b[49m(v):\n\u001b[1;32m     46\u001b[0m         \u001b[38;5;28;01mif\u001b[39;00m \u001b[38;5;28misinstance\u001b[39m(\u001b[38;5;28mgetattr\u001b[39m(v, f\u001b[38;5;241m.\u001b[39mname), np\u001b[38;5;241m.\u001b[39mndarray):\n\u001b[1;32m     47\u001b[0m             np\u001b[38;5;241m.\u001b[39mtesting\u001b[38;5;241m.\u001b[39massert_array_equal(\n\u001b[1;32m     48\u001b[0m                 \u001b[38;5;28mgetattr\u001b[39m(v, f\u001b[38;5;241m.\u001b[39mname), \u001b[38;5;28mgetattr\u001b[39m(camera, f\u001b[38;5;241m.\u001b[39mname)\n\u001b[1;32m     49\u001b[0m             )\n",
      "\u001b[0;31mNameError\u001b[0m: name 'fields' is not defined"
     ]
    }
   ],
   "source": [
    "Rs = [\n",
    "    np.eye(3),\n",
    "    # Rotation.from_euler(\"z\", 10, degrees=True).as_matrix(),\n",
    "    Rotation.from_euler(\"xyz\", [10, 10, 10], degrees=True).as_matrix(),\n",
    "]\n",
    "lambdass = [\n",
    "    np.array([l1, l2])\n",
    "    for l1 in np.arange(-1.5, 1.51, 1)\n",
    "    for l2 in np.arange(\n",
    "        -2.61752136752137 * l1 - 6.85141810943093,\n",
    "        -2.61752136752137 * l1 - 4.39190876941320,\n",
    "        0.5,\n",
    "    )\n",
    "]\n",
    "cameras = [\n",
    "    Camera(),\n",
    "    Camera(135.0, np.array([40, 30]), np.array([1920, 1080])),\n",
    "    Camera(135.0, np.array([40, 30]), np.array([1920, 1080]), 1.0),\n",
    "]\n",
    "ts_for_cameras = [\n",
    "    list(map(np.array, product([-0.1, 0.1], [-0.1, 0.1], [-0.2, -0.01]))),\n",
    "    list(map(np.array, product([-0.01, 0.01], [-0.01, 0.01], [-0.1, -0.01]))),\n",
    "    list(map(np.array, product([-0.01, 0.01], [-0.01, 0.01], [-0.1, -0.01]))),\n",
    "]\n",
    "\n",
    "results = []\n",
    "for camera, ts in zip(cameras, ts_for_cameras):\n",
    "    for R, lambdas, t in tqdm(\n",
    "        product(Rs, lambdass, ts),\n",
    "        leave=False,\n",
    "        total=len(Rs) * len(lambdass) * len(ts),\n",
    "        desc=\"Testing benchmark\",\n",
    "    ):\n",
    "        kwargs = dict(R=R, lambdas=lambdas, t=t, camera=camera)\n",
    "        try:\n",
    "            rr = benchmark_simul(100, kwargs=kwargs)\n",
    "        except ValueError:\n",
    "            rez = 1\n",
    "        else:\n",
    "            for k, v in kwargs.items():\n",
    "                for r in rr:\n",
    "                    if isinstance(v, np.ndarray):\n",
    "                        np.testing.assert_array_equal(getattr(r.input, k), v)\n",
    "                    else:\n",
    "                        for f in fields(v):\n",
    "                            if isinstance(getattr(v, f.name), np.ndarray):\n",
    "                                np.testing.assert_array_equal(\n",
    "                                    getattr(v, f.name), getattr(camera, f.name)\n",
    "                                )\n",
    "                            else:\n",
    "                                assert getattr(v, f.name) == getattr(camera, f.name)\n",
    "\n",
    "            assert None not in rr"
   ]
  },
  {
   "cell_type": "code",
   "execution_count": 118,
   "id": "e169ae9b-cc73-4956-a6f5-0f00abe2baf2",
   "metadata": {
    "tags": []
   },
   "outputs": [
    {
     "data": {
      "text/plain": [
       "{'R': array([[ 0.96984631, -0.14131448,  0.19856573],\n",
       "        [ 0.17101007,  0.97508244, -0.14131448],\n",
       "        [-0.17364818,  0.17101007,  0.96984631]]),\n",
       " 'lambdas': array([-1.5       , -1.92513606]),\n",
       " 't': array([-0.01, -0.01, -0.1 ]),\n",
       " 'camera': Camera(focal_length=135.0, sensor_size=array([40, 30]), resolution=array([1920, 1080]), skew=0.0)}"
      ]
     },
     "execution_count": 118,
     "metadata": {},
     "output_type": "execute_result"
    }
   ],
   "source": [
    "kwargs"
   ]
  },
  {
   "cell_type": "code",
   "execution_count": 112,
   "id": "e35fd1d6-36bc-45ca-ac90-db03f981ddb9",
   "metadata": {
    "tags": []
   },
   "outputs": [
    {
     "data": {
      "application/vnd.jupyter.widget-view+json": {
       "model_id": "",
       "version_major": 2,
       "version_minor": 0
      },
      "text/plain": [
       "Generating projectors: 0it [00:00, ?it/s]"
      ]
     },
     "metadata": {},
     "output_type": "display_data"
    },
    {
     "data": {
      "application/vnd.jupyter.widget-view+json": {
       "model_id": "",
       "version_major": 2,
       "version_minor": 0
      },
      "text/plain": [
       "Simulating:   0%|          | 0/100 [00:00<?, ?it/s]"
      ]
     },
     "metadata": {},
     "output_type": "display_data"
    },
    {
     "data": {
      "application/vnd.jupyter.widget-view+json": {
       "model_id": "",
       "version_major": 2,
       "version_minor": 0
      },
      "text/plain": [
       "Calibrating:   0%|          | 0/100 [00:00<?, ?it/s]"
      ]
     },
     "metadata": {},
     "output_type": "display_data"
    },
    {
     "data": {
      "application/vnd.jupyter.widget-view+json": {
       "model_id": "",
       "version_major": 2,
       "version_minor": 0
      },
      "text/plain": [
       "Evaluating:   0%|          | 0/100 [00:00<?, ?it/s]"
      ]
     },
     "metadata": {},
     "output_type": "display_data"
    }
   ],
   "source": [
    "kwargs = dict(R=Rs[1], lambdas=lambdass[2], t=ts_for_cameras[1][0], camera=cameras[1])\n",
    "rr = benchmark_simul(100, kwargs=kwargs)"
   ]
  },
  {
   "cell_type": "code",
   "execution_count": 115,
   "id": "1114e36e-2a0c-48b8-a1f5-cb685c9b250b",
   "metadata": {
    "tags": []
   },
   "outputs": [
    {
     "ename": "ValueError",
     "evalue": "f(a) and f(b) must have different signs",
     "output_type": "error",
     "traceback": [
      "\u001b[0;31m---------------------------------------------------------------------------\u001b[0m",
      "\u001b[0;31mValueError\u001b[0m                                Traceback (most recent call last)",
      "Cell \u001b[0;32mIn[115], line 5\u001b[0m\n\u001b[1;32m      3\u001b[0m x \u001b[38;5;241m=\u001b[39m proj\u001b[38;5;241m.\u001b[39mproject(X)\n\u001b[1;32m      4\u001b[0m proj_ \u001b[38;5;241m=\u001b[39m solve(x, X, proj\u001b[38;5;241m.\u001b[39mcamera)\n\u001b[0;32m----> 5\u001b[0m \u001b[43mproj_\u001b[49m\u001b[38;5;241;43m.\u001b[39;49m\u001b[43mproject\u001b[49m\u001b[43m(\u001b[49m\u001b[43mX\u001b[49m\u001b[43m)\u001b[49m\n",
      "File \u001b[0;32m~/edu/masters/sem_3/camera_calibration/notebooks/../calibration/projector/projector.py:85\u001b[0m, in \u001b[0;36mProjector.project\u001b[0;34m(self, X, max_r)\u001b[0m\n\u001b[1;32m     80\u001b[0m     max_point \u001b[38;5;241m=\u001b[39m (\n\u001b[1;32m     81\u001b[0m         np\u001b[38;5;241m.\u001b[39mlinalg\u001b[38;5;241m.\u001b[39minv(\u001b[38;5;28mself\u001b[39m\u001b[38;5;241m.\u001b[39mcamera\u001b[38;5;241m.\u001b[39mintrinsic_matrix) \u001b[38;5;241m@\u001b[39m max_point_img_space\n\u001b[1;32m     82\u001b[0m     )\n\u001b[1;32m     83\u001b[0m     max_r \u001b[38;5;241m=\u001b[39m \u001b[38;5;28mfloat\u001b[39m(np\u001b[38;5;241m.\u001b[39mlinalg\u001b[38;5;241m.\u001b[39mnorm(max_point[:\u001b[38;5;241m2\u001b[39m]))\n\u001b[1;32m     84\u001b[0m rs \u001b[38;5;241m=\u001b[39m np\u001b[38;5;241m.\u001b[39marray(\n\u001b[0;32m---> 85\u001b[0m     \u001b[43m[\u001b[49m\u001b[43mroot_scalar\u001b[49m\u001b[43m(\u001b[49m\u001b[43mf\u001b[49m\u001b[43m,\u001b[49m\u001b[43m \u001b[49m\u001b[43margs\u001b[49m\u001b[38;5;241;43m=\u001b[39;49m\u001b[43m(\u001b[49m\u001b[43mxi\u001b[49m\u001b[43m,\u001b[49m\u001b[43m)\u001b[49m\u001b[43m,\u001b[49m\u001b[43m \u001b[49m\u001b[43mbracket\u001b[49m\u001b[38;5;241;43m=\u001b[39;49m\u001b[43m(\u001b[49m\u001b[38;5;241;43m0\u001b[39;49m\u001b[43m,\u001b[49m\u001b[43m \u001b[49m\u001b[43mmax_r\u001b[49m\u001b[43m)\u001b[49m\u001b[43m)\u001b[49m\u001b[38;5;241;43m.\u001b[39;49m\u001b[43mroot\u001b[49m\u001b[43m \u001b[49m\u001b[38;5;28;43;01mfor\u001b[39;49;00m\u001b[43m \u001b[49m\u001b[43mxi\u001b[49m\u001b[43m \u001b[49m\u001b[38;5;129;43;01min\u001b[39;49;00m\u001b[43m \u001b[49m\u001b[43mx\u001b[49m\u001b[43m[\u001b[49m\u001b[43midx\u001b[49m\u001b[43m]\u001b[49m\u001b[43m]\u001b[49m\n\u001b[1;32m     86\u001b[0m )\n\u001b[1;32m     88\u001b[0m x[idx] \u001b[38;5;241m*\u001b[39m\u001b[38;5;241m=\u001b[39m (rs \u001b[38;5;241m/\u001b[39m np\u001b[38;5;241m.\u001b[39mlinalg\u001b[38;5;241m.\u001b[39mnorm(x[idx, :\u001b[38;5;241m2\u001b[39m], axis\u001b[38;5;241m=\u001b[39m\u001b[38;5;241m1\u001b[39m))[:, np\u001b[38;5;241m.\u001b[39mnewaxis]\n\u001b[1;32m     89\u001b[0m np\u001b[38;5;241m.\u001b[39mtesting\u001b[38;5;241m.\u001b[39massert_almost_equal(\n\u001b[1;32m     90\u001b[0m     \u001b[38;5;28mself\u001b[39m\u001b[38;5;241m.\u001b[39mpsi(np\u001b[38;5;241m.\u001b[39mlinalg\u001b[38;5;241m.\u001b[39mnorm(x[idx, :\u001b[38;5;241m2\u001b[39m], axis\u001b[38;5;241m=\u001b[39m\u001b[38;5;241m1\u001b[39m)), x[idx, \u001b[38;5;241m2\u001b[39m], decimal\u001b[38;5;241m=\u001b[39m\u001b[38;5;241m5\u001b[39m\n\u001b[1;32m     91\u001b[0m )\n",
      "File \u001b[0;32m~/edu/masters/sem_3/camera_calibration/notebooks/../calibration/projector/projector.py:85\u001b[0m, in \u001b[0;36m<listcomp>\u001b[0;34m(.0)\u001b[0m\n\u001b[1;32m     80\u001b[0m     max_point \u001b[38;5;241m=\u001b[39m (\n\u001b[1;32m     81\u001b[0m         np\u001b[38;5;241m.\u001b[39mlinalg\u001b[38;5;241m.\u001b[39minv(\u001b[38;5;28mself\u001b[39m\u001b[38;5;241m.\u001b[39mcamera\u001b[38;5;241m.\u001b[39mintrinsic_matrix) \u001b[38;5;241m@\u001b[39m max_point_img_space\n\u001b[1;32m     82\u001b[0m     )\n\u001b[1;32m     83\u001b[0m     max_r \u001b[38;5;241m=\u001b[39m \u001b[38;5;28mfloat\u001b[39m(np\u001b[38;5;241m.\u001b[39mlinalg\u001b[38;5;241m.\u001b[39mnorm(max_point[:\u001b[38;5;241m2\u001b[39m]))\n\u001b[1;32m     84\u001b[0m rs \u001b[38;5;241m=\u001b[39m np\u001b[38;5;241m.\u001b[39marray(\n\u001b[0;32m---> 85\u001b[0m     [\u001b[43mroot_scalar\u001b[49m\u001b[43m(\u001b[49m\u001b[43mf\u001b[49m\u001b[43m,\u001b[49m\u001b[43m \u001b[49m\u001b[43margs\u001b[49m\u001b[38;5;241;43m=\u001b[39;49m\u001b[43m(\u001b[49m\u001b[43mxi\u001b[49m\u001b[43m,\u001b[49m\u001b[43m)\u001b[49m\u001b[43m,\u001b[49m\u001b[43m \u001b[49m\u001b[43mbracket\u001b[49m\u001b[38;5;241;43m=\u001b[39;49m\u001b[43m(\u001b[49m\u001b[38;5;241;43m0\u001b[39;49m\u001b[43m,\u001b[49m\u001b[43m \u001b[49m\u001b[43mmax_r\u001b[49m\u001b[43m)\u001b[49m\u001b[43m)\u001b[49m\u001b[38;5;241m.\u001b[39mroot \u001b[38;5;28;01mfor\u001b[39;00m xi \u001b[38;5;129;01min\u001b[39;00m x[idx]]\n\u001b[1;32m     86\u001b[0m )\n\u001b[1;32m     88\u001b[0m x[idx] \u001b[38;5;241m*\u001b[39m\u001b[38;5;241m=\u001b[39m (rs \u001b[38;5;241m/\u001b[39m np\u001b[38;5;241m.\u001b[39mlinalg\u001b[38;5;241m.\u001b[39mnorm(x[idx, :\u001b[38;5;241m2\u001b[39m], axis\u001b[38;5;241m=\u001b[39m\u001b[38;5;241m1\u001b[39m))[:, np\u001b[38;5;241m.\u001b[39mnewaxis]\n\u001b[1;32m     89\u001b[0m np\u001b[38;5;241m.\u001b[39mtesting\u001b[38;5;241m.\u001b[39massert_almost_equal(\n\u001b[1;32m     90\u001b[0m     \u001b[38;5;28mself\u001b[39m\u001b[38;5;241m.\u001b[39mpsi(np\u001b[38;5;241m.\u001b[39mlinalg\u001b[38;5;241m.\u001b[39mnorm(x[idx, :\u001b[38;5;241m2\u001b[39m], axis\u001b[38;5;241m=\u001b[39m\u001b[38;5;241m1\u001b[39m)), x[idx, \u001b[38;5;241m2\u001b[39m], decimal\u001b[38;5;241m=\u001b[39m\u001b[38;5;241m5\u001b[39m\n\u001b[1;32m     91\u001b[0m )\n",
      "File \u001b[0;32m~/micromamba/envs/camera_calibration/lib/python3.11/site-packages/scipy/optimize/_root_scalar.py:275\u001b[0m, in \u001b[0;36mroot_scalar\u001b[0;34m(f, args, method, bracket, fprime, fprime2, x0, x1, xtol, rtol, maxiter, options)\u001b[0m\n\u001b[1;32m    272\u001b[0m         \u001b[38;5;28;01mraise\u001b[39;00m \u001b[38;5;167;01mValueError\u001b[39;00m(\u001b[38;5;124m'\u001b[39m\u001b[38;5;124mBracket needed for \u001b[39m\u001b[38;5;132;01m%s\u001b[39;00m\u001b[38;5;124m'\u001b[39m \u001b[38;5;241m%\u001b[39m method)\n\u001b[1;32m    274\u001b[0m     a, b \u001b[38;5;241m=\u001b[39m bracket[:\u001b[38;5;241m2\u001b[39m]\n\u001b[0;32m--> 275\u001b[0m     r, sol \u001b[38;5;241m=\u001b[39m \u001b[43mmethodc\u001b[49m\u001b[43m(\u001b[49m\u001b[43mf\u001b[49m\u001b[43m,\u001b[49m\u001b[43m \u001b[49m\u001b[43ma\u001b[49m\u001b[43m,\u001b[49m\u001b[43m \u001b[49m\u001b[43mb\u001b[49m\u001b[43m,\u001b[49m\u001b[43m \u001b[49m\u001b[43margs\u001b[49m\u001b[38;5;241;43m=\u001b[39;49m\u001b[43margs\u001b[49m\u001b[43m,\u001b[49m\u001b[43m \u001b[49m\u001b[38;5;241;43m*\u001b[39;49m\u001b[38;5;241;43m*\u001b[39;49m\u001b[43mkwargs\u001b[49m\u001b[43m)\u001b[49m\n\u001b[1;32m    276\u001b[0m \u001b[38;5;28;01melif\u001b[39;00m meth \u001b[38;5;129;01min\u001b[39;00m [\u001b[38;5;124m'\u001b[39m\u001b[38;5;124msecant\u001b[39m\u001b[38;5;124m'\u001b[39m]:\n\u001b[1;32m    277\u001b[0m     \u001b[38;5;28;01mif\u001b[39;00m x0 \u001b[38;5;129;01mis\u001b[39;00m \u001b[38;5;28;01mNone\u001b[39;00m:\n",
      "File \u001b[0;32m~/micromamba/envs/camera_calibration/lib/python3.11/site-packages/scipy/optimize/_zeros_py.py:784\u001b[0m, in \u001b[0;36mbrentq\u001b[0;34m(f, a, b, args, xtol, rtol, maxiter, full_output, disp)\u001b[0m\n\u001b[1;32m    782\u001b[0m \u001b[38;5;28;01mif\u001b[39;00m rtol \u001b[38;5;241m<\u001b[39m _rtol:\n\u001b[1;32m    783\u001b[0m     \u001b[38;5;28;01mraise\u001b[39;00m \u001b[38;5;167;01mValueError\u001b[39;00m(\u001b[38;5;124m\"\u001b[39m\u001b[38;5;124mrtol too small (\u001b[39m\u001b[38;5;132;01m%g\u001b[39;00m\u001b[38;5;124m < \u001b[39m\u001b[38;5;132;01m%g\u001b[39;00m\u001b[38;5;124m)\u001b[39m\u001b[38;5;124m\"\u001b[39m \u001b[38;5;241m%\u001b[39m (rtol, _rtol))\n\u001b[0;32m--> 784\u001b[0m r \u001b[38;5;241m=\u001b[39m \u001b[43m_zeros\u001b[49m\u001b[38;5;241;43m.\u001b[39;49m\u001b[43m_brentq\u001b[49m\u001b[43m(\u001b[49m\u001b[43mf\u001b[49m\u001b[43m,\u001b[49m\u001b[43m \u001b[49m\u001b[43ma\u001b[49m\u001b[43m,\u001b[49m\u001b[43m \u001b[49m\u001b[43mb\u001b[49m\u001b[43m,\u001b[49m\u001b[43m \u001b[49m\u001b[43mxtol\u001b[49m\u001b[43m,\u001b[49m\u001b[43m \u001b[49m\u001b[43mrtol\u001b[49m\u001b[43m,\u001b[49m\u001b[43m \u001b[49m\u001b[43mmaxiter\u001b[49m\u001b[43m,\u001b[49m\u001b[43m \u001b[49m\u001b[43margs\u001b[49m\u001b[43m,\u001b[49m\u001b[43m \u001b[49m\u001b[43mfull_output\u001b[49m\u001b[43m,\u001b[49m\u001b[43m \u001b[49m\u001b[43mdisp\u001b[49m\u001b[43m)\u001b[49m\n\u001b[1;32m    785\u001b[0m \u001b[38;5;28;01mreturn\u001b[39;00m results_c(full_output, r)\n",
      "\u001b[0;31mValueError\u001b[0m: f(a) and f(b) must have different signs"
     ]
    }
   ],
   "source": [
    "proj = Projector(**kwargs)\n",
    "X = gen_checkerboard_grid(7, 9)\n",
    "x = proj.project(X)\n",
    "proj_ = solve(x, X, proj.camera)\n",
    "proj_.project(X)"
   ]
  },
  {
   "cell_type": "code",
   "execution_count": 116,
   "id": "547dd938-04be-4f31-b0e3-70997db68685",
   "metadata": {
    "tags": []
   },
   "outputs": [
    {
     "data": {
      "text/plain": [
       "Projector(R=array([[ 0.96984631, -0.14131448,  0.19856573],\n",
       "       [ 0.17101007,  0.97508244, -0.14131448],\n",
       "       [-0.17364818,  0.17101007,  0.96984631]]), t=array([-0.01, -0.01, -0.1 ]), lambdas=array([-1.5       , -1.92513606]), camera=Camera(focal_length=135.0, sensor_size=array([40, 30]), resolution=array([1920, 1080]), skew=0.0))"
      ]
     },
     "execution_count": 116,
     "metadata": {},
     "output_type": "execute_result"
    }
   ],
   "source": [
    "proj"
   ]
  },
  {
   "cell_type": "code",
   "execution_count": 117,
   "id": "2fcb615f-26db-4293-bf5e-6d0b6c280329",
   "metadata": {
    "tags": []
   },
   "outputs": [
    {
     "data": {
      "text/plain": [
       "Projector(R=array([[-0.94956828, -0.15702426, -0.27141015],\n",
       "       [ 0.18672055, -0.97854127, -0.08713451],\n",
       "       [-0.2519038 , -0.13341802,  0.9585114 ]]), t=array([0.11065925, 0.07918207, 8.94537215]), lambdas=array([ -54.27799501, 8643.5077533 ]), camera=Camera(focal_length=135.0, sensor_size=array([40, 30]), resolution=array([1920, 1080]), skew=0.0))"
      ]
     },
     "execution_count": 117,
     "metadata": {},
     "output_type": "execute_result"
    }
   ],
   "source": [
    "proj_"
   ]
  },
  {
   "cell_type": "code",
   "execution_count": null,
   "id": "0978c23c-7593-442f-a755-65b60b02d20a",
   "metadata": {},
   "outputs": [],
   "source": []
  }
 ],
 "metadata": {
  "kernelspec": {
   "display_name": "Python 3 (ipykernel)",
   "language": "python",
   "name": "python3"
  },
  "language_info": {
   "codemirror_mode": {
    "name": "ipython",
    "version": 3
   },
   "file_extension": ".py",
   "mimetype": "text/x-python",
   "name": "python",
   "nbconvert_exporter": "python",
   "pygments_lexer": "ipython3",
   "version": "3.11.3"
  }
 },
 "nbformat": 4,
 "nbformat_minor": 5
}
