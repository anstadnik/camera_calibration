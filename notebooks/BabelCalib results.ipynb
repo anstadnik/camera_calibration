{
 "cells": [
  {
   "cell_type": "markdown",
   "id": "9cdc17b1-fbeb-438b-98e6-69f42103736c",
   "metadata": {
    "tags": []
   },
   "source": [
    "# Imports"
   ]
  },
  {
   "cell_type": "code",
   "execution_count": 1,
   "id": "11bb95a3-edf5-429d-8acb-cefc643937e0",
   "metadata": {
    "tags": []
   },
   "outputs": [],
   "source": [
    "import sys\n",
    "\n",
    "sys.path.append(\"..\")\n",
    "import pickle as pkl\n",
    "from dataclasses import asdict, is_dataclass\n",
    "\n",
    "import numpy as np\n",
    "import pandas as pd\n",
    "import plotly.express as px\n",
    "import plotly.io as pio\n",
    "from dacite import from_dict\n",
    "from ipywidgets import interact\n",
    "\n",
    "from calibration.benchmark.benchmark_result import (\n",
    "    BenchmarkResult,\n",
    "    calc_error,\n",
    "    results_into_df,\n",
    ")\n",
    "from calibration.feature_detector.visualization import show_boards, show_corners\n",
    "from calibration.feature_refiner.refine import refine_features_single\n",
    "from calibration.feature_refiner.visualization import show_refined_corners\n",
    "from calibration.projector.board import gen_checkerboard_grid\n",
    "from calibration.projector.camera import Camera\n",
    "\n",
    "# pio.renderers.default = \"svg\"\n",
    "from calibration.projector.projector import Projector\n",
    "from calibration.solver.optimization.solve import solve as solve_optimization\n",
    "from calibration.solver.scaramuzza.solve import solve as solve_scaramuzza\n",
    "\n",
    "# from calibration.solver.solve import solve\n",
    "\n",
    "%load_ext autoreload\n",
    "%autoreload 2"
   ]
  },
  {
   "cell_type": "code",
   "execution_count": 2,
   "id": "b6b0fc27-3478-413b-90c9-af52921c556b",
   "metadata": {
    "tags": []
   },
   "outputs": [],
   "source": [
    "# with open(\"../babelcalib_results_overlay.pkl\", \"rb\") as f:\n",
    "with open(\"../babelcalib_results_None.pkl\", \"rb\") as f:\n",
    "    results = pkl.load(f)"
   ]
  },
  {
   "cell_type": "code",
   "execution_count": null,
   "id": "44606350-6f5d-48ff-841c-9a7942ec3758",
   "metadata": {
    "tags": []
   },
   "outputs": [],
   "source": [
    "df = results_into_df(results)"
   ]
  },
  {
   "cell_type": "markdown",
   "id": "e03db443-42ff-42fd-ba72-735cd3ad4576",
   "metadata": {
    "tags": []
   },
   "source": [
    "# EDA"
   ]
  },
  {
   "cell_type": "code",
   "execution_count": null,
   "id": "4d788768-3653-48b5-a972-2f086f1a3112",
   "metadata": {
    "tags": []
   },
   "outputs": [],
   "source": [
    "df.info()"
   ]
  },
  {
   "cell_type": "code",
   "execution_count": null,
   "id": "2459752b-ee7a-46f9-a420-357d3a663af5",
   "metadata": {
    "tags": []
   },
   "outputs": [],
   "source": [
    "resultsO = sorted(\n",
    "    [r for r in results if \"Optimization\" in r.errors],\n",
    "    key=lambda r: r.errors[\"Optimization\"],\n",
    ")\n",
    "resultsS = sorted(\n",
    "    [r for r in results if \"Scaramuzza\" in r.errors],\n",
    "    key=lambda r: r.errors[\"Scaramuzza\"],\n",
    ")\n",
    "\n",
    "# df_ = df[~df[\"error\"].isna()].sort_values(\"error\")\n",
    "\n",
    "px.bar(\n",
    "    y=[\n",
    "        sorted([r.errors[\"Optimization\"] for r in resultsO]),\n",
    "        sorted([r.errors[\"Scaramuzza\"] for r in resultsS]),\n",
    "    ],\n",
    "    barmode=\"overlay\",\n",
    ")"
   ]
  },
  {
   "cell_type": "code",
   "execution_count": null,
   "id": "5e606668-eb1e-4af6-a161-ac4c3825212f",
   "metadata": {
    "tags": []
   },
   "outputs": [],
   "source": [
    "(\n",
    "    sum([r.errors[\"Optimization\"] == -1 for r in results]),\n",
    "    sum([r.errors[\"Scaramuzza\"] == -1 for r in results]),\n",
    "    sum([r.errors[\"Optimization\"] > 10 for r in results]),\n",
    "    sum([r.errors[\"Scaramuzza\"] > 10 for r in results]),\n",
    "    \n",
    "    sum([-1<r.errors[\"Optimization\"] < 10 for r in results]),\n",
    "    sum([-1<r.errors[\"Scaramuzza\"] < 10 for r in results]),\n",
    ")"
   ]
  },
  {
   "cell_type": "code",
   "execution_count": null,
   "id": "8a4fb012-bf11-472e-a39d-bd187d526f5f",
   "metadata": {
    "tags": []
   },
   "outputs": [],
   "source": [
    "px.histogram(\n",
    "    x=[\n",
    "        [\n",
    "            r.errors[\"Optimization\"]\n",
    "            for r in results\n",
    "            if \"Optimization\" in r.errors and r.errors[\"Optimization\"] != -1\n",
    "        ],\n",
    "        [\n",
    "            r.errors[\"Scaramuzza\"]\n",
    "            for r in results\n",
    "            if \"Scaramuzza\" in r.errors and r.errors[\"Scaramuzza\"] != -1\n",
    "        ],\n",
    "    ],\n",
    "    barmode=\"overlay\",\n",
    ")"
   ]
  },
  {
   "cell_type": "code",
   "execution_count": 3,
   "id": "0eeafa59-4c26-4426-b2b0-bbe2b37bed77",
   "metadata": {
    "tags": []
   },
   "outputs": [],
   "source": [
    "results_ = sorted(\n",
    "    [r for r in results if \"Optimization\" in r.errors],\n",
    "    key=lambda r: r.errors[\"Optimization\"],\n",
    ")"
   ]
  },
  {
   "cell_type": "code",
   "execution_count": 12,
   "id": "dd1f99fa-6cca-430d-a590-6264f248163e",
   "metadata": {
    "tags": []
   },
   "outputs": [
    {
     "data": {
      "application/vnd.jupyter.widget-view+json": {
       "model_id": "e7d996c121e345629669f2b3f3fb0cb4",
       "version_major": 2,
       "version_minor": 0
      },
      "text/plain": [
       "interactive(children=(IntSlider(value=396, description='i', max=792), Dropdown(description='solver', options=(…"
      ]
     },
     "metadata": {},
     "output_type": "display_data"
    }
   ],
   "source": [
    "@interact\n",
    "def f(i=(0, len(results)), solver=[\"Optimization\", \"Scaramuzza\", \"Live optimize\"]):\n",
    "    r = results_[i]\n",
    "    w, h = r.input.image.size\n",
    "    # px.imshow(r.input.image, binary_string=True, height=h, width=w, ).show()\n",
    "\n",
    "    print(f\"{i}, error_Optim={r.errors['Optimization']}\")\n",
    "\n",
    "    match solver:\n",
    "        case \"Optimization\" | \"Scaramuzza\":\n",
    "            try:\n",
    "                proj = r.predictions[solver]\n",
    "                error = r.errors[solver]\n",
    "            except KeyError:\n",
    "                print(f\"Cannot get {solver} from {r.predictions.keys()}\")\n",
    "        case \"Live optimize\":\n",
    "            proj, hist = solve_optimization(\n",
    "                r.features.corners,\n",
    "                r.features.board,\n",
    "                Camera(resolution=np.array(r.input.image.size)),\n",
    "            )\n",
    "            ret = proj\n",
    "\n",
    "            px.line(hist).show()\n",
    "            error = calc_error(proj, r.features)\n",
    "        case _:\n",
    "            raise NotImplementedError\n",
    "\n",
    "    print(f\"Error {solver}: {error}\")\n",
    "\n",
    "    assert r.features is not None\n",
    "\n",
    "    # fig1 = show_boards(\n",
    "    #     r.input.image, r.features.corners, r.features.board\n",
    "    # ).update_layout(height=h, width=w)\n",
    "    # display(fig1)\n",
    "\n",
    "    try:\n",
    "        max_point_img_space = np.r_[proj.camera.resolution, 1]\n",
    "        max_point = np.linalg.inv(proj.camera.intrinsic_matrix) @ max_point_img_space\n",
    "        max_r = float(np.linalg.norm(max_point[:2]))\n",
    "        corners_ = proj.project(r.features.board, max_r * 10)\n",
    "        # corners_ = r.prediction.project(r.features.board, 100)\n",
    "        px.scatter(\n",
    "            corners_,\n",
    "            x=0,\n",
    "            y=1,\n",
    "            title=\"Projected corners\",\n",
    "            range_x=[0, w],\n",
    "            range_y=[0, h],\n",
    "            # height=h,\n",
    "            # width=w,\n",
    "        ).update_yaxes(autorange=\"reversed\")\n",
    "        px.scatter(\n",
    "            r.features.corners,\n",
    "            x=0,\n",
    "            y=1,\n",
    "            title=\"Original corners\",\n",
    "            color=range(r.features.corners.shape[0]),\n",
    "            range_x=[0, w],\n",
    "            range_y=[0, h],\n",
    "            # height=h,\n",
    "            # width=w,\n",
    "        ).update_yaxes(autorange=\"reversed\")\n",
    "        show_boards(r.input.image, corners_, r.features.board).update_layout(\n",
    "            height=h, width=w, title=\"Projected corners\"\n",
    "        ).show(\"svg\")\n",
    "    except ValueError:\n",
    "        print(\"Cannot project\")\n",
    "        \n",
    "    \n",
    "    # r_ = refine_features_single(r)\n",
    "    # show_refined_corners(\n",
    "    #     np.array(r_.input.image),\n",
    "    #     r_.refined_features.corners,\n",
    "    #     r_.refined_features.board,\n",
    "    #     r_.new_board_mask,\n",
    "    #     r_.responses,\n",
    "    # ).update_layout(height=h, width=w, title=\"Refined\").show()\n",
    "    # return\n",
    "        \n",
    "    px.scatter(\n",
    "        r.features.board,\n",
    "        x=0,\n",
    "        y=1,\n",
    "        color=range(r.features.board.shape[0]),\n",
    "        title=\"Original board\",\n",
    "        # height=h,\n",
    "        # width=w,\n",
    "    ).show(\"svg\")\n",
    "    board_ = proj.backproject(r.features.corners)\n",
    "    px.scatter(\n",
    "        board_,\n",
    "        x=0,\n",
    "        y=1,\n",
    "        title=\"Backprojected board\",\n",
    "        # height=h,\n",
    "        # width=w,\n",
    "    ).show(\"svg\")\n",
    "    # display(\n",
    "    #     # px.scatter(\n",
    "    #     #     r.features.corners,\n",
    "    #     #     x=0,\n",
    "    #     #     y=1,\n",
    "    #     #     title=\"Original corners\",\n",
    "    #     #     color=range(r.features.corners.shape[0]),\n",
    "    #     #     range_x=[0, w],\n",
    "    #     #     range_y=[0, h],\n",
    "    #     #     # height=h,\n",
    "    #     #     # width=w,\n",
    "    #     # ).update_yaxes(autorange=\"reversed\")\n",
    "    #     show_boards(r.input.image, r.features.corners, r.features.board).update_layout(\n",
    "    #         height=h, width=w, title=\"Original corners\"\n",
    "    #     )\n",
    "    # )\n",
    "\n",
    "    print(proj.R)\n",
    "    print(proj.t)\n",
    "    print(proj.lambdas)\n"
   ]
  },
  {
   "cell_type": "code",
   "execution_count": null,
   "id": "9c438564-da8d-44c0-9cbe-d34df1b8db85",
   "metadata": {},
   "outputs": [],
   "source": [
    "r = results_[470]\n",
    "\n",
    "r_ = refine_features_single(r)\n"
   ]
  },
  {
   "cell_type": "code",
   "execution_count": null,
   "id": "f9abe035-77bc-488d-9af6-34cbedd6b059",
   "metadata": {},
   "outputs": [],
   "source": []
  }
 ],
 "metadata": {
  "kernelspec": {
   "display_name": "Python 3 (ipykernel)",
   "language": "python",
   "name": "python3"
  },
  "language_info": {
   "codemirror_mode": {
    "name": "ipython",
    "version": 3
   },
   "file_extension": ".py",
   "mimetype": "text/x-python",
   "name": "python",
   "nbconvert_exporter": "python",
   "pygments_lexer": "ipython3",
   "version": "3.11.3"
  }
 },
 "nbformat": 4,
 "nbformat_minor": 5
}
