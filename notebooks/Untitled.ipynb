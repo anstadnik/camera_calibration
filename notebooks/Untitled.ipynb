{
 "cells": [
  {
   "cell_type": "code",
   "execution_count": 10,
   "id": "bf2a6ff3-1e69-4bb7-9a4d-4af8f3a0e5e8",
   "metadata": {
    "tags": []
   },
   "outputs": [
    {
     "name": "stdout",
     "output_type": "stream",
     "text": [
      "The autoreload extension is already loaded. To reload it, use:\n",
      "  %reload_ext autoreload\n"
     ]
    }
   ],
   "source": [
    "import sys\n",
    "\n",
    "import pandas as pd\n",
    "\n",
    "sys.path.append(\"..\")\n",
    "from dataclasses import asdict, is_dataclass, replace\n",
    "\n",
    "import pandas as pd\n",
    "import plotly.express as px\n",
    "import plotly.io as pio\n",
    "\n",
    "from calibration.benchmark.benchmark import BenchmarkResult, get_camera_from_entry\n",
    "from calibration.benchmark.calib import calibrate\n",
    "from calibration.benchmark.eval import eval_simul\n",
    "from calibration.benchmark.features import babelcalib_features, simul_features, _process_entry\n",
    "from calibration.data.babelcalib.babelcalib import load_babelcalib\n",
    "from calibration.projector.board import gen_checkerboard_grid\n",
    "\n",
    "# pio.renderers.default = \"svg\"\n",
    "from calibration.projector.projector import Projector\n",
    "from calibration.solver.solve import solve\n",
    "from tqdm.auto import tqdm\n",
    "%load_ext autoreload\n",
    "%autoreload 2"
   ]
  },
  {
   "cell_type": "code",
   "execution_count": null,
   "id": "3cea21c6-55c9-4367-85c0-f1a7f32b6122",
   "metadata": {
    "tags": []
   },
   "outputs": [],
   "source": [
    "n = 1000\n",
    "X = gen_checkerboard_grid(7, 9)\n",
    "\n",
    "features_and_proj = simul_features(n, X)\n",
    "projs_ = calibrate([(f, p.camera) for f, p in features_and_proj])\n",
    "benchmark_results = [\n",
    "    BenchmarkResult(p, f, p_) for (f, p), p_ in zip(features_and_proj, projs_)\n",
    "]\n",
    "rez = eval_simul(benchmark_results)"
   ]
  },
  {
   "cell_type": "code",
   "execution_count": 5,
   "id": "f5006bd1-2c33-489a-b34b-a35842ad0032",
   "metadata": {
    "tags": []
   },
   "outputs": [
    {
     "data": {
      "application/vnd.jupyter.widget-view+json": {
       "model_id": "",
       "version_major": 2,
       "version_minor": 0
      },
      "text/plain": [
       "Process dataset:   0%|          | 0/40 [00:00<?, ?it/s]"
      ]
     },
     "metadata": {},
     "output_type": "display_data"
    },
    {
     "data": {
      "application/vnd.jupyter.widget-view+json": {
       "model_id": "",
       "version_major": 2,
       "version_minor": 0
      },
      "text/plain": [
       "Searching corners:   0%|          | 0/50 [00:00<?, ?it/s]"
      ]
     },
     "metadata": {},
     "output_type": "display_data"
    },
    {
     "data": {
      "application/vnd.jupyter.widget-view+json": {
       "model_id": "",
       "version_major": 2,
       "version_minor": 0
      },
      "text/plain": [
       "Searching corners:   0%|          | 0/50 [00:00<?, ?it/s]"
      ]
     },
     "metadata": {},
     "output_type": "display_data"
    },
    {
     "data": {
      "application/vnd.jupyter.widget-view+json": {
       "model_id": "",
       "version_major": 2,
       "version_minor": 0
      },
      "text/plain": [
       "Searching corners:   0%|          | 0/50 [00:00<?, ?it/s]"
      ]
     },
     "metadata": {},
     "output_type": "display_data"
    },
    {
     "data": {
      "application/vnd.jupyter.widget-view+json": {
       "model_id": "",
       "version_major": 2,
       "version_minor": 0
      },
      "text/plain": [
       "Searching corners:   0%|          | 0/50 [00:00<?, ?it/s]"
      ]
     },
     "metadata": {},
     "output_type": "display_data"
    },
    {
     "data": {
      "application/vnd.jupyter.widget-view+json": {
       "model_id": "",
       "version_major": 2,
       "version_minor": 0
      },
      "text/plain": [
       "Searching corners:   0%|          | 0/50 [00:00<?, ?it/s]"
      ]
     },
     "metadata": {},
     "output_type": "display_data"
    },
    {
     "data": {
      "application/vnd.jupyter.widget-view+json": {
       "model_id": "",
       "version_major": 2,
       "version_minor": 0
      },
      "text/plain": [
       "Searching corners:   0%|          | 0/50 [00:00<?, ?it/s]"
      ]
     },
     "metadata": {},
     "output_type": "display_data"
    },
    {
     "data": {
      "application/vnd.jupyter.widget-view+json": {
       "model_id": "",
       "version_major": 2,
       "version_minor": 0
      },
      "text/plain": [
       "Searching corners:   0%|          | 0/50 [00:00<?, ?it/s]"
      ]
     },
     "metadata": {},
     "output_type": "display_data"
    },
    {
     "data": {
      "application/vnd.jupyter.widget-view+json": {
       "model_id": "",
       "version_major": 2,
       "version_minor": 0
      },
      "text/plain": [
       "Searching corners:   0%|          | 0/50 [00:00<?, ?it/s]"
      ]
     },
     "metadata": {},
     "output_type": "display_data"
    },
    {
     "data": {
      "application/vnd.jupyter.widget-view+json": {
       "model_id": "",
       "version_major": 2,
       "version_minor": 0
      },
      "text/plain": [
       "Searching corners:   0%|          | 0/50 [00:00<?, ?it/s]"
      ]
     },
     "metadata": {},
     "output_type": "display_data"
    },
    {
     "data": {
      "application/vnd.jupyter.widget-view+json": {
       "model_id": "",
       "version_major": 2,
       "version_minor": 0
      },
      "text/plain": [
       "Searching corners:   0%|          | 0/50 [00:00<?, ?it/s]"
      ]
     },
     "metadata": {},
     "output_type": "display_data"
    },
    {
     "data": {
      "application/vnd.jupyter.widget-view+json": {
       "model_id": "",
       "version_major": 2,
       "version_minor": 0
      },
      "text/plain": [
       "Searching corners:   0%|          | 0/50 [00:00<?, ?it/s]"
      ]
     },
     "metadata": {},
     "output_type": "display_data"
    },
    {
     "data": {
      "application/vnd.jupyter.widget-view+json": {
       "model_id": "",
       "version_major": 2,
       "version_minor": 0
      },
      "text/plain": [
       "Searching corners:   0%|          | 0/50 [00:00<?, ?it/s]"
      ]
     },
     "metadata": {},
     "output_type": "display_data"
    },
    {
     "data": {
      "application/vnd.jupyter.widget-view+json": {
       "model_id": "",
       "version_major": 2,
       "version_minor": 0
      },
      "text/plain": [
       "Searching corners:   0%|          | 0/50 [00:00<?, ?it/s]"
      ]
     },
     "metadata": {},
     "output_type": "display_data"
    },
    {
     "data": {
      "application/vnd.jupyter.widget-view+json": {
       "model_id": "",
       "version_major": 2,
       "version_minor": 0
      },
      "text/plain": [
       "Searching corners:   0%|          | 0/50 [00:00<?, ?it/s]"
      ]
     },
     "metadata": {},
     "output_type": "display_data"
    },
    {
     "data": {
      "application/vnd.jupyter.widget-view+json": {
       "model_id": "",
       "version_major": 2,
       "version_minor": 0
      },
      "text/plain": [
       "Searching corners:   0%|          | 0/50 [00:00<?, ?it/s]"
      ]
     },
     "metadata": {},
     "output_type": "display_data"
    },
    {
     "data": {
      "application/vnd.jupyter.widget-view+json": {
       "model_id": "",
       "version_major": 2,
       "version_minor": 0
      },
      "text/plain": [
       "Searching corners:   0%|          | 0/50 [00:00<?, ?it/s]"
      ]
     },
     "metadata": {},
     "output_type": "display_data"
    },
    {
     "data": {
      "application/vnd.jupyter.widget-view+json": {
       "model_id": "",
       "version_major": 2,
       "version_minor": 0
      },
      "text/plain": [
       "Searching corners:   0%|          | 0/37 [00:00<?, ?it/s]"
      ]
     },
     "metadata": {},
     "output_type": "display_data"
    },
    {
     "data": {
      "application/vnd.jupyter.widget-view+json": {
       "model_id": "",
       "version_major": 2,
       "version_minor": 0
      },
      "text/plain": [
       "Searching corners:   0%|          | 0/45 [00:00<?, ?it/s]"
      ]
     },
     "metadata": {},
     "output_type": "display_data"
    },
    {
     "data": {
      "application/vnd.jupyter.widget-view+json": {
       "model_id": "",
       "version_major": 2,
       "version_minor": 0
      },
      "text/plain": [
       "Searching corners:   0%|          | 0/35 [00:00<?, ?it/s]"
      ]
     },
     "metadata": {},
     "output_type": "display_data"
    },
    {
     "data": {
      "application/vnd.jupyter.widget-view+json": {
       "model_id": "",
       "version_major": 2,
       "version_minor": 0
      },
      "text/plain": [
       "Searching corners:   0%|          | 0/37 [00:00<?, ?it/s]"
      ]
     },
     "metadata": {},
     "output_type": "display_data"
    },
    {
     "data": {
      "application/vnd.jupyter.widget-view+json": {
       "model_id": "",
       "version_major": 2,
       "version_minor": 0
      },
      "text/plain": [
       "Searching corners:   0%|          | 0/28 [00:00<?, ?it/s]"
      ]
     },
     "metadata": {},
     "output_type": "display_data"
    },
    {
     "data": {
      "application/vnd.jupyter.widget-view+json": {
       "model_id": "",
       "version_major": 2,
       "version_minor": 0
      },
      "text/plain": [
       "Searching corners:   0%|          | 0/12 [00:00<?, ?it/s]"
      ]
     },
     "metadata": {},
     "output_type": "display_data"
    },
    {
     "data": {
      "application/vnd.jupyter.widget-view+json": {
       "model_id": "",
       "version_major": 2,
       "version_minor": 0
      },
      "text/plain": [
       "Searching corners:   0%|          | 0/50 [00:00<?, ?it/s]"
      ]
     },
     "metadata": {},
     "output_type": "display_data"
    },
    {
     "data": {
      "application/vnd.jupyter.widget-view+json": {
       "model_id": "",
       "version_major": 2,
       "version_minor": 0
      },
      "text/plain": [
       "Searching corners:   0%|          | 0/43 [00:00<?, ?it/s]"
      ]
     },
     "metadata": {},
     "output_type": "display_data"
    },
    {
     "data": {
      "application/vnd.jupyter.widget-view+json": {
       "model_id": "",
       "version_major": 2,
       "version_minor": 0
      },
      "text/plain": [
       "Searching corners:   0%|          | 0/50 [00:00<?, ?it/s]"
      ]
     },
     "metadata": {},
     "output_type": "display_data"
    },
    {
     "data": {
      "application/vnd.jupyter.widget-view+json": {
       "model_id": "",
       "version_major": 2,
       "version_minor": 0
      },
      "text/plain": [
       "Searching corners:   0%|          | 0/50 [00:00<?, ?it/s]"
      ]
     },
     "metadata": {},
     "output_type": "display_data"
    },
    {
     "data": {
      "application/vnd.jupyter.widget-view+json": {
       "model_id": "",
       "version_major": 2,
       "version_minor": 0
      },
      "text/plain": [
       "Searching corners:   0%|          | 0/50 [00:00<?, ?it/s]"
      ]
     },
     "metadata": {},
     "output_type": "display_data"
    },
    {
     "data": {
      "application/vnd.jupyter.widget-view+json": {
       "model_id": "",
       "version_major": 2,
       "version_minor": 0
      },
      "text/plain": [
       "Searching corners:   0%|          | 0/50 [00:00<?, ?it/s]"
      ]
     },
     "metadata": {},
     "output_type": "display_data"
    },
    {
     "data": {
      "application/vnd.jupyter.widget-view+json": {
       "model_id": "",
       "version_major": 2,
       "version_minor": 0
      },
      "text/plain": [
       "Searching corners:   0%|          | 0/50 [00:00<?, ?it/s]"
      ]
     },
     "metadata": {},
     "output_type": "display_data"
    },
    {
     "data": {
      "application/vnd.jupyter.widget-view+json": {
       "model_id": "",
       "version_major": 2,
       "version_minor": 0
      },
      "text/plain": [
       "Searching corners:   0%|          | 0/50 [00:00<?, ?it/s]"
      ]
     },
     "metadata": {},
     "output_type": "display_data"
    },
    {
     "data": {
      "application/vnd.jupyter.widget-view+json": {
       "model_id": "",
       "version_major": 2,
       "version_minor": 0
      },
      "text/plain": [
       "Searching corners:   0%|          | 0/50 [00:00<?, ?it/s]"
      ]
     },
     "metadata": {},
     "output_type": "display_data"
    },
    {
     "data": {
      "application/vnd.jupyter.widget-view+json": {
       "model_id": "",
       "version_major": 2,
       "version_minor": 0
      },
      "text/plain": [
       "Searching corners:   0%|          | 0/50 [00:00<?, ?it/s]"
      ]
     },
     "metadata": {},
     "output_type": "display_data"
    },
    {
     "data": {
      "application/vnd.jupyter.widget-view+json": {
       "model_id": "",
       "version_major": 2,
       "version_minor": 0
      },
      "text/plain": [
       "Searching corners:   0%|          | 0/13 [00:00<?, ?it/s]"
      ]
     },
     "metadata": {},
     "output_type": "display_data"
    },
    {
     "data": {
      "application/vnd.jupyter.widget-view+json": {
       "model_id": "",
       "version_major": 2,
       "version_minor": 0
      },
      "text/plain": [
       "Searching corners:   0%|          | 0/8 [00:00<?, ?it/s]"
      ]
     },
     "metadata": {},
     "output_type": "display_data"
    },
    {
     "data": {
      "application/vnd.jupyter.widget-view+json": {
       "model_id": "",
       "version_major": 2,
       "version_minor": 0
      },
      "text/plain": [
       "Searching corners:   0%|          | 0/15 [00:00<?, ?it/s]"
      ]
     },
     "metadata": {},
     "output_type": "display_data"
    },
    {
     "data": {
      "application/vnd.jupyter.widget-view+json": {
       "model_id": "",
       "version_major": 2,
       "version_minor": 0
      },
      "text/plain": [
       "Searching corners:   0%|          | 0/15 [00:00<?, ?it/s]"
      ]
     },
     "metadata": {},
     "output_type": "display_data"
    },
    {
     "data": {
      "application/vnd.jupyter.widget-view+json": {
       "model_id": "",
       "version_major": 2,
       "version_minor": 0
      },
      "text/plain": [
       "Searching corners:   0%|          | 0/11 [00:00<?, ?it/s]"
      ]
     },
     "metadata": {},
     "output_type": "display_data"
    },
    {
     "data": {
      "application/vnd.jupyter.widget-view+json": {
       "model_id": "",
       "version_major": 2,
       "version_minor": 0
      },
      "text/plain": [
       "Searching corners:   0%|          | 0/17 [00:00<?, ?it/s]"
      ]
     },
     "metadata": {},
     "output_type": "display_data"
    },
    {
     "data": {
      "application/vnd.jupyter.widget-view+json": {
       "model_id": "",
       "version_major": 2,
       "version_minor": 0
      },
      "text/plain": [
       "Searching corners:   0%|          | 0/16 [00:00<?, ?it/s]"
      ]
     },
     "metadata": {},
     "output_type": "display_data"
    },
    {
     "data": {
      "application/vnd.jupyter.widget-view+json": {
       "model_id": "",
       "version_major": 2,
       "version_minor": 0
      },
      "text/plain": [
       "Searching corners:   0%|          | 0/10 [00:00<?, ?it/s]"
      ]
     },
     "metadata": {},
     "output_type": "display_data"
    },
    {
     "data": {
      "application/vnd.jupyter.widget-view+json": {
       "model_id": "",
       "version_major": 2,
       "version_minor": 0
      },
      "text/plain": [
       "Calibrating:   0%|          | 0/1592 [00:00<?, ?it/s]"
      ]
     },
     "metadata": {},
     "output_type": "display_data"
    },
    {
     "data": {
      "application/vnd.jupyter.widget-view+json": {
       "model_id": "",
       "version_major": 2,
       "version_minor": 0
      },
      "text/plain": [
       "Calculating error:   0%|          | 0/1592 [00:00<?, ?it/s]"
      ]
     },
     "metadata": {},
     "output_type": "display_data"
    }
   ],
   "source": [
    "dataset = load_babelcalib(\"../data/BabelCalib/\")\n",
    "features_and_entries = babelcalib_features(dataset)\n",
    "cameras = [get_camera_from_entry(e) for _, e in features_and_entries]\n",
    "projs_ = calibrate([(f, c) for (f, _), c in zip(features_and_entries, cameras)])\n",
    "benchmark_results = [\n",
    "    BenchmarkResult((e, c), f, p_)\n",
    "    for (f, e), c, p_ in zip(features_and_entries, cameras, projs_)\n",
    "]\n",
    "rez = eval_simul(benchmark_results)"
   ]
  },
  {
   "cell_type": "code",
   "execution_count": 35,
   "id": "1cad1163-3cfd-47c7-b1b4-0ed363f16618",
   "metadata": {
    "tags": []
   },
   "outputs": [
    {
     "data": {
      "text/plain": [
       "{'input': ({'ds_name': 'UZH/DAVIS/indoor_forward',\n",
       "   'subds_name': 'train',\n",
       "   'name': '1540816623758035396',\n",
       "   'width': 346,\n",
       "   'height': 260,\n",
       "   'num_corners': 58,\n",
       "   'encoding': 'ascii',\n",
       "   'corners': [{'camera_id': 0,\n",
       "     'corner_id': 0,\n",
       "     'marker_id': 1,\n",
       "     'x': 164.33753967285156,\n",
       "     'y': 236.1239471435547},\n",
       "    {'camera_id': 0,\n",
       "     'corner_id': 1,\n",
       "     'marker_id': 1,\n",
       "     'x': 205.82557678222656,\n",
       "     'y': 233.7189178466797},\n",
       "    {'camera_id': 0,\n",
       "     'corner_id': 2,\n",
       "     'marker_id': 1,\n",
       "     'x': 210.29876708984375,\n",
       "     'y': 197.63365173339844},\n",
       "    {'camera_id': 0,\n",
       "     'corner_id': 3,\n",
       "     'marker_id': 1,\n",
       "     'x': 164.55935668945312,\n",
       "     'y': 199.6136932373047},\n",
       "    {'camera_id': 0,\n",
       "     'corner_id': 4,\n",
       "     'marker_id': 1,\n",
       "     'x': 213.63912963867188,\n",
       "     'y': 232.88185119628906},\n",
       "    {'camera_id': 0,\n",
       "     'corner_id': 5,\n",
       "     'marker_id': 1,\n",
       "     'x': 249.23406982421875,\n",
       "     'y': 226.6154022216797},\n",
       "    {'camera_id': 0,\n",
       "     'corner_id': 6,\n",
       "     'marker_id': 1,\n",
       "     'x': 256.4702453613281,\n",
       "     'y': 192.3023681640625},\n",
       "    {'camera_id': 0,\n",
       "     'corner_id': 7,\n",
       "     'marker_id': 1,\n",
       "     'x': 218.6172332763672,\n",
       "     'y': 196.95889282226562},\n",
       "    {'camera_id': 0,\n",
       "     'corner_id': 8,\n",
       "     'marker_id': 1,\n",
       "     'x': 255.5699920654297,\n",
       "     'y': 225.27410888671875},\n",
       "    {'camera_id': 0,\n",
       "     'corner_id': 9,\n",
       "     'marker_id': 1,\n",
       "     'x': 283.3567199707031,\n",
       "     'y': 217.46717834472656},\n",
       "    {'camera_id': 0,\n",
       "     'corner_id': 10,\n",
       "     'marker_id': 1,\n",
       "     'x': 290.5256652832031,\n",
       "     'y': 185.72109985351562},\n",
       "    {'camera_id': 0,\n",
       "     'corner_id': 11,\n",
       "     'marker_id': 1,\n",
       "     'x': 262.7992248535156,\n",
       "     'y': 191.33438110351562},\n",
       "    {'camera_id': 0,\n",
       "     'corner_id': 20,\n",
       "     'marker_id': 1,\n",
       "     'x': 164.50791931152344,\n",
       "     'y': 191.17498779296875},\n",
       "    {'camera_id': 0,\n",
       "     'corner_id': 21,\n",
       "     'marker_id': 1,\n",
       "     'x': 210.74099731445312,\n",
       "     'y': 189.38873291015625},\n",
       "    {'camera_id': 0,\n",
       "     'corner_id': 22,\n",
       "     'marker_id': 1,\n",
       "     'x': 213.37631225585938,\n",
       "     'y': 143.3931884765625},\n",
       "    {'camera_id': 0,\n",
       "     'corner_id': 23,\n",
       "     'marker_id': 1,\n",
       "     'x': 164.54066467285156,\n",
       "     'y': 143.70033264160156},\n",
       "    {'camera_id': 0,\n",
       "     'corner_id': 24,\n",
       "     'marker_id': 1,\n",
       "     'x': 219.48147583007812,\n",
       "     'y': 188.630615234375},\n",
       "    {'camera_id': 0,\n",
       "     'corner_id': 25,\n",
       "     'marker_id': 1,\n",
       "     'x': 257.59429931640625,\n",
       "     'y': 184.4823760986328},\n",
       "    {'camera_id': 0,\n",
       "     'corner_id': 26,\n",
       "     'marker_id': 1,\n",
       "     'x': 261.3280029296875,\n",
       "     'y': 142.5880584716797},\n",
       "    {'camera_id': 0,\n",
       "     'corner_id': 27,\n",
       "     'marker_id': 1,\n",
       "     'x': 222.5679473876953,\n",
       "     'y': 143.23797607421875},\n",
       "    {'camera_id': 0,\n",
       "     'corner_id': 28,\n",
       "     'marker_id': 1,\n",
       "     'x': 263.9102478027344,\n",
       "     'y': 183.7313690185547},\n",
       "    {'camera_id': 0,\n",
       "     'corner_id': 29,\n",
       "     'marker_id': 1,\n",
       "     'x': 291.796875,\n",
       "     'y': 178.81959533691406},\n",
       "    {'camera_id': 0,\n",
       "     'corner_id': 30,\n",
       "     'marker_id': 1,\n",
       "     'x': 295.47149658203125,\n",
       "     'y': 141.6116180419922},\n",
       "    {'camera_id': 0,\n",
       "     'corner_id': 31,\n",
       "     'marker_id': 1,\n",
       "     'x': 268.0595397949219,\n",
       "     'y': 142.56239318847656},\n",
       "    {'camera_id': 0,\n",
       "     'corner_id': 32,\n",
       "     'marker_id': 1,\n",
       "     'x': 295.9627380371094,\n",
       "     'y': 178.02659606933594},\n",
       "    {'camera_id': 0,\n",
       "     'corner_id': 33,\n",
       "     'marker_id': 1,\n",
       "     'x': 316.8489074707031,\n",
       "     'y': 173.36236572265625},\n",
       "    {'camera_id': 0,\n",
       "     'corner_id': 34,\n",
       "     'marker_id': 1,\n",
       "     'x': 319.9458923339844,\n",
       "     'y': 140.77975463867188},\n",
       "    {'camera_id': 0,\n",
       "     'corner_id': 35,\n",
       "     'marker_id': 1,\n",
       "     'x': 300.2059326171875,\n",
       "     'y': 141.60525512695312},\n",
       "    {'camera_id': 0,\n",
       "     'corner_id': 40,\n",
       "     'marker_id': 1,\n",
       "     'x': 164.47592163085938,\n",
       "     'y': 133.50111389160156},\n",
       "    {'camera_id': 0,\n",
       "     'corner_id': 41,\n",
       "     'marker_id': 1,\n",
       "     'x': 213.6813507080078,\n",
       "     'y': 133.49586486816406},\n",
       "    {'camera_id': 0,\n",
       "     'corner_id': 42,\n",
       "     'marker_id': 1,\n",
       "     'x': 212.82081604003906,\n",
       "     'y': 85.66471099853516},\n",
       "    {'camera_id': 0,\n",
       "     'corner_id': 43,\n",
       "     'marker_id': 1,\n",
       "     'x': 164.6174774169922,\n",
       "     'y': 83.88998413085938},\n",
       "    {'camera_id': 0,\n",
       "     'corner_id': 44,\n",
       "     'marker_id': 1,\n",
       "     'x': 222.39561462402344,\n",
       "     'y': 133.63662719726562},\n",
       "    {'camera_id': 0,\n",
       "     'corner_id': 45,\n",
       "     'marker_id': 1,\n",
       "     'x': 261.6001892089844,\n",
       "     'y': 133.87657165527344},\n",
       "    {'camera_id': 0,\n",
       "     'corner_id': 46,\n",
       "     'marker_id': 1,\n",
       "     'x': 260.53717041015625,\n",
       "     'y': 90.35894012451172},\n",
       "    {'camera_id': 0,\n",
       "     'corner_id': 47,\n",
       "     'marker_id': 1,\n",
       "     'x': 221.49090576171875,\n",
       "     'y': 86.23308563232422},\n",
       "    {'camera_id': 0,\n",
       "     'corner_id': 48,\n",
       "     'marker_id': 1,\n",
       "     'x': 268.4227600097656,\n",
       "     'y': 133.7984161376953},\n",
       "    {'camera_id': 0,\n",
       "     'corner_id': 49,\n",
       "     'marker_id': 1,\n",
       "     'x': 295.5649719238281,\n",
       "     'y': 134.16253662109375},\n",
       "    {'camera_id': 0,\n",
       "     'corner_id': 50,\n",
       "     'marker_id': 1,\n",
       "     'x': 294.43841552734375,\n",
       "     'y': 95.61483764648438},\n",
       "    {'camera_id': 0,\n",
       "     'corner_id': 51,\n",
       "     'marker_id': 1,\n",
       "     'x': 267.2158203125,\n",
       "     'y': 91.20576477050781},\n",
       "    {'camera_id': 0,\n",
       "     'corner_id': 52,\n",
       "     'marker_id': 1,\n",
       "     'x': 300.3302917480469,\n",
       "     'y': 134.18577575683594},\n",
       "    {'camera_id': 0,\n",
       "     'corner_id': 53,\n",
       "     'marker_id': 1,\n",
       "     'x': 320.84716796875,\n",
       "     'y': 134.50814819335938},\n",
       "    {'camera_id': 0,\n",
       "     'corner_id': 54,\n",
       "     'marker_id': 1,\n",
       "     'x': 319.749755859375,\n",
       "     'y': 100.9537353515625},\n",
       "    {'camera_id': 0,\n",
       "     'corner_id': 55,\n",
       "     'marker_id': 1,\n",
       "     'x': 299.4398498535156,\n",
       "     'y': 96.70396423339844},\n",
       "    {'camera_id': 0,\n",
       "     'corner_id': 60,\n",
       "     'marker_id': 1,\n",
       "     'x': 164.5406951904297,\n",
       "     'y': 74.29898834228516},\n",
       "    {'camera_id': 0,\n",
       "     'corner_id': 61,\n",
       "     'marker_id': 1,\n",
       "     'x': 212.4447784423828,\n",
       "     'y': 76.50242614746094},\n",
       "    {'camera_id': 0,\n",
       "     'corner_id': 62,\n",
       "     'marker_id': 1,\n",
       "     'x': 209.00381469726562,\n",
       "     'y': 36.279563903808594},\n",
       "    {'camera_id': 0,\n",
       "     'corner_id': 63,\n",
       "     'marker_id': 1,\n",
       "     'x': 164.59869384765625,\n",
       "     'y': 33.388797760009766},\n",
       "    {'camera_id': 0,\n",
       "     'corner_id': 64,\n",
       "     'marker_id': 1,\n",
       "     'x': 221.44825744628906,\n",
       "     'y': 77.32257843017578},\n",
       "    {'camera_id': 0,\n",
       "     'corner_id': 65,\n",
       "     'marker_id': 1,\n",
       "     'x': 259.6841125488281,\n",
       "     'y': 81.91487884521484},\n",
       "    {'camera_id': 0,\n",
       "     'corner_id': 66,\n",
       "     'marker_id': 1,\n",
       "     'x': 254.34085083007812,\n",
       "     'y': 44.1931266784668},\n",
       "    {'camera_id': 0,\n",
       "     'corner_id': 67,\n",
       "     'marker_id': 1,\n",
       "     'x': 217.53292846679688,\n",
       "     'y': 37.296382904052734},\n",
       "    {'camera_id': 0,\n",
       "     'corner_id': 68,\n",
       "     'marker_id': 1,\n",
       "     'x': 266.5271301269531,\n",
       "     'y': 82.87582397460938},\n",
       "    {'camera_id': 0,\n",
       "     'corner_id': 69,\n",
       "     'marker_id': 1,\n",
       "     'x': 294.3770446777344,\n",
       "     'y': 88.63368225097656},\n",
       "    {'camera_id': 0,\n",
       "     'corner_id': 71,\n",
       "     'marker_id': 1,\n",
       "     'x': 260.7288818359375,\n",
       "     'y': 45.67518615722656},\n",
       "    {'camera_id': 0,\n",
       "     'corner_id': 72,\n",
       "     'marker_id': 1,\n",
       "     'x': 298.3410949707031,\n",
       "     'y': 89.26832580566406},\n",
       "    {'camera_id': 0,\n",
       "     'corner_id': 73,\n",
       "     'marker_id': 1,\n",
       "     'x': 318.571044921875,\n",
       "     'y': 94.80647277832031},\n",
       "    {'camera_id': 0,\n",
       "     'corner_id': 74,\n",
       "     'marker_id': 1,\n",
       "     'x': 314.65753173828125,\n",
       "     'y': 63.88068389892578}],\n",
       "   'image': <PIL.PpmImagePlugin.PpmImageFile image mode=L size=346x260>},\n",
       "  {'focal_length': 35,\n",
       "   'sensor_size': array([346, 260]),\n",
       "   'resolution': array([36.        , 27.05202312]),\n",
       "   'skew': 0}),\n",
       " 'features': None,\n",
       " 'prediction': None}"
      ]
     },
     "execution_count": 35,
     "metadata": {},
     "output_type": "execute_result"
    }
   ],
   "source": [
    "asdict(benchmark_results[0])"
   ]
  },
  {
   "cell_type": "code",
   "execution_count": 7,
   "id": "c2348d93-cda0-4624-8db2-89bac8153f5d",
   "metadata": {
    "tags": []
   },
   "outputs": [
    {
     "data": {
      "text/plain": [
       "0"
      ]
     },
     "execution_count": 7,
     "metadata": {},
     "output_type": "execute_result"
    }
   ],
   "source": [
    "len([f for f, e in features_and_entries if f is not None])"
   ]
  },
  {
   "cell_type": "code",
   "execution_count": null,
   "id": "14c7e7f3-2848-44c0-a282-9ae719fbd9b6",
   "metadata": {},
   "outputs": [],
   "source": [
    "# img_path = \"./data/BabelCalib/OV/cube/ov01/train/0006.pgm\""
   ]
  },
  {
   "cell_type": "code",
   "execution_count": 18,
   "id": "48ea1db6-ac00-47f9-9d32-f0767e0ac251",
   "metadata": {
    "tags": []
   },
   "outputs": [],
   "source": [
    "ds = next(ds for ds in dataset if ds.name == \"OV/cube/ov01\")\n",
    "e = next(e for e in ds.train)"
   ]
  },
  {
   "cell_type": "code",
   "execution_count": 25,
   "id": "3043fd1e-d780-4b24-bddb-e2f05ca76d1e",
   "metadata": {
    "tags": []
   },
   "outputs": [
    {
     "data": {
      "text/plain": [
       "NoneType"
      ]
     },
     "execution_count": 25,
     "metadata": {},
     "output_type": "execute_result"
    }
   ],
   "source": [
    "type(hm)"
   ]
  },
  {
   "cell_type": "code",
   "execution_count": null,
   "id": "a995594a-8de8-4196-a24e-7be66e07aa81",
   "metadata": {},
   "outputs": [],
   "source": [
    "df['OV']"
   ]
  },
  {
   "cell_type": "code",
   "execution_count": 12,
   "id": "d7c643d7-f85c-450f-bb8d-cb6e1d5d933a",
   "metadata": {
    "tags": []
   },
   "outputs": [
    {
     "data": {
      "application/vnd.jupyter.widget-view+json": {
       "model_id": "37c5701f64ac4d2188e67083c4796a5b",
       "version_major": 2,
       "version_minor": 0
      },
      "text/plain": [
       "  0%|          | 0/1592 [00:00<?, ?it/s]"
      ]
     },
     "metadata": {},
     "output_type": "display_data"
    },
    {
     "name": "stdout",
     "output_type": "stream",
     "text": [
      "len(corners.p)=55, len(boards)=0\n",
      "len(corners.p)=55, len(boards)=0\n",
      "len(corners.p)=54, len(boards)=0\n",
      "len(corners.p)=72, len(boards)=0\n",
      "len(corners.p)=61, len(boards)=0\n",
      "len(corners.p)=67, len(boards)=0\n",
      "len(corners.p)=84, len(boards)=0\n",
      "len(corners.p)=90, len(boards)=0\n",
      "len(corners.p)=91, len(boards)=0\n",
      "len(corners.p)=68, len(boards)=0\n",
      "len(corners.p)=59, len(boards)=0\n",
      "len(corners.p)=56, len(boards)=0\n",
      "len(corners.p)=52, len(boards)=0\n",
      "len(corners.p)=21, len(boards)=0\n",
      "len(corners.p)=22, len(boards)=0\n",
      "len(corners.p)=23, len(boards)=0\n",
      "len(corners.p)=28, len(boards)=0\n",
      "len(corners.p)=26, len(boards)=0\n",
      "len(corners.p)=60, len(boards)=0\n",
      "len(corners.p)=52, len(boards)=0\n",
      "len(corners.p)=46, len(boards)=0\n",
      "len(corners.p)=25, len(boards)=0\n",
      "len(corners.p)=1, len(boards)=0\n",
      "len(corners.p)=2, len(boards)=0\n",
      "len(corners.p)=2, len(boards)=0\n",
      "len(corners.p)=2, len(boards)=0\n",
      "len(corners.p)=2, len(boards)=0\n",
      "len(corners.p)=19, len(boards)=0\n",
      "len(corners.p)=25, len(boards)=0\n",
      "len(corners.p)=2, len(boards)=0\n",
      "len(corners.p)=1, len(boards)=0\n",
      "len(corners.p)=0, len(boards)=0\n",
      "len(corners.p)=1, len(boards)=0\n",
      "len(corners.p)=14, len(boards)=0\n",
      "len(corners.p)=43, len(boards)=0\n",
      "len(corners.p)=69, len(boards)=0\n",
      "len(corners.p)=58, len(boards)=0\n",
      "len(corners.p)=91, len(boards)=0\n",
      "len(corners.p)=82, len(boards)=0\n",
      "len(corners.p)=78, len(boards)=0\n",
      "len(corners.p)=58, len(boards)=0\n",
      "len(corners.p)=44, len(boards)=0\n",
      "len(corners.p)=35, len(boards)=0\n",
      "len(corners.p)=32, len(boards)=0\n",
      "len(corners.p)=59, len(boards)=0\n",
      "len(corners.p)=1, len(boards)=0\n",
      "len(corners.p)=21, len(boards)=0\n",
      "len(corners.p)=1, len(boards)=0\n",
      "len(corners.p)=4, len(boards)=0\n",
      "len(corners.p)=38, len(boards)=0\n",
      "len(corners.p)=7, len(boards)=0\n",
      "len(corners.p)=79, len(boards)=0\n",
      "len(corners.p)=81, len(boards)=0\n",
      "len(corners.p)=73, len(boards)=0\n",
      "len(corners.p)=75, len(boards)=0\n",
      "len(corners.p)=87, len(boards)=0\n",
      "len(corners.p)=79, len(boards)=0\n",
      "len(corners.p)=78, len(boards)=0\n",
      "len(corners.p)=61, len(boards)=0\n",
      "len(corners.p)=68, len(boards)=0\n",
      "len(corners.p)=80, len(boards)=0\n",
      "len(corners.p)=73, len(boards)=0\n",
      "len(corners.p)=76, len(boards)=0\n",
      "len(corners.p)=69, len(boards)=0\n",
      "len(corners.p)=67, len(boards)=0\n",
      "len(corners.p)=20, len(boards)=0\n",
      "len(corners.p)=70, len(boards)=0\n",
      "len(corners.p)=52, len(boards)=0\n",
      "len(corners.p)=43, len(boards)=0\n",
      "len(corners.p)=72, len(boards)=0\n",
      "len(corners.p)=74, len(boards)=0\n",
      "len(corners.p)=82, len(boards)=0\n",
      "len(corners.p)=80, len(boards)=0\n",
      "len(corners.p)=81, len(boards)=0\n",
      "len(corners.p)=70, len(boards)=0\n",
      "len(corners.p)=47, len(boards)=0\n",
      "len(corners.p)=48, len(boards)=0\n",
      "len(corners.p)=51, len(boards)=0\n",
      "len(corners.p)=65, len(boards)=0\n",
      "len(corners.p)=67, len(boards)=0\n",
      "len(corners.p)=61, len(boards)=0\n",
      "len(corners.p)=45, len(boards)=0\n",
      "len(corners.p)=86, len(boards)=0\n",
      "len(corners.p)=72, len(boards)=0\n",
      "len(corners.p)=11, len(boards)=0\n",
      "len(corners.p)=74, len(boards)=0\n",
      "len(corners.p)=75, len(boards)=0\n",
      "len(corners.p)=57, len(boards)=0\n",
      "len(corners.p)=76, len(boards)=0\n",
      "len(corners.p)=71, len(boards)=0\n",
      "len(corners.p)=71, len(boards)=0\n",
      "len(corners.p)=64, len(boards)=0\n",
      "len(corners.p)=76, len(boards)=0\n",
      "len(corners.p)=59, len(boards)=0\n",
      "len(corners.p)=79, len(boards)=0\n",
      "len(corners.p)=84, len(boards)=0\n",
      "len(corners.p)=84, len(boards)=0\n",
      "len(corners.p)=89, len(boards)=0\n",
      "len(corners.p)=78, len(boards)=0\n",
      "len(corners.p)=47, len(boards)=0\n",
      "len(corners.p)=36, len(boards)=0\n",
      "len(corners.p)=39, len(boards)=0\n",
      "len(corners.p)=49, len(boards)=0\n",
      "len(corners.p)=65, len(boards)=0\n",
      "len(corners.p)=70, len(boards)=0\n",
      "len(corners.p)=81, len(boards)=0\n",
      "len(corners.p)=88, len(boards)=0\n",
      "len(corners.p)=90, len(boards)=0\n",
      "len(corners.p)=80, len(boards)=0\n",
      "len(corners.p)=82, len(boards)=0\n",
      "len(corners.p)=73, len(boards)=0\n",
      "len(corners.p)=75, len(boards)=0\n",
      "len(corners.p)=82, len(boards)=0\n",
      "len(corners.p)=80, len(boards)=0\n",
      "len(corners.p)=82, len(boards)=0\n",
      "len(corners.p)=74, len(boards)=0\n",
      "len(corners.p)=75, len(boards)=0\n",
      "len(corners.p)=77, len(boards)=0\n",
      "len(corners.p)=76, len(boards)=0\n",
      "len(corners.p)=59, len(boards)=0\n",
      "len(corners.p)=65, len(boards)=0\n",
      "len(corners.p)=73, len(boards)=0\n",
      "len(corners.p)=70, len(boards)=0\n",
      "len(corners.p)=73, len(boards)=0\n",
      "len(corners.p)=76, len(boards)=0\n",
      "len(corners.p)=54, len(boards)=0\n",
      "len(corners.p)=54, len(boards)=0\n",
      "len(corners.p)=53, len(boards)=0\n",
      "len(corners.p)=62, len(boards)=0\n",
      "len(corners.p)=79, len(boards)=0\n",
      "len(corners.p)=71, len(boards)=0\n",
      "len(corners.p)=87, len(boards)=0\n",
      "len(corners.p)=87, len(boards)=0\n",
      "len(corners.p)=82, len(boards)=0\n",
      "len(corners.p)=45, len(boards)=0\n",
      "len(corners.p)=38, len(boards)=0\n",
      "len(corners.p)=40, len(boards)=0\n",
      "len(corners.p)=89, len(boards)=0\n",
      "len(corners.p)=84, len(boards)=0\n",
      "len(corners.p)=88, len(boards)=0\n",
      "len(corners.p)=89, len(boards)=0\n",
      "len(corners.p)=70, len(boards)=0\n",
      "len(corners.p)=85, len(boards)=0\n",
      "len(corners.p)=79, len(boards)=0\n",
      "len(corners.p)=81, len(boards)=0\n",
      "len(corners.p)=68, len(boards)=0\n",
      "len(corners.p)=76, len(boards)=0\n",
      "len(corners.p)=58, len(boards)=0\n",
      "len(corners.p)=72, len(boards)=0\n",
      "len(corners.p)=83, len(boards)=0\n",
      "len(corners.p)=8, len(boards)=0\n",
      "len(corners.p)=32, len(boards)=0\n",
      "len(corners.p)=34, len(boards)=0\n",
      "len(corners.p)=61, len(boards)=0\n",
      "len(corners.p)=52, len(boards)=0\n",
      "len(corners.p)=40, len(boards)=0\n",
      "len(corners.p)=52, len(boards)=0\n",
      "len(corners.p)=63, len(boards)=0\n",
      "len(corners.p)=75, len(boards)=0\n",
      "len(corners.p)=72, len(boards)=0\n",
      "len(corners.p)=58, len(boards)=0\n",
      "len(corners.p)=73, len(boards)=0\n",
      "len(corners.p)=56, len(boards)=0\n",
      "len(corners.p)=47, len(boards)=0\n",
      "len(corners.p)=52, len(boards)=0\n",
      "len(corners.p)=61, len(boards)=0\n",
      "len(corners.p)=40, len(boards)=0\n",
      "len(corners.p)=41, len(boards)=0\n",
      "len(corners.p)=45, len(boards)=0\n",
      "len(corners.p)=50, len(boards)=0\n",
      "len(corners.p)=43, len(boards)=0\n",
      "len(corners.p)=29, len(boards)=0\n",
      "len(corners.p)=29, len(boards)=0\n",
      "len(corners.p)=48, len(boards)=0\n",
      "len(corners.p)=78, len(boards)=0\n",
      "len(corners.p)=86, len(boards)=0\n",
      "len(corners.p)=80, len(boards)=0\n",
      "len(corners.p)=79, len(boards)=0\n",
      "len(corners.p)=0, len(boards)=0\n",
      "len(corners.p)=0, len(boards)=0\n",
      "len(corners.p)=1, len(boards)=0\n",
      "len(corners.p)=91, len(boards)=0\n",
      "len(corners.p)=89, len(boards)=0\n",
      "len(corners.p)=42, len(boards)=0\n",
      "len(corners.p)=2, len(boards)=0\n",
      "len(corners.p)=11, len(boards)=0\n",
      "len(corners.p)=35, len(boards)=0\n",
      "len(corners.p)=60, len(boards)=0\n",
      "len(corners.p)=59, len(boards)=0\n",
      "len(corners.p)=61, len(boards)=0\n",
      "len(corners.p)=69, len(boards)=0\n",
      "len(corners.p)=48, len(boards)=0\n",
      "len(corners.p)=70, len(boards)=0\n",
      "len(corners.p)=43, len(boards)=0\n",
      "len(corners.p)=27, len(boards)=0\n",
      "len(corners.p)=27, len(boards)=0\n",
      "len(corners.p)=0, len(boards)=0\n",
      "len(corners.p)=1, len(boards)=0\n",
      "len(corners.p)=69, len(boards)=0\n",
      "len(corners.p)=95, len(boards)=0\n",
      "len(corners.p)=118, len(boards)=0\n",
      "len(corners.p)=127, len(boards)=0\n",
      "len(corners.p)=102, len(boards)=0\n",
      "len(corners.p)=108, len(boards)=0\n",
      "len(corners.p)=106, len(boards)=0\n",
      "len(corners.p)=106, len(boards)=0\n",
      "len(corners.p)=105, len(boards)=0\n",
      "len(corners.p)=70, len(boards)=0\n",
      "len(corners.p)=120, len(boards)=0\n",
      "len(corners.p)=137, len(boards)=0\n",
      "len(corners.p)=131, len(boards)=0\n",
      "len(corners.p)=124, len(boards)=0\n",
      "len(corners.p)=128, len(boards)=0\n",
      "len(corners.p)=120, len(boards)=0\n",
      "len(corners.p)=75, len(boards)=0\n",
      "len(corners.p)=82, len(boards)=0\n",
      "len(corners.p)=94, len(boards)=0\n",
      "len(corners.p)=88, len(boards)=0\n",
      "len(corners.p)=92, len(boards)=0\n",
      "len(corners.p)=100, len(boards)=0\n",
      "len(corners.p)=109, len(boards)=1\n",
      "len(corners.p)=95, len(boards)=0\n",
      "len(corners.p)=26, len(boards)=0\n",
      "len(corners.p)=32, len(boards)=0\n",
      "len(corners.p)=38, len(boards)=0\n",
      "len(corners.p)=98, len(boards)=0\n",
      "len(corners.p)=72, len(boards)=0\n",
      "len(corners.p)=77, len(boards)=0\n",
      "len(corners.p)=79, len(boards)=0\n",
      "len(corners.p)=6, len(boards)=0\n",
      "len(corners.p)=8, len(boards)=0\n",
      "len(corners.p)=16, len(boards)=0\n",
      "len(corners.p)=43, len(boards)=0\n",
      "len(corners.p)=29, len(boards)=0\n",
      "len(corners.p)=31, len(boards)=0\n",
      "len(corners.p)=97, len(boards)=0\n",
      "len(corners.p)=106, len(boards)=0\n",
      "len(corners.p)=76, len(boards)=0\n",
      "len(corners.p)=72, len(boards)=0\n",
      "len(corners.p)=132, len(boards)=0\n",
      "len(corners.p)=83, len(boards)=0\n",
      "len(corners.p)=92, len(boards)=0\n",
      "len(corners.p)=102, len(boards)=0\n",
      "len(corners.p)=106, len(boards)=0\n",
      "len(corners.p)=15, len(boards)=0\n",
      "len(corners.p)=19, len(boards)=0\n",
      "len(corners.p)=41, len(boards)=0\n",
      "len(corners.p)=87, len(boards)=0\n",
      "len(corners.p)=90, len(boards)=0\n",
      "len(corners.p)=87, len(boards)=0\n",
      "len(corners.p)=6, len(boards)=0\n",
      "len(corners.p)=119, len(boards)=0\n",
      "len(corners.p)=126, len(boards)=0\n",
      "len(corners.p)=129, len(boards)=0\n",
      "len(corners.p)=127, len(boards)=0\n",
      "len(corners.p)=125, len(boards)=0\n",
      "len(corners.p)=128, len(boards)=0\n",
      "len(corners.p)=120, len(boards)=0\n",
      "len(corners.p)=104, len(boards)=0\n",
      "len(corners.p)=97, len(boards)=0\n",
      "len(corners.p)=100, len(boards)=0\n",
      "len(corners.p)=106, len(boards)=0\n",
      "len(corners.p)=98, len(boards)=0\n",
      "len(corners.p)=121, len(boards)=0\n",
      "len(corners.p)=123, len(boards)=0\n",
      "len(corners.p)=117, len(boards)=0\n",
      "len(corners.p)=108, len(boards)=0\n",
      "len(corners.p)=119, len(boards)=0\n",
      "len(corners.p)=116, len(boards)=0\n",
      "len(corners.p)=91, len(boards)=0\n",
      "len(corners.p)=88, len(boards)=0\n",
      "len(corners.p)=105, len(boards)=0\n",
      "len(corners.p)=90, len(boards)=0\n",
      "len(corners.p)=102, len(boards)=0\n",
      "len(corners.p)=92, len(boards)=0\n",
      "len(corners.p)=96, len(boards)=0\n",
      "len(corners.p)=89, len(boards)=0\n",
      "len(corners.p)=109, len(boards)=0\n",
      "len(corners.p)=108, len(boards)=0\n",
      "len(corners.p)=108, len(boards)=0\n",
      "len(corners.p)=118, len(boards)=0\n",
      "len(corners.p)=118, len(boards)=0\n",
      "len(corners.p)=122, len(boards)=0\n",
      "len(corners.p)=107, len(boards)=0\n",
      "len(corners.p)=97, len(boards)=0\n",
      "len(corners.p)=113, len(boards)=0\n",
      "len(corners.p)=124, len(boards)=0\n",
      "len(corners.p)=98, len(boards)=0\n",
      "len(corners.p)=120, len(boards)=0\n",
      "len(corners.p)=89, len(boards)=0\n",
      "len(corners.p)=105, len(boards)=0\n",
      "len(corners.p)=101, len(boards)=0\n",
      "len(corners.p)=94, len(boards)=0\n",
      "len(corners.p)=100, len(boards)=0\n",
      "len(corners.p)=103, len(boards)=0\n",
      "len(corners.p)=99, len(boards)=0\n",
      "len(corners.p)=113, len(boards)=0\n",
      "len(corners.p)=102, len(boards)=0\n",
      "len(corners.p)=119, len(boards)=0\n",
      "len(corners.p)=99, len(boards)=0\n",
      "len(corners.p)=99, len(boards)=0\n",
      "len(corners.p)=109, len(boards)=0\n",
      "len(corners.p)=109, len(boards)=0\n",
      "len(corners.p)=144, len(boards)=0\n",
      "len(corners.p)=135, len(boards)=0\n",
      "len(corners.p)=132, len(boards)=0\n",
      "len(corners.p)=88, len(boards)=0\n",
      "len(corners.p)=57, len(boards)=0\n",
      "len(corners.p)=105, len(boards)=0\n",
      "len(corners.p)=110, len(boards)=0\n",
      "len(corners.p)=108, len(boards)=0\n",
      "len(corners.p)=139, len(boards)=0\n",
      "len(corners.p)=65, len(boards)=0\n",
      "len(corners.p)=80, len(boards)=0\n",
      "len(corners.p)=51, len(boards)=0\n",
      "len(corners.p)=83, len(boards)=0\n",
      "len(corners.p)=92, len(boards)=0\n",
      "len(corners.p)=69, len(boards)=0\n",
      "len(corners.p)=78, len(boards)=0\n",
      "len(corners.p)=106, len(boards)=0\n",
      "len(corners.p)=97, len(boards)=0\n",
      "len(corners.p)=91, len(boards)=0\n",
      "len(corners.p)=82, len(boards)=0\n",
      "len(corners.p)=102, len(boards)=0\n",
      "len(corners.p)=126, len(boards)=0\n",
      "len(corners.p)=121, len(boards)=0\n",
      "len(corners.p)=104, len(boards)=0\n",
      "len(corners.p)=111, len(boards)=0\n",
      "len(corners.p)=107, len(boards)=1\n",
      "len(corners.p)=93, len(boards)=0\n",
      "len(corners.p)=78, len(boards)=0\n",
      "len(corners.p)=94, len(boards)=0\n",
      "len(corners.p)=83, len(boards)=0\n",
      "len(corners.p)=95, len(boards)=0\n",
      "len(corners.p)=88, len(boards)=0\n",
      "len(corners.p)=111, len(boards)=0\n",
      "len(corners.p)=134, len(boards)=0\n",
      "len(corners.p)=129, len(boards)=0\n",
      "len(corners.p)=133, len(boards)=0\n",
      "len(corners.p)=113, len(boards)=0\n",
      "len(corners.p)=102, len(boards)=0\n",
      "len(corners.p)=120, len(boards)=0\n",
      "len(corners.p)=124, len(boards)=0\n",
      "len(corners.p)=57, len(boards)=0\n",
      "len(corners.p)=136, len(boards)=0\n",
      "len(corners.p)=107, len(boards)=1\n",
      "len(corners.p)=118, len(boards)=0\n",
      "len(corners.p)=88, len(boards)=0\n",
      "len(corners.p)=114, len(boards)=0\n",
      "len(corners.p)=124, len(boards)=0\n",
      "len(corners.p)=64, len(boards)=0\n",
      "len(corners.p)=97, len(boards)=0\n",
      "len(corners.p)=104, len(boards)=0\n",
      "len(corners.p)=107, len(boards)=0\n",
      "len(corners.p)=111, len(boards)=0\n",
      "len(corners.p)=113, len(boards)=0\n",
      "len(corners.p)=91, len(boards)=0\n",
      "len(corners.p)=83, len(boards)=0\n",
      "len(corners.p)=133, len(boards)=0\n",
      "len(corners.p)=101, len(boards)=0\n",
      "len(corners.p)=91, len(boards)=0\n",
      "len(corners.p)=94, len(boards)=0\n",
      "len(corners.p)=113, len(boards)=0\n",
      "len(corners.p)=122, len(boards)=0\n",
      "len(corners.p)=141, len(boards)=0\n",
      "len(corners.p)=120, len(boards)=0\n",
      "len(corners.p)=92, len(boards)=0\n",
      "len(corners.p)=85, len(boards)=0\n",
      "len(corners.p)=123, len(boards)=0\n",
      "len(corners.p)=86, len(boards)=0\n",
      "len(corners.p)=85, len(boards)=0\n",
      "len(corners.p)=89, len(boards)=0\n",
      "len(corners.p)=89, len(boards)=0\n",
      "len(corners.p)=87, len(boards)=0\n",
      "len(corners.p)=89, len(boards)=0\n",
      "len(corners.p)=93, len(boards)=0\n",
      "len(corners.p)=132, len(boards)=0\n",
      "len(corners.p)=135, len(boards)=0\n",
      "len(corners.p)=102, len(boards)=0\n",
      "len(corners.p)=104, len(boards)=0\n",
      "len(corners.p)=98, len(boards)=0\n",
      "len(corners.p)=121, len(boards)=0\n",
      "len(corners.p)=142, len(boards)=0\n",
      "len(corners.p)=100, len(boards)=0\n",
      "len(corners.p)=30, len(boards)=0\n",
      "len(corners.p)=60, len(boards)=0\n",
      "len(corners.p)=116, len(boards)=1\n",
      "len(corners.p)=98, len(boards)=0\n",
      "len(corners.p)=106, len(boards)=0\n",
      "len(corners.p)=119, len(boards)=0\n",
      "len(corners.p)=132, len(boards)=0\n",
      "len(corners.p)=118, len(boards)=0\n",
      "len(corners.p)=95, len(boards)=0\n",
      "len(corners.p)=121, len(boards)=0\n",
      "len(corners.p)=135, len(boards)=0\n",
      "len(corners.p)=108, len(boards)=0\n",
      "len(corners.p)=96, len(boards)=0\n",
      "len(corners.p)=93, len(boards)=0\n",
      "len(corners.p)=38, len(boards)=0\n",
      "len(corners.p)=13, len(boards)=0\n",
      "len(corners.p)=882, len(boards)=7\n",
      "len(corners.p)=883, len(boards)=5\n",
      "len(corners.p)=871, len(boards)=4\n",
      "len(corners.p)=879, len(boards)=4\n",
      "len(corners.p)=854, len(boards)=4\n",
      "len(corners.p)=825, len(boards)=5\n",
      "len(corners.p)=469, len(boards)=3\n",
      "len(corners.p)=479, len(boards)=3\n",
      "len(corners.p)=507, len(boards)=3\n",
      "len(corners.p)=534, len(boards)=3\n",
      "len(corners.p)=537, len(boards)=3\n",
      "len(corners.p)=530, len(boards)=3\n",
      "len(corners.p)=637, len(boards)=3\n",
      "len(corners.p)=618, len(boards)=3\n",
      "len(corners.p)=623, len(boards)=3\n",
      "len(corners.p)=595, len(boards)=3\n",
      "len(corners.p)=596, len(boards)=3\n",
      "len(corners.p)=552, len(boards)=3\n",
      "len(corners.p)=549, len(boards)=3\n",
      "len(corners.p)=391, len(boards)=3\n",
      "len(corners.p)=384, len(boards)=3\n",
      "len(corners.p)=373, len(boards)=3\n",
      "len(corners.p)=292, len(boards)=2\n",
      "len(corners.p)=331, len(boards)=3\n",
      "len(corners.p)=366, len(boards)=3\n",
      "len(corners.p)=379, len(boards)=3\n",
      "len(corners.p)=591, len(boards)=7\n",
      "len(corners.p)=822, len(boards)=7\n",
      "len(corners.p)=817, len(boards)=6\n",
      "len(corners.p)=743, len(boards)=5\n",
      "len(corners.p)=704, len(boards)=4\n",
      "len(corners.p)=709, len(boards)=5\n",
      "len(corners.p)=737, len(boards)=5\n",
      "len(corners.p)=430, len(boards)=3\n",
      "len(corners.p)=412, len(boards)=3\n",
      "len(corners.p)=863, len(boards)=4\n",
      "len(corners.p)=838, len(boards)=4\n",
      "len(corners.p)=680, len(boards)=4\n",
      "len(corners.p)=489, len(boards)=3\n",
      "len(corners.p)=529, len(boards)=6\n",
      "len(corners.p)=535, len(boards)=3\n",
      "len(corners.p)=523, len(boards)=3\n",
      "len(corners.p)=358, len(boards)=2\n",
      "len(corners.p)=326, len(boards)=2\n",
      "len(corners.p)=309, len(boards)=2\n",
      "len(corners.p)=371, len(boards)=3\n",
      "len(corners.p)=843, len(boards)=7\n",
      "len(corners.p)=734, len(boards)=5\n",
      "len(corners.p)=431, len(boards)=2\n",
      "len(corners.p)=412, len(boards)=3\n",
      "len(corners.p)=739, len(boards)=3\n",
      "len(corners.p)=725, len(boards)=3\n",
      "len(corners.p)=723, len(boards)=3\n",
      "len(corners.p)=717, len(boards)=3\n",
      "len(corners.p)=669, len(boards)=3\n",
      "len(corners.p)=656, len(boards)=3\n",
      "len(corners.p)=633, len(boards)=3\n",
      "len(corners.p)=436, len(boards)=3\n",
      "len(corners.p)=451, len(boards)=3\n",
      "len(corners.p)=442, len(boards)=3\n",
      "len(corners.p)=436, len(boards)=3\n",
      "len(corners.p)=433, len(boards)=3\n",
      "len(corners.p)=532, len(boards)=3\n",
      "len(corners.p)=550, len(boards)=3\n",
      "len(corners.p)=541, len(boards)=3\n",
      "len(corners.p)=532, len(boards)=3\n",
      "len(corners.p)=524, len(boards)=3\n",
      "len(corners.p)=510, len(boards)=3\n",
      "len(corners.p)=384, len(boards)=3\n",
      "len(corners.p)=386, len(boards)=3\n",
      "len(corners.p)=356, len(boards)=3\n",
      "len(corners.p)=344, len(boards)=3\n",
      "len(corners.p)=341, len(boards)=3\n",
      "len(corners.p)=316, len(boards)=2\n",
      "len(corners.p)=349, len(boards)=2\n",
      "len(corners.p)=375, len(boards)=2\n",
      "len(corners.p)=392, len(boards)=2\n",
      "len(corners.p)=887, len(boards)=4\n",
      "len(corners.p)=818, len(boards)=4\n",
      "len(corners.p)=805, len(boards)=4\n",
      "len(corners.p)=827, len(boards)=5\n",
      "len(corners.p)=821, len(boards)=5\n",
      "len(corners.p)=840, len(boards)=6\n",
      "len(corners.p)=416, len(boards)=3\n",
      "len(corners.p)=411, len(boards)=3\n",
      "len(corners.p)=737, len(boards)=3\n",
      "len(corners.p)=708, len(boards)=3\n",
      "len(corners.p)=721, len(boards)=3\n",
      "len(corners.p)=443, len(boards)=3\n",
      "len(corners.p)=451, len(boards)=3\n",
      "len(corners.p)=456, len(boards)=3\n",
      "len(corners.p)=440, len(boards)=3\n",
      "len(corners.p)=539, len(boards)=3\n",
      "len(corners.p)=539, len(boards)=3\n",
      "len(corners.p)=542, len(boards)=3\n",
      "len(corners.p)=874, len(boards)=4\n",
      "len(corners.p)=836, len(boards)=5\n",
      "len(corners.p)=822, len(boards)=4\n",
      "len(corners.p)=798, len(boards)=4\n",
      "len(corners.p)=764, len(boards)=9\n",
      "len(corners.p)=731, len(boards)=3\n",
      "len(corners.p)=695, len(boards)=3\n",
      "len(corners.p)=689, len(boards)=3\n",
      "len(corners.p)=664, len(boards)=3\n",
      "len(corners.p)=715, len(boards)=3\n",
      "len(corners.p)=739, len(boards)=4\n",
      "len(corners.p)=448, len(boards)=3\n",
      "len(corners.p)=471, len(boards)=3\n",
      "len(corners.p)=466, len(boards)=3\n",
      "len(corners.p)=461, len(boards)=2\n",
      "len(corners.p)=576, len(boards)=3\n",
      "len(corners.p)=574, len(boards)=3\n",
      "len(corners.p)=574, len(boards)=3\n",
      "len(corners.p)=575, len(boards)=3\n",
      "len(corners.p)=580, len(boards)=3\n",
      "len(corners.p)=521, len(boards)=3\n",
      "len(corners.p)=512, len(boards)=3\n",
      "len(corners.p)=514, len(boards)=3\n",
      "len(corners.p)=346, len(boards)=3\n",
      "len(corners.p)=337, len(boards)=2\n",
      "len(corners.p)=312, len(boards)=2\n",
      "len(corners.p)=306, len(boards)=2\n",
      "len(corners.p)=320, len(boards)=2\n",
      "len(corners.p)=357, len(boards)=3\n",
      "len(corners.p)=357, len(boards)=3\n",
      "len(corners.p)=379, len(boards)=3\n",
      "len(corners.p)=671, len(boards)=5\n",
      "len(corners.p)=879, len(boards)=4\n",
      "len(corners.p)=818, len(boards)=4\n",
      "len(corners.p)=779, len(boards)=5\n",
      "len(corners.p)=822, len(boards)=4\n",
      "len(corners.p)=828, len(boards)=4\n",
      "len(corners.p)=856, len(boards)=4\n",
      "len(corners.p)=412, len(boards)=3\n",
      "len(corners.p)=417, len(boards)=3\n",
      "len(corners.p)=711, len(boards)=3\n",
      "len(corners.p)=715, len(boards)=3\n",
      "len(corners.p)=748, len(boards)=4\n",
      "len(corners.p)=473, len(boards)=3\n",
      "len(corners.p)=467, len(boards)=3\n",
      "len(corners.p)=459, len(boards)=2\n",
      "len(corners.p)=448, len(boards)=2\n",
      "len(corners.p)=523, len(boards)=3\n",
      "len(corners.p)=568, len(boards)=3\n",
      "len(corners.p)=375, len(boards)=3\n",
      "len(corners.p)=822, len(boards)=4\n",
      "len(corners.p)=857, len(boards)=5\n",
      "len(corners.p)=946, len(boards)=5\n",
      "len(corners.p)=416, len(boards)=3\n",
      "len(corners.p)=404, len(boards)=3\n",
      "len(corners.p)=744, len(boards)=3\n",
      "len(corners.p)=742, len(boards)=3\n",
      "len(corners.p)=735, len(boards)=3\n",
      "len(corners.p)=721, len(boards)=3\n",
      "len(corners.p)=775, len(boards)=3\n",
      "len(corners.p)=788, len(boards)=5\n",
      "len(corners.p)=777, len(boards)=4\n",
      "len(corners.p)=464, len(boards)=3\n",
      "len(corners.p)=475, len(boards)=3\n",
      "len(corners.p)=509, len(boards)=3\n",
      "len(corners.p)=508, len(boards)=3\n",
      "len(corners.p)=491, len(boards)=2\n",
      "len(corners.p)=482, len(boards)=2\n",
      "len(corners.p)=480, len(boards)=2\n",
      "len(corners.p)=621, len(boards)=3\n",
      "len(corners.p)=628, len(boards)=6\n",
      "len(corners.p)=614, len(boards)=3\n",
      "len(corners.p)=615, len(boards)=3\n",
      "len(corners.p)=591, len(boards)=3\n",
      "len(corners.p)=594, len(boards)=3\n",
      "len(corners.p)=524, len(boards)=3\n",
      "len(corners.p)=298, len(boards)=2\n",
      "len(corners.p)=309, len(boards)=2\n",
      "len(corners.p)=357, len(boards)=3\n",
      "len(corners.p)=366, len(boards)=3\n",
      "len(corners.p)=710, len(boards)=5\n",
      "len(corners.p)=809, len(boards)=5\n",
      "len(corners.p)=801, len(boards)=4\n",
      "len(corners.p)=791, len(boards)=4\n",
      "len(corners.p)=804, len(boards)=10\n",
      "len(corners.p)=828, len(boards)=4\n",
      "len(corners.p)=839, len(boards)=6\n",
      "len(corners.p)=881, len(boards)=7\n",
      "len(corners.p)=410, len(boards)=3\n",
      "len(corners.p)=413, len(boards)=3\n",
      "len(corners.p)=740, len(boards)=4\n",
      "len(corners.p)=690, len(boards)=3\n",
      "len(corners.p)=781, len(boards)=3\n",
      "len(corners.p)=478, len(boards)=3\n",
      "len(corners.p)=496, len(boards)=3\n",
      "len(corners.p)=509, len(boards)=3\n",
      "len(corners.p)=515, len(boards)=3\n",
      "len(corners.p)=384, len(boards)=3\n",
      "len(corners.p)=356, len(boards)=3\n",
      "len(corners.p)=329, len(boards)=3\n",
      "len(corners.p)=341, len(boards)=3\n",
      "len(corners.p)=764, len(boards)=4\n",
      "len(corners.p)=796, len(boards)=6\n",
      "len(corners.p)=421, len(boards)=3\n",
      "len(corners.p)=416, len(boards)=3\n",
      "len(corners.p)=866, len(boards)=4\n",
      "len(corners.p)=843, len(boards)=5\n",
      "len(corners.p)=825, len(boards)=5\n",
      "len(corners.p)=805, len(boards)=4\n",
      "len(corners.p)=864, len(boards)=4\n",
      "len(corners.p)=566, len(boards)=4\n",
      "len(corners.p)=664, len(boards)=6\n",
      "len(corners.p)=764, len(boards)=6\n",
      "len(corners.p)=824, len(boards)=7\n",
      "len(corners.p)=818, len(boards)=7\n",
      "len(corners.p)=821, len(boards)=7\n",
      "len(corners.p)=830, len(boards)=7\n",
      "len(corners.p)=864, len(boards)=10\n",
      "len(corners.p)=898, len(boards)=6\n",
      "len(corners.p)=911, len(boards)=6\n",
      "len(corners.p)=894, len(boards)=6\n",
      "len(corners.p)=897, len(boards)=6\n",
      "len(corners.p)=389, len(boards)=2\n",
      "len(corners.p)=388, len(boards)=2\n",
      "len(corners.p)=368, len(boards)=2\n",
      "len(corners.p)=356, len(boards)=2\n",
      "len(corners.p)=342, len(boards)=2\n",
      "len(corners.p)=415, len(boards)=3\n",
      "len(corners.p)=530, len(boards)=7\n",
      "len(corners.p)=614, len(boards)=5\n",
      "len(corners.p)=604, len(boards)=6\n",
      "len(corners.p)=660, len(boards)=5\n",
      "len(corners.p)=792, len(boards)=5\n",
      "len(corners.p)=808, len(boards)=6\n",
      "len(corners.p)=810, len(boards)=7\n",
      "len(corners.p)=804, len(boards)=6\n",
      "len(corners.p)=846, len(boards)=5\n",
      "len(corners.p)=425, len(boards)=2\n",
      "len(corners.p)=489, len(boards)=4\n",
      "len(corners.p)=617, len(boards)=6\n",
      "len(corners.p)=879, len(boards)=4\n",
      "len(corners.p)=831, len(boards)=4\n",
      "len(corners.p)=888, len(boards)=6\n",
      "len(corners.p)=852, len(boards)=4\n",
      "len(corners.p)=597, len(boards)=4\n",
      "len(corners.p)=825, len(boards)=6\n",
      "len(corners.p)=765, len(boards)=6\n",
      "len(corners.p)=650, len(boards)=4\n",
      "len(corners.p)=419, len(boards)=2\n",
      "len(corners.p)=495, len(boards)=7\n",
      "len(corners.p)=590, len(boards)=5\n",
      "len(corners.p)=610, len(boards)=3\n",
      "len(corners.p)=800, len(boards)=6\n",
      "len(corners.p)=795, len(boards)=6\n",
      "len(corners.p)=579, len(boards)=4\n",
      "len(corners.p)=732, len(boards)=3\n",
      "len(corners.p)=719, len(boards)=3\n",
      "len(corners.p)=709, len(boards)=3\n",
      "len(corners.p)=690, len(boards)=3\n",
      "len(corners.p)=685, len(boards)=3\n",
      "len(corners.p)=646, len(boards)=3\n",
      "len(corners.p)=425, len(boards)=4\n",
      "len(corners.p)=516, len(boards)=4\n",
      "len(corners.p)=557, len(boards)=5\n",
      "len(corners.p)=594, len(boards)=4\n",
      "len(corners.p)=585, len(boards)=6\n",
      "len(corners.p)=573, len(boards)=5\n",
      "len(corners.p)=575, len(boards)=5\n",
      "len(corners.p)=574, len(boards)=5\n",
      "len(corners.p)=614, len(boards)=4\n",
      "len(corners.p)=614, len(boards)=4\n",
      "len(corners.p)=494, len(boards)=3\n",
      "len(corners.p)=481, len(boards)=3\n",
      "len(corners.p)=350, len(boards)=2\n",
      "len(corners.p)=339, len(boards)=2\n",
      "len(corners.p)=332, len(boards)=2\n",
      "len(corners.p)=360, len(boards)=2\n",
      "len(corners.p)=368, len(boards)=2\n",
      "len(corners.p)=375, len(boards)=2\n",
      "len(corners.p)=382, len(boards)=2\n",
      "len(corners.p)=387, len(boards)=2\n",
      "len(corners.p)=798, len(boards)=4\n",
      "len(corners.p)=735, len(boards)=6\n",
      "len(corners.p)=689, len(boards)=4\n",
      "len(corners.p)=696, len(boards)=5\n",
      "len(corners.p)=727, len(boards)=4\n",
      "len(corners.p)=749, len(boards)=4\n",
      "len(corners.p)=829, len(boards)=4\n",
      "len(corners.p)=403, len(boards)=3\n",
      "len(corners.p)=389, len(boards)=3\n",
      "len(corners.p)=742, len(boards)=3\n",
      "len(corners.p)=674, len(boards)=3\n",
      "len(corners.p)=470, len(boards)=4\n",
      "len(corners.p)=534, len(boards)=6\n",
      "len(corners.p)=587, len(boards)=6\n",
      "len(corners.p)=607, len(boards)=5\n",
      "len(corners.p)=632, len(boards)=5\n",
      "len(corners.p)=525, len(boards)=3\n",
      "len(corners.p)=486, len(boards)=3\n",
      "len(corners.p)=435, len(boards)=4\n",
      "len(corners.p)=887, len(boards)=5\n",
      "len(corners.p)=704, len(boards)=5\n",
      "len(corners.p)=724, len(boards)=5\n",
      "len(corners.p)=744, len(boards)=4\n",
      "len(corners.p)=393, len(boards)=3\n",
      "len(corners.p)=771, len(boards)=3\n",
      "len(corners.p)=784, len(boards)=3\n",
      "len(corners.p)=814, len(boards)=4\n",
      "len(corners.p)=815, len(boards)=5\n",
      "len(corners.p)=707, len(boards)=4\n",
      "len(corners.p)=635, len(boards)=4\n",
      "len(corners.p)=686, len(boards)=5\n",
      "len(corners.p)=764, len(boards)=6\n",
      "len(corners.p)=790, len(boards)=8\n",
      "len(corners.p)=769, len(boards)=5\n",
      "len(corners.p)=773, len(boards)=6\n",
      "len(corners.p)=771, len(boards)=6\n",
      "len(corners.p)=835, len(boards)=4\n",
      "len(corners.p)=880, len(boards)=6\n",
      "len(corners.p)=879, len(boards)=7\n",
      "len(corners.p)=878, len(boards)=6\n",
      "len(corners.p)=763, len(boards)=4\n",
      "len(corners.p)=644, len(boards)=4\n",
      "len(corners.p)=591, len(boards)=4\n",
      "len(corners.p)=549, len(boards)=4\n",
      "len(corners.p)=405, len(boards)=2\n",
      "len(corners.p)=401, len(boards)=2\n",
      "len(corners.p)=386, len(boards)=2\n",
      "len(corners.p)=376, len(boards)=2\n",
      "len(corners.p)=351, len(boards)=2\n",
      "len(corners.p)=318, len(boards)=2\n",
      "len(corners.p)=501, len(boards)=5\n",
      "len(corners.p)=543, len(boards)=8\n",
      "len(corners.p)=586, len(boards)=8\n",
      "len(corners.p)=839, len(boards)=6\n",
      "len(corners.p)=831, len(boards)=5\n",
      "len(corners.p)=846, len(boards)=6\n",
      "len(corners.p)=849, len(boards)=8\n",
      "len(corners.p)=390, len(boards)=3\n",
      "len(corners.p)=380, len(boards)=3\n",
      "len(corners.p)=810, len(boards)=5\n",
      "len(corners.p)=782, len(boards)=4\n",
      "len(corners.p)=728, len(boards)=3\n",
      "len(corners.p)=692, len(boards)=4\n",
      "len(corners.p)=717, len(boards)=6\n",
      "len(corners.p)=764, len(boards)=5\n",
      "len(corners.p)=881, len(boards)=6\n",
      "len(corners.p)=842, len(boards)=6\n",
      "len(corners.p)=635, len(boards)=4\n",
      "len(corners.p)=407, len(boards)=2\n",
      "len(corners.p)=452, len(boards)=3\n",
      "len(corners.p)=814, len(boards)=6\n",
      "len(corners.p)=824, len(boards)=6\n",
      "len(corners.p)=387, len(boards)=3\n",
      "len(corners.p)=398, len(boards)=4\n",
      "len(corners.p)=886, len(boards)=4\n",
      "len(corners.p)=771, len(boards)=4\n",
      "len(corners.p)=898, len(boards)=5\n",
      "len(corners.p)=880, len(boards)=5\n",
      "len(corners.p)=845, len(boards)=4\n",
      "len(corners.p)=883, len(boards)=4\n",
      "len(corners.p)=883, len(boards)=4\n",
      "len(corners.p)=849, len(boards)=5\n",
      "len(corners.p)=798, len(boards)=6\n",
      "len(corners.p)=814, len(boards)=6\n",
      "len(corners.p)=822, len(boards)=7\n",
      "len(corners.p)=838, len(boards)=6\n",
      "len(corners.p)=829, len(boards)=7\n",
      "len(corners.p)=893, len(boards)=7\n",
      "len(corners.p)=876, len(boards)=6\n",
      "len(corners.p)=860, len(boards)=6\n",
      "len(corners.p)=715, len(boards)=7\n",
      "len(corners.p)=446, len(boards)=4\n",
      "len(corners.p)=433, len(boards)=4\n",
      "len(corners.p)=460, len(boards)=6\n",
      "len(corners.p)=424, len(boards)=5\n",
      "len(corners.p)=612, len(boards)=7\n",
      "len(corners.p)=674, len(boards)=6\n",
      "len(corners.p)=748, len(boards)=6\n",
      "len(corners.p)=732, len(boards)=8\n",
      "len(corners.p)=830, len(boards)=7\n",
      "len(corners.p)=731, len(boards)=7\n",
      "len(corners.p)=723, len(boards)=7\n",
      "len(corners.p)=712, len(boards)=6\n",
      "len(corners.p)=721, len(boards)=6\n",
      "len(corners.p)=719, len(boards)=4\n",
      "len(corners.p)=809, len(boards)=8\n",
      "len(corners.p)=645, len(boards)=8\n",
      "len(corners.p)=635, len(boards)=6\n",
      "len(corners.p)=682, len(boards)=7\n",
      "len(corners.p)=866, len(boards)=4\n",
      "len(corners.p)=886, len(boards)=5\n",
      "len(corners.p)=790, len(boards)=6\n",
      "len(corners.p)=799, len(boards)=6\n",
      "len(corners.p)=841, len(boards)=6\n",
      "len(corners.p)=892, len(boards)=7\n",
      "len(corners.p)=868, len(boards)=7\n",
      "len(corners.p)=684, len(boards)=7\n",
      "len(corners.p)=514, len(boards)=4\n",
      "len(corners.p)=769, len(boards)=6\n",
      "len(corners.p)=749, len(boards)=6\n",
      "len(corners.p)=842, len(boards)=7\n",
      "len(corners.p)=807, len(boards)=6\n",
      "len(corners.p)=720, len(boards)=4\n",
      "len(corners.p)=617, len(boards)=5\n",
      "len(corners.p)=347, len(boards)=4\n",
      "len(corners.p)=320, len(boards)=3\n",
      "len(corners.p)=281, len(boards)=3\n",
      "len(corners.p)=336, len(boards)=4\n",
      "len(corners.p)=339, len(boards)=4\n",
      "len(corners.p)=328, len(boards)=4\n",
      "len(corners.p)=300, len(boards)=3\n",
      "len(corners.p)=281, len(boards)=3\n",
      "len(corners.p)=240, len(boards)=3\n",
      "len(corners.p)=212, len(boards)=2\n",
      "len(corners.p)=301, len(boards)=3\n",
      "len(corners.p)=255, len(boards)=3\n",
      "len(corners.p)=226, len(boards)=3\n",
      "len(corners.p)=207, len(boards)=3\n",
      "len(corners.p)=153, len(boards)=3\n",
      "len(corners.p)=168, len(boards)=2\n",
      "len(corners.p)=173, len(boards)=2\n",
      "len(corners.p)=288, len(boards)=3\n",
      "len(corners.p)=275, len(boards)=3\n",
      "len(corners.p)=271, len(boards)=3\n",
      "len(corners.p)=231, len(boards)=3\n",
      "len(corners.p)=345, len(boards)=4\n",
      "len(corners.p)=310, len(boards)=3\n",
      "len(corners.p)=202, len(boards)=2\n",
      "len(corners.p)=182, len(boards)=2\n",
      "len(corners.p)=301, len(boards)=3\n",
      "len(corners.p)=338, len(boards)=3\n",
      "len(corners.p)=263, len(boards)=3\n",
      "len(corners.p)=247, len(boards)=2\n",
      "len(corners.p)=163, len(boards)=3\n",
      "len(corners.p)=171, len(boards)=2\n",
      "len(corners.p)=280, len(boards)=3\n",
      "len(corners.p)=248, len(boards)=3\n",
      "len(corners.p)=293, len(boards)=3\n",
      "len(corners.p)=116, len(boards)=3\n",
      "len(corners.p)=225, len(boards)=2\n",
      "len(corners.p)=137, len(boards)=2\n",
      "len(corners.p)=283, len(boards)=3\n",
      "len(corners.p)=278, len(boards)=3\n",
      "len(corners.p)=270, len(boards)=3\n",
      "len(corners.p)=183, len(boards)=3\n",
      "len(corners.p)=265, len(boards)=2\n",
      "len(corners.p)=275, len(boards)=2\n",
      "len(corners.p)=289, len(boards)=3\n",
      "len(corners.p)=284, len(boards)=3\n",
      "len(corners.p)=520, len(boards)=4\n",
      "len(corners.p)=530, len(boards)=4\n",
      "len(corners.p)=438, len(boards)=6\n",
      "len(corners.p)=458, len(boards)=4\n",
      "len(corners.p)=587, len(boards)=4\n",
      "len(corners.p)=434, len(boards)=4\n",
      "len(corners.p)=429, len(boards)=4\n",
      "len(corners.p)=429, len(boards)=4\n",
      "len(corners.p)=425, len(boards)=4\n",
      "len(corners.p)=419, len(boards)=4\n",
      "len(corners.p)=411, len(boards)=4\n",
      "len(corners.p)=446, len(boards)=4\n",
      "len(corners.p)=413, len(boards)=3\n",
      "len(corners.p)=411, len(boards)=3\n",
      "len(corners.p)=409, len(boards)=5\n",
      "len(corners.p)=399, len(boards)=3\n",
      "len(corners.p)=393, len(boards)=3\n",
      "len(corners.p)=398, len(boards)=3\n",
      "len(corners.p)=401, len(boards)=3\n",
      "len(corners.p)=273, len(boards)=3\n",
      "len(corners.p)=371, len(boards)=2\n",
      "len(corners.p)=375, len(boards)=2\n",
      "len(corners.p)=363, len(boards)=3\n",
      "len(corners.p)=276, len(boards)=3\n",
      "len(corners.p)=180, len(boards)=2\n",
      "len(corners.p)=284, len(boards)=3\n",
      "len(corners.p)=517, len(boards)=4\n",
      "len(corners.p)=524, len(boards)=4\n",
      "len(corners.p)=526, len(boards)=4\n",
      "len(corners.p)=414, len(boards)=4\n",
      "len(corners.p)=417, len(boards)=4\n",
      "len(corners.p)=441, len(boards)=3\n",
      "len(corners.p)=389, len(boards)=3\n",
      "len(corners.p)=400, len(boards)=3\n",
      "len(corners.p)=258, len(boards)=3\n",
      "len(corners.p)=266, len(boards)=3\n",
      "len(corners.p)=233, len(boards)=2\n",
      "len(corners.p)=253, len(boards)=3\n",
      "len(corners.p)=340, len(boards)=3\n",
      "len(corners.p)=414, len(boards)=3\n",
      "len(corners.p)=434, len(boards)=3\n",
      "len(corners.p)=459, len(boards)=3\n",
      "len(corners.p)=263, len(boards)=4\n",
      "len(corners.p)=291, len(boards)=4\n",
      "len(corners.p)=302, len(boards)=2\n",
      "len(corners.p)=346, len(boards)=3\n",
      "len(corners.p)=176, len(boards)=3\n",
      "len(corners.p)=268, len(boards)=3\n",
      "len(corners.p)=206, len(boards)=3\n",
      "len(corners.p)=169, len(boards)=3\n",
      "len(corners.p)=231, len(boards)=3\n",
      "len(corners.p)=235, len(boards)=3\n",
      "len(corners.p)=210, len(boards)=2\n",
      "len(corners.p)=230, len(boards)=4\n",
      "len(corners.p)=233, len(boards)=3\n",
      "len(corners.p)=267, len(boards)=3\n",
      "len(corners.p)=150, len(boards)=3\n",
      "len(corners.p)=222, len(boards)=3\n",
      "len(corners.p)=233, len(boards)=3\n",
      "len(corners.p)=371, len(boards)=3\n",
      "len(corners.p)=354, len(boards)=3\n",
      "len(corners.p)=314, len(boards)=3\n",
      "len(corners.p)=308, len(boards)=3\n",
      "len(corners.p)=194, len(boards)=4\n",
      "len(corners.p)=280, len(boards)=4\n",
      "len(corners.p)=297, len(boards)=3\n",
      "len(corners.p)=355, len(boards)=3\n",
      "len(corners.p)=180, len(boards)=2\n",
      "len(corners.p)=260, len(boards)=3\n",
      "len(corners.p)=330, len(boards)=3\n",
      "len(corners.p)=342, len(boards)=3\n",
      "len(corners.p)=353, len(boards)=4\n",
      "len(corners.p)=327, len(boards)=2\n",
      "len(corners.p)=376, len(boards)=3\n",
      "len(corners.p)=403, len(boards)=3\n",
      "len(corners.p)=289, len(boards)=2\n",
      "len(corners.p)=288, len(boards)=2\n",
      "len(corners.p)=246, len(boards)=2\n",
      "len(corners.p)=177, len(boards)=2\n",
      "len(corners.p)=198, len(boards)=2\n",
      "len(corners.p)=223, len(boards)=2\n",
      "len(corners.p)=273, len(boards)=3\n",
      "len(corners.p)=293, len(boards)=3\n",
      "len(corners.p)=312, len(boards)=3\n",
      "len(corners.p)=354, len(boards)=3\n",
      "len(corners.p)=427, len(boards)=4\n",
      "len(corners.p)=247, len(boards)=2\n",
      "len(corners.p)=309, len(boards)=3\n",
      "len(corners.p)=340, len(boards)=3\n",
      "len(corners.p)=358, len(boards)=3\n",
      "len(corners.p)=372, len(boards)=3\n",
      "len(corners.p)=244, len(boards)=2\n",
      "len(corners.p)=238, len(boards)=2\n",
      "len(corners.p)=224, len(boards)=2\n",
      "len(corners.p)=176, len(boards)=3\n",
      "len(corners.p)=291, len(boards)=3\n",
      "len(corners.p)=182, len(boards)=2\n",
      "len(corners.p)=390, len(boards)=3\n",
      "len(corners.p)=274, len(boards)=2\n",
      "len(corners.p)=349, len(boards)=3\n",
      "len(corners.p)=362, len(boards)=3\n",
      "len(corners.p)=217, len(boards)=2\n",
      "len(corners.p)=214, len(boards)=2\n",
      "len(corners.p)=198, len(boards)=3\n",
      "len(corners.p)=210, len(boards)=2\n",
      "len(corners.p)=369, len(boards)=4\n",
      "len(corners.p)=380, len(boards)=3\n",
      "len(corners.p)=162, len(boards)=2\n",
      "len(corners.p)=223, len(boards)=2\n",
      "len(corners.p)=93, len(boards)=1\n",
      "len(corners.p)=90, len(boards)=1\n",
      "len(corners.p)=88, len(boards)=1\n",
      "len(corners.p)=86, len(boards)=1\n",
      "len(corners.p)=90, len(boards)=1\n",
      "len(corners.p)=90, len(boards)=1\n",
      "len(corners.p)=89, len(boards)=1\n",
      "len(corners.p)=86, len(boards)=1\n",
      "len(corners.p)=81, len(boards)=1\n",
      "len(corners.p)=83, len(boards)=1\n",
      "len(corners.p)=105, len(boards)=1\n",
      "len(corners.p)=99, len(boards)=1\n",
      "len(corners.p)=98, len(boards)=1\n",
      "len(corners.p)=91, len(boards)=1\n",
      "len(corners.p)=85, len(boards)=1\n",
      "len(corners.p)=100, len(boards)=1\n",
      "len(corners.p)=101, len(boards)=1\n",
      "len(corners.p)=100, len(boards)=1\n",
      "len(corners.p)=92, len(boards)=1\n",
      "len(corners.p)=90, len(boards)=1\n",
      "len(corners.p)=87, len(boards)=1\n",
      "len(corners.p)=88, len(boards)=1\n",
      "len(corners.p)=86, len(boards)=1\n",
      "len(corners.p)=82, len(boards)=1\n",
      "len(corners.p)=104, len(boards)=1\n",
      "len(corners.p)=99, len(boards)=1\n",
      "len(corners.p)=91, len(boards)=1\n",
      "len(corners.p)=87, len(boards)=1\n",
      "len(corners.p)=145, len(boards)=1\n",
      "len(corners.p)=153, len(boards)=1\n",
      "len(corners.p)=152, len(boards)=1\n",
      "len(corners.p)=185, len(boards)=1\n",
      "len(corners.p)=183, len(boards)=1\n",
      "len(corners.p)=146, len(boards)=1\n",
      "len(corners.p)=148, len(boards)=1\n",
      "len(corners.p)=156, len(boards)=1\n",
      "len(corners.p)=190, len(boards)=1\n",
      "len(corners.p)=151, len(boards)=1\n",
      "len(corners.p)=149, len(boards)=1\n",
      "len(corners.p)=152, len(boards)=1\n",
      "len(corners.p)=428, len(boards)=1\n",
      "len(corners.p)=430, len(boards)=1\n",
      "len(corners.p)=423, len(boards)=1\n",
      "len(corners.p)=421, len(boards)=1\n",
      "len(corners.p)=334, len(boards)=1\n",
      "len(corners.p)=359, len(boards)=1\n",
      "len(corners.p)=365, len(boards)=1\n",
      "len(corners.p)=375, len(boards)=1\n",
      "len(corners.p)=421, len(boards)=1\n",
      "len(corners.p)=434, len(boards)=1\n",
      "len(corners.p)=254, len(boards)=1\n",
      "len(corners.p)=258, len(boards)=1\n",
      "len(corners.p)=265, len(boards)=1\n",
      "len(corners.p)=287, len(boards)=1\n",
      "len(corners.p)=316, len(boards)=1\n",
      "len(corners.p)=420, len(boards)=1\n",
      "len(corners.p)=424, len(boards)=1\n",
      "len(corners.p)=428, len(boards)=1\n",
      "len(corners.p)=432, len(boards)=1\n",
      "len(corners.p)=216, len(boards)=1\n",
      "len(corners.p)=222, len(boards)=1\n",
      "len(corners.p)=254, len(boards)=1\n",
      "len(corners.p)=395, len(boards)=1\n",
      "len(corners.p)=406, len(boards)=1\n",
      "len(corners.p)=419, len(boards)=1\n",
      "len(corners.p)=434, len(boards)=1\n",
      "len(corners.p)=434, len(boards)=1\n",
      "len(corners.p)=265, len(boards)=1\n",
      "len(corners.p)=303, len(boards)=1\n",
      "len(corners.p)=317, len(boards)=1\n",
      "len(corners.p)=331, len(boards)=1\n",
      "len(corners.p)=359, len(boards)=1\n",
      "len(corners.p)=385, len(boards)=1\n",
      "len(corners.p)=407, len(boards)=1\n",
      "len(corners.p)=426, len(boards)=1\n",
      "len(corners.p)=429, len(boards)=1\n",
      "len(corners.p)=399, len(boards)=1\n",
      "len(corners.p)=414, len(boards)=1\n",
      "len(corners.p)=424, len(boards)=1\n",
      "len(corners.p)=269, len(boards)=1\n",
      "len(corners.p)=411, len(boards)=1\n",
      "len(corners.p)=426, len(boards)=1\n",
      "len(corners.p)=271, len(boards)=1\n",
      "len(corners.p)=287, len(boards)=1\n",
      "len(corners.p)=345, len(boards)=1\n",
      "len(corners.p)=426, len(boards)=1\n",
      "len(corners.p)=334, len(boards)=1\n",
      "len(corners.p)=335, len(boards)=1\n",
      "len(corners.p)=429, len(boards)=1\n",
      "len(corners.p)=432, len(boards)=1\n",
      "len(corners.p)=306, len(boards)=1\n",
      "len(corners.p)=303, len(boards)=1\n",
      "len(corners.p)=306, len(boards)=1\n",
      "len(corners.p)=306, len(boards)=1\n",
      "len(corners.p)=304, len(boards)=1\n",
      "len(corners.p)=312, len(boards)=1\n",
      "len(corners.p)=318, len(boards)=1\n",
      "len(corners.p)=320, len(boards)=1\n",
      "len(corners.p)=321, len(boards)=1\n",
      "len(corners.p)=312, len(boards)=1\n",
      "len(corners.p)=312, len(boards)=1\n",
      "len(corners.p)=311, len(boards)=1\n",
      "len(corners.p)=311, len(boards)=1\n",
      "len(corners.p)=316, len(boards)=1\n",
      "len(corners.p)=311, len(boards)=1\n",
      "len(corners.p)=313, len(boards)=1\n",
      "len(corners.p)=314, len(boards)=1\n",
      "len(corners.p)=308, len(boards)=1\n",
      "len(corners.p)=302, len(boards)=1\n",
      "len(corners.p)=303, len(boards)=1\n",
      "len(corners.p)=258, len(boards)=1\n",
      "len(corners.p)=247, len(boards)=1\n",
      "len(corners.p)=234, len(boards)=1\n",
      "len(corners.p)=231, len(boards)=1\n",
      "len(corners.p)=276, len(boards)=1\n",
      "len(corners.p)=317, len(boards)=1\n",
      "len(corners.p)=311, len(boards)=1\n",
      "len(corners.p)=317, len(boards)=1\n",
      "len(corners.p)=300, len(boards)=1\n",
      "len(corners.p)=288, len(boards)=1\n",
      "len(corners.p)=306, len(boards)=1\n",
      "len(corners.p)=322, len(boards)=1\n",
      "len(corners.p)=327, len(boards)=1\n",
      "len(corners.p)=311, len(boards)=1\n",
      "len(corners.p)=315, len(boards)=1\n",
      "len(corners.p)=308, len(boards)=1\n",
      "len(corners.p)=251, len(boards)=1\n",
      "len(corners.p)=243, len(boards)=1\n",
      "len(corners.p)=268, len(boards)=1\n",
      "len(corners.p)=315, len(boards)=1\n",
      "len(corners.p)=299, len(boards)=1\n",
      "len(corners.p)=285, len(boards)=1\n",
      "len(corners.p)=284, len(boards)=1\n",
      "len(corners.p)=158, len(boards)=0\n",
      "len(corners.p)=166, len(boards)=0\n",
      "len(corners.p)=150, len(boards)=0\n",
      "len(corners.p)=135, len(boards)=0\n",
      "len(corners.p)=85, len(boards)=0\n"
     ]
    },
    {
     "ename": "KeyboardInterrupt",
     "evalue": "",
     "output_type": "error",
     "traceback": [
      "\u001b[0;31m---------------------------------------------------------------------------\u001b[0m",
      "\u001b[0;31mKeyboardInterrupt\u001b[0m                         Traceback (most recent call last)",
      "Cell \u001b[0;32mIn[12], line 2\u001b[0m\n\u001b[1;32m      1\u001b[0m \u001b[38;5;28;01mfor\u001b[39;00m f, e \u001b[38;5;129;01min\u001b[39;00m tqdm(features_and_entries):\n\u001b[0;32m----> 2\u001b[0m     \u001b[43m_process_entry\u001b[49m\u001b[43m(\u001b[49m\u001b[43me\u001b[49m\u001b[43m)\u001b[49m\n",
      "File \u001b[0;32m~/edu/masters/sem_3/camera_calibration/notebooks/../calibration/benchmark/features.py:71\u001b[0m, in \u001b[0;36m_process_entry\u001b[0;34m(entry)\u001b[0m\n\u001b[1;32m     64\u001b[0m params\u001b[38;5;241m.\u001b[39mshow_processing \u001b[38;5;241m=\u001b[39m \u001b[38;5;28;01mFalse\u001b[39;00m\n\u001b[1;32m     65\u001b[0m params\u001b[38;5;241m.\u001b[39mcorner_type \u001b[38;5;241m=\u001b[39m (\n\u001b[1;32m     66\u001b[0m     CornerType\u001b[38;5;241m.\u001b[39mSaddlePoint\n\u001b[1;32m     67\u001b[0m     \u001b[38;5;66;03m# if target.type == BoardType.RECTANGULAR\u001b[39;00m\n\u001b[1;32m     68\u001b[0m     \u001b[38;5;66;03m# else CornerType.MonkeySaddlePoint\u001b[39;00m\n\u001b[1;32m     69\u001b[0m )\n\u001b[0;32m---> 71\u001b[0m corners \u001b[38;5;241m=\u001b[39m \u001b[43mfind_corners\u001b[49m\u001b[43m(\u001b[49m\u001b[43mimg\u001b[49m\u001b[43m,\u001b[49m\u001b[43m \u001b[49m\u001b[43mparams\u001b[49m\u001b[43m)\u001b[49m\n\u001b[1;32m     72\u001b[0m boards \u001b[38;5;241m=\u001b[39m boards_from_corners(img, corners, params)\n\u001b[1;32m     74\u001b[0m \u001b[38;5;28mprint\u001b[39m(\u001b[38;5;124mf\u001b[39m\u001b[38;5;124m\"\u001b[39m\u001b[38;5;132;01m{\u001b[39;00m\u001b[38;5;28mlen\u001b[39m(corners\u001b[38;5;241m.\u001b[39mp)\u001b[38;5;132;01m=}\u001b[39;00m\u001b[38;5;124m, \u001b[39m\u001b[38;5;132;01m{\u001b[39;00m\u001b[38;5;28mlen\u001b[39m(boards)\u001b[38;5;132;01m=}\u001b[39;00m\u001b[38;5;124m\"\u001b[39m)\n",
      "\u001b[0;31mKeyboardInterrupt\u001b[0m: "
     ]
    }
   ],
   "source": [
    "for f, e in tqdm(features_and_entries):\n",
    "    _process_entry(e)"
   ]
  },
  {
   "cell_type": "code",
   "execution_count": null,
   "id": "fb29457a-a12d-471e-8db7-58e05ea3cb6f",
   "metadata": {},
   "outputs": [],
   "source": []
  }
 ],
 "metadata": {
  "kernelspec": {
   "display_name": "Python 3 (ipykernel)",
   "language": "python",
   "name": "python3"
  },
  "language_info": {
   "codemirror_mode": {
    "name": "ipython",
    "version": 3
   },
   "file_extension": ".py",
   "mimetype": "text/x-python",
   "name": "python",
   "nbconvert_exporter": "python",
   "pygments_lexer": "ipython3",
   "version": "3.11.3"
  }
 },
 "nbformat": 4,
 "nbformat_minor": 5
}
