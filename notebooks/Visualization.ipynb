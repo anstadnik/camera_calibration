{
 "cells": [
  {
   "cell_type": "code",
   "execution_count": null,
   "id": "11bb95a3-edf5-429d-8acb-cefc643937e0",
   "metadata": {
    "tags": []
   },
   "outputs": [],
   "source": [
    "import pandas as pd\n",
    "import plotly.express as px\n",
    "\n",
    "import plotly.io as pio\n",
    "pio.renderers.default = \"svg\""
   ]
  },
  {
   "cell_type": "code",
   "execution_count": null,
   "id": "891cc3e8-b0fe-495f-8650-199f92adb197",
   "metadata": {
    "tags": []
   },
   "outputs": [],
   "source": [
    "df = pd.read_pickle(\"../data.pkl\")"
   ]
  },
  {
   "cell_type": "code",
   "execution_count": null,
   "id": "911b5be7-338b-4e59-a320-73abd6b78e6c",
   "metadata": {
    "tags": []
   },
   "outputs": [],
   "source": [
    "df.columns"
   ]
  },
  {
   "cell_type": "code",
   "execution_count": null,
   "id": "46a87f17-7c19-435f-8778-ebe9c9a05c94",
   "metadata": {
    "tags": []
   },
   "outputs": [],
   "source": [
    "px.scatter(df, x=\"lambda_gt_0\", y=\"lambda_gt_1\", color=\"had_ve\")"
   ]
  },
  {
   "cell_type": "code",
   "execution_count": null,
   "id": "b9e7e78c-6437-49c5-b13c-a49a271eacd8",
   "metadata": {
    "tags": []
   },
   "outputs": [],
   "source": [
    "px.scatter(df, x=\"lambda_gt_0\", y=\"lambda_gt_1\", color=\"not_enough_points\")"
   ]
  },
  {
   "cell_type": "code",
   "execution_count": null,
   "id": "8b53f35f-46ea-432a-bbc9-359732f6c6f8",
   "metadata": {
    "tags": []
   },
   "outputs": [],
   "source": [
    "df[\"had_ve\"].unique()"
   ]
  },
  {
   "cell_type": "code",
   "execution_count": null,
   "id": "7cebc289-afc6-4ab1-bf7e-d79aca185f7e",
   "metadata": {
    "tags": []
   },
   "outputs": [],
   "source": [
    "df[\"not_enough_points\"].isna().sum()"
   ]
  },
  {
   "cell_type": "code",
   "execution_count": null,
   "id": "58cef9ca-b467-4c79-9486-c762df32f52d",
   "metadata": {
    "tags": []
   },
   "outputs": [],
   "source": [
    "px.scatter(\n",
    "    df[(~df[\"not_enough_points\"]) & (~df[\"had_ve\"])],\n",
    "    x=\"lambda_gt_0\",\n",
    "    y=\"lambda_gt_1\",\n",
    ")"
   ]
  },
  {
   "cell_type": "code",
   "execution_count": null,
   "id": "44465969-bc34-4044-8a2a-7e6596118e10",
   "metadata": {
    "tags": []
   },
   "outputs": [],
   "source": [
    "df = pd.read_pickle(\"../data2.pkl\")"
   ]
  },
  {
   "cell_type": "code",
   "execution_count": null,
   "id": "48da3ec2-72e5-436d-a8a8-7c146735ec76",
   "metadata": {
    "tags": []
   },
   "outputs": [],
   "source": [
    "df[df[\"not_enough_points\"]].shape, df[df[\"had_ve\"]].shape"
   ]
  },
  {
   "cell_type": "code",
   "execution_count": null,
   "id": "6ef76422-14f4-4bec-89ac-0ee3263b75a4",
   "metadata": {},
   "outputs": [],
   "source": []
  }
 ],
 "metadata": {
  "kernelspec": {
   "display_name": "Python 3 (ipykernel)",
   "language": "python",
   "name": "python3"
  },
  "language_info": {
   "codemirror_mode": {
    "name": "ipython",
    "version": 3
   },
   "file_extension": ".py",
   "mimetype": "text/x-python",
   "name": "python",
   "nbconvert_exporter": "python",
   "pygments_lexer": "ipython3",
   "version": "3.10.11"
  }
 },
 "nbformat": 4,
 "nbformat_minor": 5
}
