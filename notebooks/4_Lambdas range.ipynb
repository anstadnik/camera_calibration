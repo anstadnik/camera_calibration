{
 "cells": [
  {
   "cell_type": "code",
   "execution_count": 2,
   "id": "b50d50d4-8ee4-4e74-bfab-3b269b122fcd",
   "metadata": {},
   "outputs": [],
   "source": [
    "%display latex"
   ]
  },
  {
   "cell_type": "code",
   "execution_count": 3,
   "id": "9efbbe78-1032-4321-8ebb-1999d3ab55b9",
   "metadata": {
    "tags": []
   },
   "outputs": [],
   "source": [
    "import sys\n",
    "\n",
    "sys.path.append(\"..\")\n",
    "from calibration.projector.projector import Projector"
   ]
  },
  {
   "cell_type": "code",
   "execution_count": 4,
   "id": "ed48eb39-c150-47de-a2ff-8f95fca99c29",
   "metadata": {
    "tags": []
   },
   "outputs": [
    {
     "data": {
      "text/html": [
       "<html>\\(\\displaystyle \\lambda_{2} r^{4} + \\lambda_{1} r^{2} + 1\\)</html>"
      ],
      "text/latex": [
       "$\\displaystyle \\lambda_{2} r^{4} + \\lambda_{1} r^{2} + 1$"
      ],
      "text/plain": [
       "lambda_2*r^4 + lambda_1*r^2 + 1"
      ]
     },
     "execution_count": 4,
     "metadata": {},
     "output_type": "execute_result"
    }
   ],
   "source": [
    "lambda_1, lambda_2, lambda_3 = var(\"lambda_1 lambda_2 lambda_3\", domain=\"real\")\n",
    "\n",
    "\n",
    "def psi(r, n=2):\n",
    "    assert 1 <= n <= 3\n",
    "    ret = 1 + lambda_1 * r ^ 2\n",
    "    if n >= 2:\n",
    "        ret += lambda_2 * r ^ 4\n",
    "    if n == 3:\n",
    "        ret += lambda_3 * r ^ 6\n",
    "    return ret\n",
    "\n",
    "\n",
    "psi(var(\"r\"))"
   ]
  },
  {
   "cell_type": "code",
   "execution_count": 5,
   "id": "21aef6f5-6024-4f19-a038-e12d603b88ee",
   "metadata": {
    "tags": []
   },
   "outputs": [
    {
     "data": {
      "text/html": [
       "<html>\\(\\displaystyle \\left(\\begin{array}{rrr}\n",
       "1166.6666666666667 & 0.0 & 600.0 \\\\\n",
       "0.0 & 1166.6666666666667 & 400.0 \\\\\n",
       "0.0 & 0.0 & 1.0\n",
       "\\end{array}\\right)\\)</html>"
      ],
      "text/latex": [
       "$\\displaystyle \\left(\\begin{array}{rrr}\n",
       "1166.6666666666667 & 0.0 & 600.0 \\\\\n",
       "0.0 & 1166.6666666666667 & 400.0 \\\\\n",
       "0.0 & 0.0 & 1.0\n",
       "\\end{array}\\right)$"
      ],
      "text/plain": [
       "[1166.6666666666667                0.0              600.0]\n",
       "[               0.0 1166.6666666666667              400.0]\n",
       "[               0.0                0.0                1.0]"
      ]
     },
     "execution_count": 5,
     "metadata": {},
     "output_type": "execute_result"
    }
   ],
   "source": [
    "IM = matrix(Projector().camera.intrinsic_matrix)\n",
    "IM"
   ]
  },
  {
   "cell_type": "code",
   "execution_count": 6,
   "id": "c9fb2dee-f30c-42fe-b2ab-915ab4b50fc1",
   "metadata": {
    "tags": []
   },
   "outputs": [
    {
     "data": {
      "text/html": [
       "<html>\\(\\displaystyle \\left(\\begin{array}{rrr}\n",
       "0.0008571428571428571 & 0.0 & -0.5142857142857142 \\\\\n",
       "0.0 & 0.0008571428571428571 & -0.34285714285714286 \\\\\n",
       "0.0 & 0.0 & 1.0\n",
       "\\end{array}\\right)\\)</html>"
      ],
      "text/latex": [
       "$\\displaystyle \\left(\\begin{array}{rrr}\n",
       "0.0008571428571428571 & 0.0 & -0.5142857142857142 \\\\\n",
       "0.0 & 0.0008571428571428571 & -0.34285714285714286 \\\\\n",
       "0.0 & 0.0 & 1.0\n",
       "\\end{array}\\right)$"
      ],
      "text/plain": [
       "[0.0008571428571428571                   0.0   -0.5142857142857142]\n",
       "[                  0.0 0.0008571428571428571  -0.34285714285714286]\n",
       "[                  0.0                   0.0                   1.0]"
      ]
     },
     "execution_count": 6,
     "metadata": {},
     "output_type": "execute_result"
    }
   ],
   "source": [
    "IM.inverse()"
   ]
  },
  {
   "cell_type": "code",
   "execution_count": 7,
   "id": "d3d66b1d-efe3-44d4-9240-c39a400ba91a",
   "metadata": {
    "tags": []
   },
   "outputs": [
    {
     "data": {
      "text/html": [
       "<html>\\(\\displaystyle \\left(\\left(0.30000000000000004,\\,0.19714285714285706\\right), 0.35897814156637586, \\left(0.5142857142857142,\\,0.34285714285714286\\right), 0.6180945043652553\\right)\\)</html>"
      ],
      "text/latex": [
       "$\\displaystyle \\left(\\left(0.30000000000000004,\\,0.19714285714285706\\right), 0.35897814156637586, \\left(0.5142857142857142,\\,0.34285714285714286\\right), 0.6180945043652553\\right)$"
      ],
      "text/plain": [
       "((0.30000000000000004, 0.19714285714285706),\n",
       " 0.35897814156637586,\n",
       " (0.5142857142857142, 0.34285714285714286),\n",
       " 0.6180945043652553)"
      ]
     },
     "execution_count": 7,
     "metadata": {},
     "output_type": "execute_result"
    }
   ],
   "source": [
    "res = vector(Projector().camera.resolution)\n",
    "max_point = vector([950, 630])\n",
    "\n",
    "res = vector(res.list() + [1])\n",
    "max_point = vector(max_point.list() + [1])\n",
    "\n",
    "res = IM.inverse() * res\n",
    "max_point = IM.inverse() * max_point\n",
    "\n",
    "assert res[2] == max_point[2] == 1\n",
    "res = res[:2]\n",
    "max_point = max_point[:2]\n",
    "\n",
    "max_r = norm(max_point)  # non-distorted\n",
    "max_r_hat = norm(res)  # distorted\n",
    "max_point, max_r, res, max_r_hat"
   ]
  },
  {
   "cell_type": "code",
   "execution_count": 7,
   "id": "6d20e1e6-a7a1-4ea2-b6d3-905c61232cf7",
   "metadata": {
    "tags": []
   },
   "outputs": [
    {
     "data": {
      "text/html": [
       "<html>\\(\\displaystyle \\left[0 &lt; 0.38204081632653053 \\, \\lambda_{1} + 0.14595518533944182 \\, \\lambda_{2} + 1, 0.38204081632653053 \\, \\lambda_{1} + 0.14595518533944182 \\, \\lambda_{2} + 1 &lt; 0.35897814156637586\\right]\\)</html>"
      ],
      "text/latex": [
       "$\\displaystyle \\left[0 < 0.38204081632653053 \\, \\lambda_{1} + 0.14595518533944182 \\, \\lambda_{2} + 1, 0.38204081632653053 \\, \\lambda_{1} + 0.14595518533944182 \\, \\lambda_{2} + 1 < 0.35897814156637586\\right]$"
      ],
      "text/plain": [
       "[0 < 0.38204081632653053*lambda_1 + 0.14595518533944182*lambda_2 + 1,\n",
       " 0.38204081632653053*lambda_1 + 0.14595518533944182*lambda_2 + 1 < 0.35897814156637586]"
      ]
     },
     "execution_count": 7,
     "metadata": {},
     "output_type": "execute_result"
    }
   ],
   "source": [
    "ineqs = [0 < psi(max_r_hat), psi(max_r_hat) < max_r]\n",
    "ineqs"
   ]
  },
  {
   "cell_type": "code",
   "execution_count": 8,
   "id": "3b55bbb6-898f-4065-9144-bc878f74884c",
   "metadata": {
    "tags": []
   },
   "outputs": [
    {
     "data": {
      "text/html": [
       "<html>\\(\\displaystyle \\left[-2.617521367521368 \\, \\lambda_{1} - 6.851418109430933 &lt; \\lambda_{2}, \\lambda_{2} &lt; -2.617521367521368 \\, \\lambda_{1} - 4.391908769413204\\right]\\)</html>"
      ],
      "text/latex": [
       "$\\displaystyle \\left[-2.617521367521368 \\, \\lambda_{1} - 6.851418109430933 < \\lambda_{2}, \\lambda_{2} < -2.617521367521368 \\, \\lambda_{1} - 4.391908769413204\\right]$"
      ],
      "text/plain": [
       "[-2.617521367521368*lambda_1 - 6.851418109430933 < lambda_2,\n",
       " lambda_2 < -2.617521367521368*lambda_1 - 4.391908769413204]"
      ]
     },
     "execution_count": 8,
     "metadata": {},
     "output_type": "execute_result"
    }
   ],
   "source": [
    "sol = solve_ineq(ineqs)\n",
    "assert len(sol) == 1\n",
    "sol[0]"
   ]
  },
  {
   "cell_type": "code",
   "execution_count": 19,
   "id": "e6c65501-68a3-4b43-b453-2b436ea9c821",
   "metadata": {
    "tags": []
   },
   "outputs": [
    {
     "data": {
      "text/html": [
       "<html>\\(\\displaystyle \\left(5.551115123125783 \\times 10^{-17}\\right) \\, \\lambda_{1}\\)</html>"
      ],
      "text/latex": [
       "$\\displaystyle \\left(5.551115123125783 \\times 10^{-17}\\right) \\, \\lambda_{1}$"
      ],
      "text/plain": [
       "(5.551115123125783e-17)*lambda_1"
      ]
     },
     "execution_count": 19,
     "metadata": {},
     "output_type": "execute_result"
    }
   ],
   "source": [
    "psi(max_r_hat).subs(lambda_2 == sol[0][0].lhs())"
   ]
  },
  {
   "cell_type": "code",
   "execution_count": 21,
   "id": "247f592e-4ccd-4a12-b5db-b0820a07b939",
   "metadata": {
    "tags": []
   },
   "outputs": [
    {
     "data": {
      "text/html": [
       "<html>\\(\\displaystyle \\left(5.551115123125783 \\times 10^{-17}\\right) \\, \\lambda_{1} + 0.358978141566376\\)</html>"
      ],
      "text/latex": [
       "$\\displaystyle \\left(5.551115123125783 \\times 10^{-17}\\right) \\, \\lambda_{1} + 0.358978141566376$"
      ],
      "text/plain": [
       "(5.551115123125783e-17)*lambda_1 + 0.358978141566376"
      ]
     },
     "execution_count": 21,
     "metadata": {},
     "output_type": "execute_result"
    }
   ],
   "source": [
    "psi(max_r_hat).subs(lambda_2 == sol[0][1].rhs())"
   ]
  },
  {
   "cell_type": "code",
   "execution_count": 9,
   "id": "e16abb4c-e57d-4cfb-922e-781f6f55f12c",
   "metadata": {
    "tags": []
   },
   "outputs": [
    {
     "data": {
      "text/html": [
       "<html>\\(\\displaystyle -2.61752136752137 \\, \\lambda_{1} - 6.85141810943093 &lt; \\lambda_{2}\\)</html>"
      ],
      "text/latex": [
       "$\\displaystyle -2.61752136752137 \\, \\lambda_{1} - 6.85141810943093 < \\lambda_{2}$"
      ],
      "text/plain": [
       "-2.61752136752137*lambda_1 - 6.85141810943093 < lambda_2"
      ]
     },
     "metadata": {},
     "output_type": "display_data"
    },
    {
     "data": {
      "text/html": [
       "<html>\\(\\displaystyle \\lambda_{2} &lt; -2.61752136752137 \\, \\lambda_{1} - 4.39190876941320\\)</html>"
      ],
      "text/latex": [
       "$\\displaystyle \\lambda_{2} < -2.61752136752137 \\, \\lambda_{1} - 4.39190876941320$"
      ],
      "text/plain": [
       "lambda_2 < -2.61752136752137*lambda_1 - 4.39190876941320"
      ]
     },
     "metadata": {},
     "output_type": "display_data"
    }
   ],
   "source": [
    "def approx_rationals(expr):\n",
    "    if expr.operator() is None:  # Reached a leaf node (number or variable)\n",
    "        return numerical_approx(expr) if expr in QQ else expr\n",
    "    else:\n",
    "        return expr.operator()(\n",
    "            *[approx_rationals(operand) for operand in expr.operands()]\n",
    "        )\n",
    "\n",
    "\n",
    "for s in sol[0]:\n",
    "    display(approx_rationals(s))"
   ]
  },
  {
   "cell_type": "code",
   "execution_count": 10,
   "id": "6794340c-c777-458d-9d3d-5850109a5745",
   "metadata": {
    "tags": []
   },
   "outputs": [
    {
     "data": {
      "text/html": [
       "<html>\\(\\displaystyle -2.61752136752137 \\, \\lambda_{1} - 6.85141810943093 &lt; \\lambda_{2}\\)</html>"
      ],
      "text/latex": [
       "$\\displaystyle -2.61752136752137 \\, \\lambda_{1} - 6.85141810943093 < \\lambda_{2}$"
      ],
      "text/plain": [
       "-2.61752136752137*lambda_1 - 6.85141810943093 < lambda_2"
      ]
     },
     "metadata": {},
     "output_type": "display_data"
    },
    {
     "data": {
      "text/html": [
       "<html>\\(\\displaystyle \\lambda_{2} &lt; -2.61752136752137 \\, \\lambda_{1} - 4.39190876941320\\)</html>"
      ],
      "text/latex": [
       "$\\displaystyle \\lambda_{2} < -2.61752136752137 \\, \\lambda_{1} - 4.39190876941320$"
      ],
      "text/plain": [
       "lambda_2 < -2.61752136752137*lambda_1 - 4.39190876941320"
      ]
     },
     "metadata": {},
     "output_type": "display_data"
    }
   ],
   "source": [
    "for s in solve(sol[0], lambda_2)[0]:\n",
    "    display(approx_rationals(s))"
   ]
  },
  {
   "cell_type": "code",
   "execution_count": 11,
   "id": "852eb71d-e878-48cc-8ddf-3f7f1d957ba9",
   "metadata": {
    "tags": []
   },
   "outputs": [
    {
     "data": {
      "text/html": [
       "<html>\\(\\displaystyle \\lambda_{1} = \\left(-5\\right)\\)</html>"
      ],
      "text/latex": [
       "$\\displaystyle \\lambda_{1} = \\left(-5\\right)$"
      ],
      "text/plain": [
       "lambda_1 == -5"
      ]
     },
     "metadata": {},
     "output_type": "display_data"
    },
    {
     "data": {
      "text/html": [
       "<html>\\(\\displaystyle 6.23618872817591 &lt; \\lambda_{2}\\)</html>"
      ],
      "text/latex": [
       "$\\displaystyle 6.23618872817591 < \\lambda_{2}$"
      ],
      "text/plain": [
       "6.23618872817591 < lambda_2"
      ]
     },
     "metadata": {},
     "output_type": "display_data"
    },
    {
     "data": {
      "text/html": [
       "<html>\\(\\displaystyle \\lambda_{2} &lt; 8.69569806819364\\)</html>"
      ],
      "text/latex": [
       "$\\displaystyle \\lambda_{2} < 8.69569806819364$"
      ],
      "text/plain": [
       "lambda_2 < 8.69569806819364"
      ]
     },
     "metadata": {},
     "output_type": "display_data"
    },
    {
     "name": "stdout",
     "output_type": "stream",
     "text": [
      "lambda_2 range: 2.45950934001773\n",
      "\n"
     ]
    },
    {
     "data": {
      "text/html": [
       "<html>\\(\\displaystyle \\lambda_{1} = \\left(-1\\right)\\)</html>"
      ],
      "text/latex": [
       "$\\displaystyle \\lambda_{1} = \\left(-1\\right)$"
      ],
      "text/plain": [
       "lambda_1 == -1"
      ]
     },
     "metadata": {},
     "output_type": "display_data"
    },
    {
     "data": {
      "text/html": [
       "<html>\\(\\displaystyle \\left(-4.23389674190957\\right) &lt; \\lambda_{2}\\)</html>"
      ],
      "text/latex": [
       "$\\displaystyle \\left(-4.23389674190957\\right) < \\lambda_{2}$"
      ],
      "text/plain": [
       "-4.23389674190957 < lambda_2"
      ]
     },
     "metadata": {},
     "output_type": "display_data"
    },
    {
     "data": {
      "text/html": [
       "<html>\\(\\displaystyle \\lambda_{2} &lt; \\left(-1.77438740189184\\right)\\)</html>"
      ],
      "text/latex": [
       "$\\displaystyle \\lambda_{2} < \\left(-1.77438740189184\\right)$"
      ],
      "text/plain": [
       "lambda_2 < -1.77438740189184"
      ]
     },
     "metadata": {},
     "output_type": "display_data"
    },
    {
     "name": "stdout",
     "output_type": "stream",
     "text": [
      "lambda_2 range: 2.45950934001773\n",
      "\n"
     ]
    },
    {
     "data": {
      "text/html": [
       "<html>\\(\\displaystyle \\lambda_{1} = 0\\)</html>"
      ],
      "text/latex": [
       "$\\displaystyle \\lambda_{1} = 0$"
      ],
      "text/plain": [
       "lambda_1 == 0"
      ]
     },
     "metadata": {},
     "output_type": "display_data"
    },
    {
     "data": {
      "text/html": [
       "<html>\\(\\displaystyle \\left(-6.85141810943093\\right) &lt; \\lambda_{2}\\)</html>"
      ],
      "text/latex": [
       "$\\displaystyle \\left(-6.85141810943093\\right) < \\lambda_{2}$"
      ],
      "text/plain": [
       "-6.85141810943093 < lambda_2"
      ]
     },
     "metadata": {},
     "output_type": "display_data"
    },
    {
     "data": {
      "text/html": [
       "<html>\\(\\displaystyle \\lambda_{2} &lt; \\left(-4.39190876941320\\right)\\)</html>"
      ],
      "text/latex": [
       "$\\displaystyle \\lambda_{2} < \\left(-4.39190876941320\\right)$"
      ],
      "text/plain": [
       "lambda_2 < -4.39190876941320"
      ]
     },
     "metadata": {},
     "output_type": "display_data"
    },
    {
     "name": "stdout",
     "output_type": "stream",
     "text": [
      "lambda_2 range: 2.45950934001773\n",
      "\n"
     ]
    },
    {
     "data": {
      "text/html": [
       "<html>\\(\\displaystyle \\lambda_{1} = 1\\)</html>"
      ],
      "text/latex": [
       "$\\displaystyle \\lambda_{1} = 1$"
      ],
      "text/plain": [
       "lambda_1 == 1"
      ]
     },
     "metadata": {},
     "output_type": "display_data"
    },
    {
     "data": {
      "text/html": [
       "<html>\\(\\displaystyle \\left(-9.46893947695230\\right) &lt; \\lambda_{2}\\)</html>"
      ],
      "text/latex": [
       "$\\displaystyle \\left(-9.46893947695230\\right) < \\lambda_{2}$"
      ],
      "text/plain": [
       "-9.46893947695230 < lambda_2"
      ]
     },
     "metadata": {},
     "output_type": "display_data"
    },
    {
     "data": {
      "text/html": [
       "<html>\\(\\displaystyle \\lambda_{2} &lt; \\left(-7.00943013693457\\right)\\)</html>"
      ],
      "text/latex": [
       "$\\displaystyle \\lambda_{2} < \\left(-7.00943013693457\\right)$"
      ],
      "text/plain": [
       "lambda_2 < -7.00943013693457"
      ]
     },
     "metadata": {},
     "output_type": "display_data"
    },
    {
     "name": "stdout",
     "output_type": "stream",
     "text": [
      "lambda_2 range: 2.45950934001773\n",
      "\n"
     ]
    },
    {
     "data": {
      "text/html": [
       "<html>\\(\\displaystyle \\lambda_{1} = 5\\)</html>"
      ],
      "text/latex": [
       "$\\displaystyle \\lambda_{1} = 5$"
      ],
      "text/plain": [
       "lambda_1 == 5"
      ]
     },
     "metadata": {},
     "output_type": "display_data"
    },
    {
     "data": {
      "text/html": [
       "<html>\\(\\displaystyle \\left(-19.9390249470378\\right) &lt; \\lambda_{2}\\)</html>"
      ],
      "text/latex": [
       "$\\displaystyle \\left(-19.9390249470378\\right) < \\lambda_{2}$"
      ],
      "text/plain": [
       "-19.9390249470378 < lambda_2"
      ]
     },
     "metadata": {},
     "output_type": "display_data"
    },
    {
     "data": {
      "text/html": [
       "<html>\\(\\displaystyle \\lambda_{2} &lt; \\left(-17.4795156070200\\right)\\)</html>"
      ],
      "text/latex": [
       "$\\displaystyle \\lambda_{2} < \\left(-17.4795156070200\\right)$"
      ],
      "text/plain": [
       "lambda_2 < -17.4795156070200"
      ]
     },
     "metadata": {},
     "output_type": "display_data"
    },
    {
     "name": "stdout",
     "output_type": "stream",
     "text": [
      "lambda_2 range: 2.45950934001773\n",
      "\n"
     ]
    }
   ],
   "source": [
    "for l1 in [-5, -1, 0, 1, 5]:\n",
    "    eq = lambda_1 == l1\n",
    "    display(eq)\n",
    "    for s in solve(sol[0], lambda_2)[0]:\n",
    "        display(approx_rationals(s).subs(eq))\n",
    "    print(\n",
    "        f\"lambda_2 range: {(sol[0][1].subs(eq).rhs() - sol[0][0].subs(eq).lhs()).n()}\"\n",
    "    )\n",
    "    print()"
   ]
  },
  {
   "cell_type": "code",
   "execution_count": 12,
   "id": "739780de-3339-4c5b-9378-22e0b236c08b",
   "metadata": {
    "tags": []
   },
   "outputs": [
    {
     "name": "stdout",
     "output_type": "stream",
     "text": [
      "-2.61752136752137*lambda_1 - 6.85141810943093 < lambda_2\n",
      "lambda_2 < -2.61752136752137*lambda_1 - 4.39190876941320\n"
     ]
    }
   ],
   "source": [
    "for s in solve(sol[0], lambda_2)[0]:\n",
    "    print(approx_rationals(s))"
   ]
  },
  {
   "cell_type": "code",
   "execution_count": null,
   "id": "2e2b2ffb-9986-42d2-b72a-fa679dc9f829",
   "metadata": {},
   "outputs": [],
   "source": []
  }
 ],
 "metadata": {
  "kernelspec": {
   "display_name": "SageMath 9.7",
   "language": "sage",
   "name": "sagemath-9.7"
  },
  "language_info": {
   "codemirror_mode": {
    "name": "ipython",
    "version": 3
   },
   "file_extension": ".py",
   "mimetype": "text/x-python",
   "name": "python",
   "nbconvert_exporter": "python",
   "pygments_lexer": "ipython3",
   "version": "3.10.5"
  }
 },
 "nbformat": 4,
 "nbformat_minor": 5
}
