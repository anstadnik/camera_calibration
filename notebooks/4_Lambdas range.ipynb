{
 "cells": [
  {
   "cell_type": "code",
   "execution_count": 1,
   "id": "b50d50d4-8ee4-4e74-bfab-3b269b122fcd",
   "metadata": {},
   "outputs": [],
   "source": [
    "%display latex"
   ]
  },
  {
   "cell_type": "code",
   "execution_count": 2,
   "id": "ed48eb39-c150-47de-a2ff-8f95fca99c29",
   "metadata": {
    "tags": []
   },
   "outputs": [
    {
     "data": {
      "text/html": [
       "<html>\\(\\displaystyle \\lambda_{2} r^{4} + \\lambda_{1} r^{2} + 1\\)</html>"
      ],
      "text/latex": [
       "$\\displaystyle \\lambda_{2} r^{4} + \\lambda_{1} r^{2} + 1$"
      ],
      "text/plain": [
       "lambda_2*r^4 + lambda_1*r^2 + 1"
      ]
     },
     "execution_count": 2,
     "metadata": {},
     "output_type": "execute_result"
    }
   ],
   "source": [
    "lambda_1, lambda_2, lambda_3 = var(\"lambda_1 lambda_2 lambda_3\", domain=\"real\")\n",
    "\n",
    "\n",
    "def psi(r, n=2):\n",
    "    assert 1 <= n <= 3\n",
    "    ret = 1 + lambda_1 * r ^ 2\n",
    "    if n >= 2:\n",
    "        ret += lambda_2 * r ^ 4\n",
    "    if n == 3:\n",
    "        ret += lambda_3 * r ^ 6\n",
    "    return ret\n",
    "\n",
    "\n",
    "psi(var(\"r\"))"
   ]
  },
  {
   "cell_type": "code",
   "execution_count": 3,
   "id": "d3d66b1d-efe3-44d4-9240-c39a400ba91a",
   "metadata": {
    "tags": []
   },
   "outputs": [
    {
     "data": {
      "text/html": [
       "<html>\\(\\displaystyle \\left(10 \\, \\sqrt{1754}, 418.80783182743846, 200 \\, \\sqrt{13}, 721.1102550927978\\right)\\)</html>"
      ],
      "text/latex": [
       "$\\displaystyle \\left(10 \\, \\sqrt{1754}, 418.80783182743846, 200 \\, \\sqrt{13}, 721.1102550927978\\right)$"
      ],
      "text/plain": [
       "(10*sqrt(1754), 418.80783182743846, 200*sqrt(13), 721.1102550927978)"
      ]
     },
     "execution_count": 3,
     "metadata": {},
     "output_type": "execute_result"
    }
   ],
   "source": [
    "res = vector([1200, 800])\n",
    "max_point = vector([950, 630])\n",
    "\n",
    "max_r = norm(max_point - res / 2)  # non-distorted\n",
    "max_r_hat = norm(res / 2)  # distorted\n",
    "max_r, float(max_r), max_r_hat, float(max_r_hat)"
   ]
  },
  {
   "cell_type": "code",
   "execution_count": 4,
   "id": "6d20e1e6-a7a1-4ea2-b6d3-905c61232cf7",
   "metadata": {
    "tags": []
   },
   "outputs": [
    {
     "data": {
      "text/html": [
       "<html>\\(\\displaystyle \\left[0 &lt; 520000 \\, \\lambda_{1} + 270400000000 \\, \\lambda_{2} + 1, 520000 \\, \\lambda_{1} + 270400000000 \\, \\lambda_{2} + 1 &lt; 10 \\, \\sqrt{1754}\\right]\\)</html>"
      ],
      "text/latex": [
       "$\\displaystyle \\left[0 < 520000 \\, \\lambda_{1} + 270400000000 \\, \\lambda_{2} + 1, 520000 \\, \\lambda_{1} + 270400000000 \\, \\lambda_{2} + 1 < 10 \\, \\sqrt{1754}\\right]$"
      ],
      "text/plain": [
       "[0 < 520000*lambda_1 + 270400000000*lambda_2 + 1,\n",
       " 520000*lambda_1 + 270400000000*lambda_2 + 1 < 10*sqrt(1754)]"
      ]
     },
     "execution_count": 4,
     "metadata": {},
     "output_type": "execute_result"
    }
   ],
   "source": [
    "ineqs = [0 < psi(max_r_hat), psi(max_r_hat) < max_r]\n",
    "ineqs"
   ]
  },
  {
   "cell_type": "code",
   "execution_count": 5,
   "id": "3b55bbb6-898f-4065-9144-bc878f74884c",
   "metadata": {
    "tags": []
   },
   "outputs": [
    {
     "data": {
      "text/html": [
       "<html>\\(\\displaystyle \\left[-520000 \\, \\lambda_{2} - \\frac{1}{520000} &lt; \\lambda_{1}, \\lambda_{1} &lt; -520000 \\, \\lambda_{2} + \\frac{1}{52000} \\, \\sqrt{1754} - \\frac{1}{520000}\\right]\\)</html>"
      ],
      "text/latex": [
       "$\\displaystyle \\left[-520000 \\, \\lambda_{2} - \\frac{1}{520000} < \\lambda_{1}, \\lambda_{1} < -520000 \\, \\lambda_{2} + \\frac{1}{52000} \\, \\sqrt{1754} - \\frac{1}{520000}\\right]$"
      ],
      "text/plain": [
       "[-520000*lambda_2 - 1/520000 < lambda_1,\n",
       " lambda_1 < -520000*lambda_2 + 1/52000*sqrt(1754) - 1/520000]"
      ]
     },
     "execution_count": 5,
     "metadata": {},
     "output_type": "execute_result"
    }
   ],
   "source": [
    "sol = solve(ineqs, (lambda_1, lambda_2))\n",
    "assert len(sol) == 1\n",
    "sol[0]"
   ]
  },
  {
   "cell_type": "code",
   "execution_count": 6,
   "id": "e16abb4c-e57d-4cfb-922e-781f6f55f12c",
   "metadata": {
    "tags": []
   },
   "outputs": [
    {
     "data": {
      "text/html": [
       "<html>\\(\\displaystyle -520000.000000000 \\, \\lambda_{2} - 1.92307692307692 \\times 10^{-6} &lt; \\lambda_{1}\\)</html>"
      ],
      "text/latex": [
       "$\\displaystyle -520000.000000000 \\, \\lambda_{2} - 1.92307692307692 \\times 10^{-6} < \\lambda_{1}$"
      ],
      "text/plain": [
       "-520000.000000000*lambda_2 - 1.92307692307692e-6 < lambda_1"
      ]
     },
     "metadata": {},
     "output_type": "display_data"
    },
    {
     "data": {
      "text/html": [
       "<html>\\(\\displaystyle \\lambda_{1} &lt; -520000.000000000 \\, \\lambda_{2} + 0.000803476599668151\\)</html>"
      ],
      "text/latex": [
       "$\\displaystyle \\lambda_{1} < -520000.000000000 \\, \\lambda_{2} + 0.000803476599668151$"
      ],
      "text/plain": [
       "lambda_1 < -520000.000000000*lambda_2 + 0.000803476599668151"
      ]
     },
     "metadata": {},
     "output_type": "display_data"
    }
   ],
   "source": [
    "def approx_rationals(expr):\n",
    "    if expr.operator() is None:  # Reached a leaf node (number or variable)\n",
    "        return numerical_approx(expr) if expr in QQ else expr\n",
    "    else:\n",
    "        return expr.operator()(\n",
    "            *[approx_rationals(operand) for operand in expr.operands()]\n",
    "        )\n",
    "\n",
    "\n",
    "for s in sol[0]:\n",
    "    display(approx_rationals(s))"
   ]
  },
  {
   "cell_type": "code",
   "execution_count": 7,
   "id": "6794340c-c777-458d-9d3d-5850109a5745",
   "metadata": {
    "tags": []
   },
   "outputs": [
    {
     "data": {
      "text/html": [
       "<html>\\(\\displaystyle -1.92307692307692 \\, \\lambda_{1} - 3.69822485207101 \\times 10^{-6} &lt; 1000000.0 \\, \\lambda_{2}\\)</html>"
      ],
      "text/latex": [
       "$\\displaystyle -1.92307692307692 \\, \\lambda_{1} - 3.69822485207101 \\times 10^{-6} < 1000000.0 \\, \\lambda_{2}$"
      ],
      "text/plain": [
       "-1.92307692307692*lambda_1 - 3.69822485207101e-6 < 1000000.0*lambda_2"
      ]
     },
     "metadata": {},
     "output_type": "display_data"
    },
    {
     "data": {
      "text/html": [
       "<html>\\(\\displaystyle 1000000.0 \\, \\lambda_{2} &lt; -1.92307692307692 \\, \\lambda_{1} + 0.00154514730705414\\)</html>"
      ],
      "text/latex": [
       "$\\displaystyle 1000000.0 \\, \\lambda_{2} < -1.92307692307692 \\, \\lambda_{1} + 0.00154514730705414$"
      ],
      "text/plain": [
       "1000000.0*lambda_2 < -1.92307692307692*lambda_1 + 0.00154514730705414"
      ]
     },
     "metadata": {},
     "output_type": "display_data"
    }
   ],
   "source": [
    "for s in solve(sol[0], lambda_2)[0]:\n",
    "    display(float(1e6) * approx_rationals(s))"
   ]
  },
  {
   "cell_type": "code",
   "execution_count": 8,
   "id": "852eb71d-e878-48cc-8ddf-3f7f1d957ba9",
   "metadata": {
    "tags": []
   },
   "outputs": [
    {
     "data": {
      "text/html": [
       "<html>\\(\\displaystyle \\lambda_{1} = \\left(-5\\right)\\)</html>"
      ],
      "text/latex": [
       "$\\displaystyle \\lambda_{1} = \\left(-5\\right)$"
      ],
      "text/plain": [
       "lambda_1 == -5"
      ]
     },
     "metadata": {},
     "output_type": "display_data"
    },
    {
     "data": {
      "text/html": [
       "<html>\\(\\displaystyle \\left(9.61538091715976 \\times 10^{-6}\\right) &lt; \\lambda_{2}\\)</html>"
      ],
      "text/latex": [
       "$\\displaystyle \\left(9.61538091715976 \\times 10^{-6}\\right) < \\lambda_{2}$"
      ],
      "text/plain": [
       "(9.61538091715976e-6) < lambda_2"
      ]
     },
     "metadata": {},
     "output_type": "display_data"
    },
    {
     "data": {
      "text/html": [
       "<html>\\(\\displaystyle \\lambda_{2} &lt; \\left(9.61692976269167 \\times 10^{-6}\\right)\\)</html>"
      ],
      "text/latex": [
       "$\\displaystyle \\lambda_{2} < \\left(9.61692976269167 \\times 10^{-6}\\right)$"
      ],
      "text/plain": [
       "lambda_2 < (9.61692976269167e-6)"
      ]
     },
     "metadata": {},
     "output_type": "display_data"
    },
    {
     "name": "stdout",
     "output_type": "stream",
     "text": [
      "lambda_2 range: 0.000805399676591228\n",
      "\n"
     ]
    },
    {
     "data": {
      "text/html": [
       "<html>\\(\\displaystyle \\lambda_{1} = \\left(-1\\right)\\)</html>"
      ],
      "text/latex": [
       "$\\displaystyle \\lambda_{1} = \\left(-1\\right)$"
      ],
      "text/plain": [
       "lambda_1 == -1"
      ]
     },
     "metadata": {},
     "output_type": "display_data"
    },
    {
     "data": {
      "text/html": [
       "<html>\\(\\displaystyle \\left(1.92307322485207 \\times 10^{-6}\\right) &lt; \\lambda_{2}\\)</html>"
      ],
      "text/latex": [
       "$\\displaystyle \\left(1.92307322485207 \\times 10^{-6}\\right) < \\lambda_{2}$"
      ],
      "text/plain": [
       "(1.92307322485207e-6) < lambda_2"
      ]
     },
     "metadata": {},
     "output_type": "display_data"
    },
    {
     "data": {
      "text/html": [
       "<html>\\(\\displaystyle \\lambda_{2} &lt; \\left(1.92462207038398 \\times 10^{-6}\\right)\\)</html>"
      ],
      "text/latex": [
       "$\\displaystyle \\lambda_{2} < \\left(1.92462207038398 \\times 10^{-6}\\right)$"
      ],
      "text/plain": [
       "lambda_2 < (1.92462207038398e-6)"
      ]
     },
     "metadata": {},
     "output_type": "display_data"
    },
    {
     "name": "stdout",
     "output_type": "stream",
     "text": [
      "lambda_2 range: 0.000805399676591228\n",
      "\n"
     ]
    },
    {
     "data": {
      "text/html": [
       "<html>\\(\\displaystyle \\lambda_{1} = 0\\)</html>"
      ],
      "text/latex": [
       "$\\displaystyle \\lambda_{1} = 0$"
      ],
      "text/plain": [
       "lambda_1 == 0"
      ]
     },
     "metadata": {},
     "output_type": "display_data"
    },
    {
     "data": {
      "text/html": [
       "<html>\\(\\displaystyle \\left(-3.69822485207101 \\times 10^{-12}\\right) &lt; \\lambda_{2}\\)</html>"
      ],
      "text/latex": [
       "$\\displaystyle \\left(-3.69822485207101 \\times 10^{-12}\\right) < \\lambda_{2}$"
      ],
      "text/plain": [
       "(-3.69822485207101e-12) < lambda_2"
      ]
     },
     "metadata": {},
     "output_type": "display_data"
    },
    {
     "data": {
      "text/html": [
       "<html>\\(\\displaystyle \\lambda_{2} &lt; \\left(1.54514730705414 \\times 10^{-9}\\right)\\)</html>"
      ],
      "text/latex": [
       "$\\displaystyle \\lambda_{2} < \\left(1.54514730705414 \\times 10^{-9}\\right)$"
      ],
      "text/plain": [
       "lambda_2 < (1.54514730705414e-9)"
      ]
     },
     "metadata": {},
     "output_type": "display_data"
    },
    {
     "name": "stdout",
     "output_type": "stream",
     "text": [
      "lambda_2 range: 0.000805399676591228\n",
      "\n"
     ]
    },
    {
     "data": {
      "text/html": [
       "<html>\\(\\displaystyle \\lambda_{1} = 1\\)</html>"
      ],
      "text/latex": [
       "$\\displaystyle \\lambda_{1} = 1$"
      ],
      "text/plain": [
       "lambda_1 == 1"
      ]
     },
     "metadata": {},
     "output_type": "display_data"
    },
    {
     "data": {
      "text/html": [
       "<html>\\(\\displaystyle \\left(-1.92308062130178 \\times 10^{-6}\\right) &lt; \\lambda_{2}\\)</html>"
      ],
      "text/latex": [
       "$\\displaystyle \\left(-1.92308062130178 \\times 10^{-6}\\right) < \\lambda_{2}$"
      ],
      "text/plain": [
       "(-1.92308062130178e-6) < lambda_2"
      ]
     },
     "metadata": {},
     "output_type": "display_data"
    },
    {
     "data": {
      "text/html": [
       "<html>\\(\\displaystyle \\lambda_{2} &lt; \\left(-1.92153177576987 \\times 10^{-6}\\right)\\)</html>"
      ],
      "text/latex": [
       "$\\displaystyle \\lambda_{2} < \\left(-1.92153177576987 \\times 10^{-6}\\right)$"
      ],
      "text/plain": [
       "lambda_2 < (-1.92153177576987e-6)"
      ]
     },
     "metadata": {},
     "output_type": "display_data"
    },
    {
     "name": "stdout",
     "output_type": "stream",
     "text": [
      "lambda_2 range: 0.000805399676591228\n",
      "\n"
     ]
    },
    {
     "data": {
      "text/html": [
       "<html>\\(\\displaystyle \\lambda_{1} = 5\\)</html>"
      ],
      "text/latex": [
       "$\\displaystyle \\lambda_{1} = 5$"
      ],
      "text/plain": [
       "lambda_1 == 5"
      ]
     },
     "metadata": {},
     "output_type": "display_data"
    },
    {
     "data": {
      "text/html": [
       "<html>\\(\\displaystyle \\left(-9.61538831360947 \\times 10^{-6}\\right) &lt; \\lambda_{2}\\)</html>"
      ],
      "text/latex": [
       "$\\displaystyle \\left(-9.61538831360947 \\times 10^{-6}\\right) < \\lambda_{2}$"
      ],
      "text/plain": [
       "(-9.61538831360947e-6) < lambda_2"
      ]
     },
     "metadata": {},
     "output_type": "display_data"
    },
    {
     "data": {
      "text/html": [
       "<html>\\(\\displaystyle \\lambda_{2} &lt; \\left(-9.61383946807756 \\times 10^{-6}\\right)\\)</html>"
      ],
      "text/latex": [
       "$\\displaystyle \\lambda_{2} < \\left(-9.61383946807756 \\times 10^{-6}\\right)$"
      ],
      "text/plain": [
       "lambda_2 < (-9.61383946807756e-6)"
      ]
     },
     "metadata": {},
     "output_type": "display_data"
    },
    {
     "name": "stdout",
     "output_type": "stream",
     "text": [
      "lambda_2 range: 0.000805399676591228\n",
      "\n"
     ]
    }
   ],
   "source": [
    "for l1 in [-5, -1, 0, 1, 5]:\n",
    "    eq = lambda_1 == l1\n",
    "    display(eq)\n",
    "    for s in solve(sol[0], lambda_2)[0]:\n",
    "        display(approx_rationals(s).subs(eq))\n",
    "    print(\n",
    "        f\"lambda_2 range: {(sol[0][1].subs(eq).rhs() - sol[0][0].subs(eq).lhs()).n()}\"\n",
    "    )\n",
    "    print()"
   ]
  },
  {
   "cell_type": "code",
   "execution_count": 9,
   "id": "739780de-3339-4c5b-9378-22e0b236c08b",
   "metadata": {
    "tags": []
   },
   "outputs": [
    {
     "name": "stdout",
     "output_type": "stream",
     "text": [
      "-1.92307692307692*lambda_1 - 3.69822485207101e-6 < 1000000.0*lambda_2\n",
      "1000000.0*lambda_2 < -1.92307692307692*lambda_1 + 0.00154514730705414\n"
     ]
    }
   ],
   "source": [
    "for s in solve(sol[0], lambda_2)[0]:\n",
    "    print(float(1e6) * approx_rationals(s))"
   ]
  },
  {
   "cell_type": "code",
   "execution_count": null,
   "id": "8042e622-f6bf-4e14-bd6f-ac46f1e19883",
   "metadata": {},
   "outputs": [],
   "source": []
  }
 ],
 "metadata": {
  "kernelspec": {
   "display_name": "SageMath 9.7",
   "language": "sage",
   "name": "sagemath-9.7"
  },
  "language_info": {
   "codemirror_mode": {
    "name": "ipython",
    "version": 3
   },
   "file_extension": ".py",
   "mimetype": "text/x-python",
   "name": "python",
   "nbconvert_exporter": "python",
   "pygments_lexer": "ipython3",
   "version": "3.10.5"
  }
 },
 "nbformat": 4,
 "nbformat_minor": 5
}
